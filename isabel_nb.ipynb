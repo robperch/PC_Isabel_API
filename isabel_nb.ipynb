{
 "cells": [
  {
   "cell_type": "markdown",
   "id": "85f318e3-3dd3-491e-9ebb-2bd116caf0cc",
   "metadata": {},
   "source": [
    "# Isabel API Usage"
   ]
  },
  {
   "cell_type": "markdown",
   "id": "155324fb-5111-4e6a-a50e-743b5c7e888f",
   "metadata": {},
   "source": [
    "## Imports"
   ]
  },
  {
   "cell_type": "markdown",
   "id": "338858db-16c6-47ae-806f-663b1e37ec29",
   "metadata": {},
   "source": [
    "#### Standard library imports"
   ]
  },
  {
   "cell_type": "code",
   "execution_count": null,
   "id": "37f88368-3a2b-4b3e-9798-fe6ae223ff85",
   "metadata": {
    "tags": []
   },
   "outputs": [],
   "source": [
    "import sys\n",
    "\n",
    "import requests\n",
    "\n",
    "import json\n",
    "\n",
    "import re"
   ]
  },
  {
   "cell_type": "markdown",
   "id": "08c5071d-7f97-4446-89de-80edb8f3d75d",
   "metadata": {
    "tags": []
   },
   "source": [
    "#### Third party imports"
   ]
  },
  {
   "cell_type": "code",
   "execution_count": null,
   "id": "06bef624-fa1b-4699-b6b1-5639a8c134c9",
   "metadata": {},
   "outputs": [],
   "source": [
    "from BeautifulSoup import BeautifulStoneSoup"
   ]
  },
  {
   "cell_type": "markdown",
   "id": "9c5b6538-e89e-435c-90b6-d3978dd1dc1d",
   "metadata": {
    "heading_collapsed": "true",
    "tags": []
   },
   "source": [
    "#### Local application imports"
   ]
  },
  {
   "cell_type": "code",
   "execution_count": null,
   "id": "a91e20db-e19a-4e2f-a87b-2fe7d1f0469e",
   "metadata": {},
   "outputs": [],
   "source": [
    "sys.path.append(\"../\")"
   ]
  },
  {
   "cell_type": "code",
   "execution_count": null,
   "id": "725bc80a-3771-436f-86eb-f231c118115a",
   "metadata": {},
   "outputs": [],
   "source": [
    "%load_ext autoreload\n",
    "%autoreload 2\n",
    "\n",
    "from src.utils.isabel_funcs import *\n",
    "\n",
    "from src.utils.isabel_params import *"
   ]
  },
  {
   "cell_type": "markdown",
   "id": "324f4533-cf3d-40ac-8d3f-7183ca4a7ef9",
   "metadata": {},
   "source": [
    "---"
   ]
  },
  {
   "cell_type": "markdown",
   "id": "f0632e6f-fd34-477f-83ad-1fc20a3c5678",
   "metadata": {
    "tags": []
   },
   "source": [
    "## Isabel API tests"
   ]
  },
  {
   "cell_type": "markdown",
   "id": "1395d3e9-f724-4ae6-b198-3b2e0020896f",
   "metadata": {
    "tags": []
   },
   "source": [
    "### Age request test"
   ]
  },
  {
   "cell_type": "markdown",
   "id": "7b5a83b2-0fa5-4f72-971a-3d3050e1653f",
   "metadata": {
    "heading_collapsed": "true",
    "tags": []
   },
   "source": [
    "#### Building API request"
   ]
  },
  {
   "cell_type": "code",
   "execution_count": null,
   "id": "d248843c-c84f-4f96-aa4f-8147794f7ab5",
   "metadata": {},
   "outputs": [],
   "source": [
    "method = \"age_groups\""
   ]
  },
  {
   "cell_type": "code",
   "execution_count": null,
   "id": "1ef0c424-7062-40c5-a17a-6ce9eed8b05f",
   "metadata": {},
   "outputs": [],
   "source": [
    "api_call_url = url_api_request(\"age_groups\")"
   ]
  },
  {
   "cell_type": "code",
   "execution_count": null,
   "id": "c0a4edbb-737a-4224-a21c-110202fb1c59",
   "metadata": {},
   "outputs": [],
   "source": [
    "api_call_url"
   ]
  },
  {
   "cell_type": "markdown",
   "id": "ba32b096-af59-4b06-8436-9a6399816af5",
   "metadata": {
    "heading_collapsed": "true",
    "tags": []
   },
   "source": [
    "#### Getting API request"
   ]
  },
  {
   "cell_type": "code",
   "execution_count": null,
   "id": "0e163634-8d39-4da1-9328-578d3364c3f7",
   "metadata": {},
   "outputs": [],
   "source": [
    "req = requests.get(api_call_url)\n",
    "req"
   ]
  },
  {
   "cell_type": "code",
   "execution_count": null,
   "id": "b32ac9df-b5d5-4e16-a130-8b95ff45ee8b",
   "metadata": {
    "tags": []
   },
   "outputs": [],
   "source": [
    "req.text"
   ]
  },
  {
   "cell_type": "code",
   "execution_count": null,
   "id": "785aad9d-4cdd-446d-a64e-202cfb924d18",
   "metadata": {
    "scrolled": true,
    "tags": []
   },
   "outputs": [],
   "source": [
    "api_resp = enhance_api_response(req.text)"
   ]
  },
  {
   "cell_type": "code",
   "execution_count": null,
   "id": "607c9d7c-f2e9-4bb5-b2c4-ef96f7b4bb88",
   "metadata": {
    "scrolled": true,
    "tags": []
   },
   "outputs": [],
   "source": [
    "print(api_resp)"
   ]
  },
  {
   "cell_type": "markdown",
   "id": "6909890d-0a38-4543-ac85-1c7803911e2a",
   "metadata": {
    "heading_collapsed": "true",
    "tags": []
   },
   "source": [
    "#### Printing API output into file"
   ]
  },
  {
   "cell_type": "code",
   "execution_count": null,
   "id": "25ce6f44-73ea-4692-b6a5-fe92fc74f463",
   "metadata": {},
   "outputs": [],
   "source": [
    "path = out_loc + inout_files[method][\"output\"]\n",
    "path"
   ]
  },
  {
   "cell_type": "code",
   "execution_count": null,
   "id": "faf8116e-fedb-4f43-864e-e7dc4364fe87",
   "metadata": {
    "scrolled": true,
    "tags": []
   },
   "outputs": [],
   "source": [
    "write_json(path, api_resp)"
   ]
  },
  {
   "cell_type": "markdown",
   "id": "041f30bc-1da6-4e8c-990b-64931a51636a",
   "metadata": {
    "tags": [],
    "toc-hr-collapsed": true
   },
   "source": [
    "### Regions request test"
   ]
  },
  {
   "cell_type": "markdown",
   "id": "a231c1cb-cda3-4dfb-814a-37a451b655fc",
   "metadata": {
    "heading_collapsed": "true",
    "tags": [],
    "toc-hr-collapsed": true
   },
   "source": [
    "#### Building API request"
   ]
  },
  {
   "cell_type": "code",
   "execution_count": null,
   "id": "7f0601c3-a5a6-433b-b117-705410edb365",
   "metadata": {},
   "outputs": [],
   "source": [
    "method = \"regions\""
   ]
  },
  {
   "cell_type": "code",
   "execution_count": null,
   "id": "ab659329-2508-4b90-af27-94001bd78d52",
   "metadata": {},
   "outputs": [],
   "source": [
    "api_call_url = url_api_request(method)"
   ]
  },
  {
   "cell_type": "code",
   "execution_count": null,
   "id": "a8207bdf-a219-4088-9608-b88cf678b429",
   "metadata": {},
   "outputs": [],
   "source": [
    "api_call_url"
   ]
  },
  {
   "cell_type": "markdown",
   "id": "3dacca9f-a9ff-42cd-987a-f604d66e2888",
   "metadata": {
    "heading_collapsed": "true",
    "tags": [],
    "toc-hr-collapsed": true
   },
   "source": [
    "#### Getting API request"
   ]
  },
  {
   "cell_type": "code",
   "execution_count": null,
   "id": "755d1814-e34d-4f57-b9e9-3de50dbf545d",
   "metadata": {},
   "outputs": [],
   "source": [
    "req = requests.get(api_call_url)\n",
    "req"
   ]
  },
  {
   "cell_type": "code",
   "execution_count": null,
   "id": "4841e49d-0252-4f63-8bff-3556bdae2b8e",
   "metadata": {
    "scrolled": true,
    "tags": []
   },
   "outputs": [],
   "source": [
    "api_resp = enhance_api_response(req.text)"
   ]
  },
  {
   "cell_type": "code",
   "execution_count": null,
   "id": "b61083da-0295-4071-9dd0-1b9101714439",
   "metadata": {
    "scrolled": true,
    "tags": []
   },
   "outputs": [],
   "source": [
    "print(api_resp)"
   ]
  },
  {
   "cell_type": "markdown",
   "id": "50e1028a-00a1-4284-a27b-d708bcff67f8",
   "metadata": {
    "heading_collapsed": "true",
    "tags": [],
    "toc-hr-collapsed": true
   },
   "source": [
    "#### Printing API output into file"
   ]
  },
  {
   "cell_type": "code",
   "execution_count": null,
   "id": "4b3e6dc6-e3d8-4c0a-b8d2-0eee5b209d93",
   "metadata": {},
   "outputs": [],
   "source": [
    "path = out_loc + inout_files[method][\"output\"]\n",
    "path"
   ]
  },
  {
   "cell_type": "code",
   "execution_count": null,
   "id": "be872ed2-c531-4387-a93a-8464e4af2a03",
   "metadata": {},
   "outputs": [],
   "source": [
    "req.text"
   ]
  },
  {
   "cell_type": "code",
   "execution_count": null,
   "id": "284fa6eb-782f-4b5d-ae00-7b905b331a17",
   "metadata": {},
   "outputs": [],
   "source": [
    "write_json(path, req.text)"
   ]
  },
  {
   "cell_type": "markdown",
   "id": "0e53ef00-48bd-4178-8632-9b397c3b813d",
   "metadata": {
    "tags": [],
    "toc-hr-collapsed": true
   },
   "source": [
    "### Countries request test"
   ]
  },
  {
   "cell_type": "markdown",
   "id": "9b4c2746-d4d4-409f-842a-7765f19cc5c6",
   "metadata": {
    "heading_collapsed": "true",
    "tags": [],
    "toc-hr-collapsed": true
   },
   "source": [
    "#### Building API request"
   ]
  },
  {
   "cell_type": "code",
   "execution_count": null,
   "id": "0ddb490d-e865-4f2b-9955-9d2cf07567fa",
   "metadata": {},
   "outputs": [],
   "source": [
    "method = \"countries\""
   ]
  },
  {
   "cell_type": "code",
   "execution_count": null,
   "id": "e74615d8-abb7-4eef-baec-8a84c0f1f152",
   "metadata": {},
   "outputs": [],
   "source": [
    "api_call_url = url_api_request(method)"
   ]
  },
  {
   "cell_type": "code",
   "execution_count": null,
   "id": "a1b2e67b-1668-4daf-adfc-3cda469153da",
   "metadata": {},
   "outputs": [],
   "source": [
    "api_call_url"
   ]
  },
  {
   "cell_type": "markdown",
   "id": "f443198f-5ab4-4f23-8fa6-ce7469220746",
   "metadata": {
    "heading_collapsed": "true",
    "tags": [],
    "toc-hr-collapsed": true
   },
   "source": [
    "#### Getting API request"
   ]
  },
  {
   "cell_type": "code",
   "execution_count": null,
   "id": "bb2effd6-b809-4d88-a57b-4da1a4d0ba53",
   "metadata": {},
   "outputs": [],
   "source": [
    "req = requests.get(api_call_url)\n",
    "req"
   ]
  },
  {
   "cell_type": "code",
   "execution_count": null,
   "id": "f708a078-0a39-439a-930d-7cab62b308c3",
   "metadata": {
    "scrolled": true,
    "tags": []
   },
   "outputs": [],
   "source": [
    "api_resp = enhance_api_response(req.text)"
   ]
  },
  {
   "cell_type": "code",
   "execution_count": null,
   "id": "837b56e8-088e-4b60-b03a-ce59c6b95a24",
   "metadata": {
    "scrolled": true,
    "tags": []
   },
   "outputs": [],
   "source": [
    "print(api_resp)"
   ]
  },
  {
   "cell_type": "markdown",
   "id": "118f0e49-88ad-4f9f-8ac7-1939046b988a",
   "metadata": {
    "heading_collapsed": "true",
    "tags": [],
    "toc-hr-collapsed": true
   },
   "source": [
    "#### Printing API output into file"
   ]
  },
  {
   "cell_type": "code",
   "execution_count": null,
   "id": "2bbaf3df-abb7-41ff-a71e-c074b0658cd3",
   "metadata": {},
   "outputs": [],
   "source": [
    "path = out_loc + inout_files[method][\"output\"]\n",
    "path"
   ]
  },
  {
   "cell_type": "code",
   "execution_count": null,
   "id": "3dabe8a9-c945-44ec-aec3-20be05e11da0",
   "metadata": {},
   "outputs": [],
   "source": [
    "write_json(path, req.text)"
   ]
  },
  {
   "cell_type": "markdown",
   "id": "546be504-a7bb-458d-892f-de762e761e36",
   "metadata": {
    "tags": [],
    "toc-hr-collapsed": true
   },
   "source": [
    "### Pregnancies request test"
   ]
  },
  {
   "cell_type": "markdown",
   "id": "3c49cf50-4160-419f-8794-1fcfe37c7c33",
   "metadata": {
    "heading_collapsed": "true",
    "tags": [],
    "toc-hr-collapsed": true
   },
   "source": [
    "#### Building API request"
   ]
  },
  {
   "cell_type": "code",
   "execution_count": null,
   "id": "ceadb06c-451a-4168-9f58-cbe6df9f19ff",
   "metadata": {},
   "outputs": [],
   "source": [
    "method = \"pregnancies\""
   ]
  },
  {
   "cell_type": "code",
   "execution_count": null,
   "id": "34f897a7-254c-4591-84f6-d77186193d82",
   "metadata": {},
   "outputs": [],
   "source": [
    "api_call_url = url_api_request(method)"
   ]
  },
  {
   "cell_type": "code",
   "execution_count": null,
   "id": "1d6b02b9-d85a-480b-9583-9f413106d942",
   "metadata": {},
   "outputs": [],
   "source": [
    "api_call_url"
   ]
  },
  {
   "cell_type": "markdown",
   "id": "a97b3829-fa8e-4237-bfcc-5d4ce0521dc7",
   "metadata": {
    "heading_collapsed": "true",
    "tags": [],
    "toc-hr-collapsed": true
   },
   "source": [
    "#### Getting API request"
   ]
  },
  {
   "cell_type": "code",
   "execution_count": null,
   "id": "a935b6e7-f79d-4174-a0ba-33278f303b17",
   "metadata": {},
   "outputs": [],
   "source": [
    "req = requests.get(api_call_url)\n",
    "req"
   ]
  },
  {
   "cell_type": "code",
   "execution_count": null,
   "id": "5626fcae-744c-4df5-9192-56d792129ba2",
   "metadata": {
    "scrolled": true,
    "tags": []
   },
   "outputs": [],
   "source": [
    "api_resp = enhance_api_response(req.text)"
   ]
  },
  {
   "cell_type": "code",
   "execution_count": null,
   "id": "a606035b-2d8e-4072-94d1-a9084f522c61",
   "metadata": {},
   "outputs": [],
   "source": [
    "print(api_resp)"
   ]
  },
  {
   "cell_type": "markdown",
   "id": "d46f7e3b-e0c1-43a7-a346-7155da50fe40",
   "metadata": {
    "heading_collapsed": "true",
    "tags": [],
    "toc-hr-collapsed": true
   },
   "source": [
    "#### Printing API output into file"
   ]
  },
  {
   "cell_type": "code",
   "execution_count": null,
   "id": "b65da5c1-7510-4f96-9469-934baf3a4103",
   "metadata": {},
   "outputs": [],
   "source": [
    "path = out_loc + inout_files[method][\"output\"]\n",
    "path"
   ]
  },
  {
   "cell_type": "code",
   "execution_count": null,
   "id": "8018d383-b1fa-442d-8f4b-7eadb133812c",
   "metadata": {},
   "outputs": [],
   "source": [
    "write_json(path, req.text)"
   ]
  },
  {
   "cell_type": "markdown",
   "id": "6e723650-56cb-4bac-b196-2368e39fdd0d",
   "metadata": {
    "tags": [],
    "toc-hr-collapsed": true
   },
   "source": [
    "### Ranked differential diagnoses test"
   ]
  },
  {
   "cell_type": "markdown",
   "id": "a46f1878-5633-4e84-8c63-b98ac6aa0be6",
   "metadata": {
    "heading_collapsed": "true",
    "tags": [],
    "toc-hr-collapsed": true
   },
   "source": [
    "#### Building API request"
   ]
  },
  {
   "cell_type": "code",
   "execution_count": null,
   "id": "f75f5244-c3bc-4cae-91ce-53fdd26ecbac",
   "metadata": {},
   "outputs": [],
   "source": [
    "method = \"ranked_differential_diagnoses\""
   ]
  },
  {
   "cell_type": "code",
   "execution_count": null,
   "id": "71f64b7c-c0f6-4a7d-b155-b1ae15b8b7d8",
   "metadata": {},
   "outputs": [],
   "source": [
    "api_call_url = url_api_request(method)"
   ]
  },
  {
   "cell_type": "code",
   "execution_count": null,
   "id": "aeae7b8e-c2a1-494a-9e69-c041f57f8c73",
   "metadata": {},
   "outputs": [],
   "source": [
    "api_call_url"
   ]
  },
  {
   "cell_type": "raw",
   "id": "c6fd6632-6af4-48e5-9bb8-2a166fda17d2",
   "metadata": {},
   "source": [
    "'https://apiscsandbox.isabelhealthcare.com/v2/ranked_differential_diagnoses?callback=ranked_differential_diagnoses&authorization=QDDb180BilBk7209QqFikW1iqjOx2yjt&specialties=28&dob=19850818&sex=f&pregnant=y&region=1&country_id=221&querytext=fever&flag=sortbyRW_advanced&suggest=Suggest+Differential+Diagnosis&searchType=0&web_service=json'"
   ]
  },
  {
   "cell_type": "raw",
   "id": "51f1a3d3-428d-46da-84e7-0292de331447",
   "metadata": {},
   "source": [
    "api_call_url = \"https://esscstsandbox.isabelhealthcare.com/v2/ranked_differential_diagnoses?specialties=28&dob=19850818&sex=m&pregnant=n&region=1&country_id=221&querytext=fiebre,náusea&suggest=Suggest+Differential+Diagnosis&flag=sortbyRW_advanced&searchType=0&web_service=json&authorization=QDDb180BilBk7209QqFikW1iqjOx2yjt&callback=ranked_differential_diagnoses\"\n",
    "\n",
    "api_call_url"
   ]
  },
  {
   "cell_type": "markdown",
   "id": "cb588b79-2ce1-4df2-bc21-2d4df0abfa69",
   "metadata": {
    "heading_collapsed": "true",
    "tags": [],
    "toc-hr-collapsed": true
   },
   "source": [
    "#### Getting API request"
   ]
  },
  {
   "cell_type": "code",
   "execution_count": null,
   "id": "9f43d627-fd0e-46df-8b2e-a777996016ba",
   "metadata": {},
   "outputs": [],
   "source": [
    "req = requests.get(api_call_url)\n",
    "req"
   ]
  },
  {
   "cell_type": "raw",
   "id": "0b7ec8f7-0cde-4818-b5bb-3692bd57089b",
   "metadata": {},
   "source": [
    "req.text"
   ]
  },
  {
   "cell_type": "code",
   "execution_count": null,
   "id": "75eecf9b-ff2a-48df-9bd8-cb022b0cc40f",
   "metadata": {
    "scrolled": true,
    "tags": []
   },
   "outputs": [],
   "source": [
    "api_resp = enhance_api_response(req.text)"
   ]
  },
  {
   "cell_type": "code",
   "execution_count": null,
   "id": "75e38773-e6ac-4497-8e3a-5a9fd97c1056",
   "metadata": {
    "scrolled": true,
    "tags": []
   },
   "outputs": [],
   "source": [
    "print(api_resp)"
   ]
  },
  {
   "cell_type": "markdown",
   "id": "3dd0bc1a-2200-49f5-b3d1-af2bb341ae6e",
   "metadata": {
    "heading_collapsed": "true",
    "tags": [],
    "toc-hr-collapsed": true
   },
   "source": [
    "#### Printing API output into file"
   ]
  },
  {
   "cell_type": "code",
   "execution_count": null,
   "id": "f9ee71c0-c26f-46f1-9d3b-9dba54778d2f",
   "metadata": {},
   "outputs": [],
   "source": [
    "path = out_loc + inout_files[method][\"output\"]\n",
    "path"
   ]
  },
  {
   "cell_type": "code",
   "execution_count": null,
   "id": "1cc6779b-75ec-4332-98ef-7149b6cf35a5",
   "metadata": {},
   "outputs": [],
   "source": [
    "write_json(path, req.text)"
   ]
  },
  {
   "cell_type": "markdown",
   "id": "ebf96baf-75d8-48b3-b0e7-e2d4717ab4d0",
   "metadata": {
    "tags": []
   },
   "source": [
    "### Predictive text"
   ]
  },
  {
   "cell_type": "markdown",
   "id": "d18e2942-7c20-454f-89b9-c4fff59b7919",
   "metadata": {
    "heading_collapsed": "true",
    "tags": []
   },
   "source": [
    "#### Building API request"
   ]
  },
  {
   "cell_type": "code",
   "execution_count": null,
   "id": "d488dade-fc2d-4cd4-a4b7-580b73953b96",
   "metadata": {},
   "outputs": [],
   "source": [
    "method = \"ranked_differential_diagnoses\""
   ]
  },
  {
   "cell_type": "code",
   "execution_count": null,
   "id": "2189099e-a310-41d2-ac6f-41948f1b11dc",
   "metadata": {},
   "outputs": [],
   "source": [
    "api_call_url = url_api_request(method)"
   ]
  },
  {
   "cell_type": "code",
   "execution_count": null,
   "id": "a8ceda39-3362-4acb-94bc-d5d840e946b0",
   "metadata": {},
   "outputs": [],
   "source": [
    "api_call_url"
   ]
  },
  {
   "cell_type": "markdown",
   "id": "d6d4da8e-fe34-46a9-9597-6634c9f7be0b",
   "metadata": {
    "heading_collapsed": "true",
    "tags": []
   },
   "source": [
    "#### Getting API request"
   ]
  },
  {
   "cell_type": "code",
   "execution_count": null,
   "id": "42afc3f7-4b73-4a4d-90e1-fd1f353d82e0",
   "metadata": {},
   "outputs": [],
   "source": [
    "req = requests.get(api_call_url)\n",
    "req"
   ]
  },
  {
   "cell_type": "code",
   "execution_count": null,
   "id": "ecf7f0a4-2c40-4a1d-9386-9dc7250ac54a",
   "metadata": {
    "scrolled": true,
    "tags": []
   },
   "outputs": [],
   "source": [
    "req.text"
   ]
  },
  {
   "cell_type": "code",
   "execution_count": null,
   "id": "3193c4c8-7b0c-4473-861f-15a2dc29d45a",
   "metadata": {
    "scrolled": true,
    "tags": []
   },
   "outputs": [],
   "source": [
    "api_resp = enhance_api_response(req.text)"
   ]
  },
  {
   "cell_type": "code",
   "execution_count": null,
   "id": "c39a6b46-8bd9-4b5a-81f0-2205b97c3386",
   "metadata": {
    "scrolled": true,
    "tags": []
   },
   "outputs": [],
   "source": [
    "print(api_resp)"
   ]
  },
  {
   "cell_type": "markdown",
   "id": "4cdcb61d-22fd-4d71-8173-fbf432f0c54a",
   "metadata": {
    "heading_collapsed": "true",
    "tags": []
   },
   "source": [
    "#### Printing API output into file"
   ]
  },
  {
   "cell_type": "code",
   "execution_count": null,
   "id": "89c93806-46f8-48df-81fa-76c154278146",
   "metadata": {},
   "outputs": [],
   "source": [
    "path = out_loc + inout_files[method][\"output\"]\n",
    "path"
   ]
  },
  {
   "cell_type": "code",
   "execution_count": null,
   "id": "3f1c68ac-9ea1-4669-a930-831f666dcc45",
   "metadata": {},
   "outputs": [],
   "source": [
    "write_json(path, api_resp.decode())"
   ]
  },
  {
   "cell_type": "markdown",
   "id": "0ecca7b8-cac2-4598-9f22-8162a2695a41",
   "metadata": {
    "tags": []
   },
   "source": [
    "### Triage score"
   ]
  },
  {
   "cell_type": "markdown",
   "id": "28985321-b147-452f-8748-ba4c5c2da3a2",
   "metadata": {
    "heading_collapsed": "true",
    "tags": []
   },
   "source": [
    "#### Building API request"
   ]
  },
  {
   "cell_type": "code",
   "execution_count": null,
   "id": "b44776e5-2066-4637-a1ce-3c559660cd7d",
   "metadata": {},
   "outputs": [],
   "source": [
    "method = \"triage_score\""
   ]
  },
  {
   "cell_type": "code",
   "execution_count": null,
   "id": "219faeb6-2e74-4ce8-b7e6-8ee53003a7d5",
   "metadata": {},
   "outputs": [],
   "source": [
    "api_call_url = url_api_request(method)"
   ]
  },
  {
   "cell_type": "code",
   "execution_count": null,
   "id": "06c531f5-120c-45aa-b2e9-fd7964a3bcff",
   "metadata": {},
   "outputs": [],
   "source": [
    "api_call_url"
   ]
  },
  {
   "cell_type": "markdown",
   "id": "012f67a8-da02-472d-8cbe-80d291901f50",
   "metadata": {
    "heading_collapsed": "true",
    "tags": []
   },
   "source": [
    "#### Getting API request"
   ]
  },
  {
   "cell_type": "code",
   "execution_count": null,
   "id": "a52e8102-9418-4018-b205-7244aaa9d176",
   "metadata": {},
   "outputs": [],
   "source": [
    "req = requests.get(api_call_url)\n",
    "req"
   ]
  },
  {
   "cell_type": "code",
   "execution_count": null,
   "id": "f38e5a5f-e879-4c7d-9770-c407e21a8c55",
   "metadata": {},
   "outputs": [],
   "source": [
    "req.text"
   ]
  },
  {
   "cell_type": "code",
   "execution_count": null,
   "id": "f9ec12f6-5eb5-4f1d-b388-f8bee12518a5",
   "metadata": {},
   "outputs": [],
   "source": [
    "x1 = clean_api_request(req.text)\n",
    "x1"
   ]
  },
  {
   "cell_type": "code",
   "execution_count": null,
   "id": "13431ed9-55ed-46c3-97ed-d5c4433ff6f4",
   "metadata": {},
   "outputs": [],
   "source": [
    "x2 = json.loads(x1)\n",
    "x2"
   ]
  },
  {
   "cell_type": "code",
   "execution_count": null,
   "id": "a3c07ece-80de-4adf-8e8c-5255086d69c2",
   "metadata": {},
   "outputs": [],
   "source": [
    "x2[\"where_to_now\"]"
   ]
  },
  {
   "cell_type": "code",
   "execution_count": null,
   "id": "049f10b7-be3c-4a73-b2df-c745389f59e4",
   "metadata": {},
   "outputs": [],
   "source": [
    "x2[\"salchica\"] = True"
   ]
  },
  {
   "cell_type": "code",
   "execution_count": null,
   "id": "7ca04e4a-fc1c-4895-a295-2a8f1fbf4998",
   "metadata": {},
   "outputs": [],
   "source": [
    "x2"
   ]
  },
  {
   "cell_type": "code",
   "execution_count": null,
   "id": "3eae5d3b-c616-4ee1-8dfe-8c394c1bd442",
   "metadata": {},
   "outputs": [],
   "source": []
  },
  {
   "cell_type": "code",
   "execution_count": null,
   "id": "d6deea7d-2144-484a-bc14-68ac4bd37511",
   "metadata": {
    "scrolled": true,
    "tags": []
   },
   "outputs": [],
   "source": [
    "api_resp = api_clean_response(req.text)"
   ]
  },
  {
   "cell_type": "code",
   "execution_count": null,
   "id": "54f3398f-03aa-4a74-8d8d-68f850b08fb0",
   "metadata": {
    "scrolled": true,
    "tags": []
   },
   "outputs": [],
   "source": [
    "print(api_resp)"
   ]
  },
  {
   "cell_type": "code",
   "execution_count": null,
   "id": "b5062235-0f27-4488-afcd-87f78617aa68",
   "metadata": {},
   "outputs": [],
   "source": [
    "api_resp"
   ]
  },
  {
   "cell_type": "markdown",
   "id": "6f593596-345b-4ca2-806f-6076540d65a9",
   "metadata": {
    "heading_collapsed": "true",
    "tags": []
   },
   "source": [
    "#### Printing API output into file"
   ]
  },
  {
   "cell_type": "code",
   "execution_count": null,
   "id": "328af57a-185b-4bb5-9470-9a40a5a765cf",
   "metadata": {},
   "outputs": [],
   "source": [
    "path = out_loc + inout_files[method][\"output\"]\n",
    "path"
   ]
  },
  {
   "cell_type": "code",
   "execution_count": null,
   "id": "854004fc-6bdd-4764-8c4e-88b88e5866f3",
   "metadata": {},
   "outputs": [],
   "source": [
    "write_json(path, req.text)"
   ]
  },
  {
   "cell_type": "markdown",
   "id": "4b8c7857-fc66-44f5-afd9-bfbb367d088f",
   "metadata": {},
   "source": [
    "---"
   ]
  },
  {
   "cell_type": "markdown",
   "id": "924a3d09-25df-4bfe-b3dc-fbdd1b24c731",
   "metadata": {
    "tags": []
   },
   "source": [
    "## *Notes*"
   ]
  },
  {
   "cell_type": "markdown",
   "id": "93907d09-f8fe-4b18-bbf6-e766f4182051",
   "metadata": {
    "tags": [],
    "toc-hr-collapsed": true
   },
   "source": [
    "### API Examples "
   ]
  },
  {
   "cell_type": "markdown",
   "id": "e73a76ad-81e6-44cb-83dc-870a911b0ea8",
   "metadata": {
    "tags": []
   },
   "source": [
    "#### Chicago data"
   ]
  },
  {
   "cell_type": "code",
   "execution_count": null,
   "id": "0037cb58-4fb0-4448-8962-5914399ecaf7",
   "metadata": {},
   "outputs": [],
   "source": [
    "ex_url = \"https://data.cityofchicago.org/resource/f7f2-ggz5.json\""
   ]
  },
  {
   "cell_type": "code",
   "execution_count": null,
   "id": "3fb6a69d-9352-465f-b988-50bdc61a6be3",
   "metadata": {},
   "outputs": [],
   "source": [
    "client = Socrata(ex_url)"
   ]
  },
  {
   "cell_type": "markdown",
   "id": "165988a0-fa87-42b9-99db-41930f98743d",
   "metadata": {
    "tags": []
   },
   "source": [
    "#### Open Notify"
   ]
  },
  {
   "cell_type": "code",
   "execution_count": null,
   "id": "cc97c18d-6677-4e7e-9bfb-48a9cf93f3b1",
   "metadata": {
    "scrolled": true,
    "tags": []
   },
   "outputs": [],
   "source": [
    "req = requests.get('http://api.open-notify.org')\n",
    "print(request.text)"
   ]
  },
  {
   "cell_type": "markdown",
   "id": "96e6c798-18e3-4680-9991-7b91961147cb",
   "metadata": {
    "tags": [],
    "toc-hr-collapsed": true
   },
   "source": [
    "### Pasting Keys to URL"
   ]
  },
  {
   "cell_type": "code",
   "execution_count": null,
   "id": "779a3e1e-bb9b-43a5-ba57-50489eae28ec",
   "metadata": {},
   "outputs": [],
   "source": [
    "ag_url_auth = \"https://apiscsandbox.isabelhealthcare.com/v2/age_groups?callback=age_groups&authorization=QDDb180BilBk7209QqFikW1iqjOx2yjt&language=english&web_service=json\"\n",
    "ag_url_auth"
   ]
  },
  {
   "cell_type": "code",
   "execution_count": null,
   "id": "8d42da33-cb3e-41a9-8f17-80ea1ccecb79",
   "metadata": {},
   "outputs": [],
   "source": [
    "mthd = \"age_groups\""
   ]
  },
  {
   "cell_type": "code",
   "execution_count": null,
   "id": "90a7c0cf-aee2-4a97-842f-74edd1ca33d1",
   "metadata": {},
   "outputs": [],
   "source": [
    "x = url_api_request(mthd)\n",
    "x"
   ]
  },
  {
   "cell_type": "markdown",
   "id": "11c81f48-16b1-4c4e-addb-1990fd299cb0",
   "metadata": {
    "tags": [],
    "toc-hr-collapsed": true
   },
   "source": [
    "### Reading a JSON file"
   ]
  },
  {
   "cell_type": "code",
   "execution_count": null,
   "id": "4f9a6462-3629-4d61-94af-c589ebcfc131",
   "metadata": {},
   "outputs": [],
   "source": [
    "pth = \"../feed/\""
   ]
  },
  {
   "cell_type": "code",
   "execution_count": null,
   "id": "a8677100-9ab9-423f-9261-af365010c9cb",
   "metadata": {},
   "outputs": [],
   "source": [
    "feed_name = \"age_request.json\""
   ]
  },
  {
   "cell_type": "code",
   "execution_count": null,
   "id": "30e6747b-c088-4268-b4ee-1b310c002f4f",
   "metadata": {},
   "outputs": [],
   "source": [
    "pth + feed_name"
   ]
  },
  {
   "cell_type": "code",
   "execution_count": null,
   "id": "4e949370-d0ef-44c5-97b1-312c884014da",
   "metadata": {},
   "outputs": [],
   "source": [
    "f = open(pth + feed_name, )"
   ]
  },
  {
   "cell_type": "code",
   "execution_count": null,
   "id": "8721ade2-f7e4-4933-9a62-952e32f614a2",
   "metadata": {},
   "outputs": [],
   "source": [
    "f2 = json.load(f)"
   ]
  },
  {
   "cell_type": "code",
   "execution_count": null,
   "id": "da19691c-de4a-4e90-8c3d-de6907fd7fa5",
   "metadata": {},
   "outputs": [],
   "source": [
    "f2"
   ]
  },
  {
   "cell_type": "code",
   "execution_count": null,
   "id": "3e347016-ea02-4bbf-8b1f-f12bb6be6ce8",
   "metadata": {},
   "outputs": [],
   "source": [
    "type(f2)"
   ]
  },
  {
   "cell_type": "code",
   "execution_count": null,
   "id": "b3c2de33-55e5-420e-ba13-65af806e8b8f",
   "metadata": {},
   "outputs": [],
   "source": [
    "f2[\"language\"]"
   ]
  },
  {
   "cell_type": "markdown",
   "id": "84dee052-2b7a-4b96-a9e3-dc862796756e",
   "metadata": {
    "tags": [],
    "toc-hr-collapsed": true
   },
   "source": [
    "### Writing a JSON file"
   ]
  },
  {
   "cell_type": "code",
   "execution_count": null,
   "id": "b754bdb2-0016-4d6b-84e0-53dfa12c55f1",
   "metadata": {},
   "outputs": [],
   "source": [
    "pth = \"../output/\""
   ]
  },
  {
   "cell_type": "code",
   "execution_count": null,
   "id": "1963d018-a25c-4543-b679-8d29d8fafcd6",
   "metadata": {},
   "outputs": [],
   "source": [
    "out_file = \"output_test.json\""
   ]
  },
  {
   "cell_type": "code",
   "execution_count": null,
   "id": "1b4c6e01-ad17-4c49-832e-14eb2009621c",
   "metadata": {
    "scrolled": true,
    "tags": []
   },
   "outputs": [],
   "source": [
    "req.text"
   ]
  },
  {
   "cell_type": "code",
   "execution_count": null,
   "id": "0d39e1b0-f202-4ee8-9da3-52a757c7f135",
   "metadata": {},
   "outputs": [],
   "source": [
    "jsonFile = open(pth + out_file, \"w\")"
   ]
  },
  {
   "cell_type": "code",
   "execution_count": null,
   "id": "c9eedb32-2713-4f15-bda9-0bba0403156a",
   "metadata": {},
   "outputs": [],
   "source": [
    "jsonFile.write(api_clean_response(req.text))\n",
    "\n",
    "jsonFile.close()"
   ]
  },
  {
   "cell_type": "markdown",
   "id": "0d26b23b-7171-4548-b7f2-e0913e8d850d",
   "metadata": {
    "tags": []
   },
   "source": [
    "### Correcting HTML entities"
   ]
  },
  {
   "cell_type": "code",
   "execution_count": null,
   "id": "2bd261ed-ceaa-40e3-aee7-e5c1f1bda040",
   "metadata": {},
   "outputs": [],
   "source": [
    "u'séme string'.encode('ascii', 'xmlcharrefreplace')"
   ]
  },
  {
   "cell_type": "code",
   "execution_count": null,
   "id": "ea36d39f-df17-4905-b7c2-aba6b5811515",
   "metadata": {},
   "outputs": [],
   "source": [
    "u's&#233;me string'.encode('xmlcharrefreplace', 'ascii')"
   ]
  },
  {
   "cell_type": "markdown",
   "id": "9900eda3-6938-4d57-9fb8-b7a1739263fc",
   "metadata": {},
   "source": [
    "---\n",
    "---"
   ]
  }
 ],
 "metadata": {
  "kernelspec": {
   "display_name": "Python 3 (ipykernel)",
   "language": "python",
   "name": "python3"
  },
  "language_info": {
   "codemirror_mode": {
    "name": "ipython",
    "version": 3
   },
   "file_extension": ".py",
   "mimetype": "text/x-python",
   "name": "python",
   "nbconvert_exporter": "python",
   "pygments_lexer": "ipython3",
   "version": "3.9.1"
  },
  "toc-autonumbering": true,
  "toc-showcode": false,
  "toc-showmarkdowntxt": false
 },
 "nbformat": 4,
 "nbformat_minor": 5
}
