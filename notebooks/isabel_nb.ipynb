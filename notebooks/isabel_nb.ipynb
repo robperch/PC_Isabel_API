{
 "cells": [
  {
   "cell_type": "markdown",
   "id": "85f318e3-3dd3-491e-9ebb-2bd116caf0cc",
   "metadata": {},
   "source": [
    "# Isabel API Usage"
   ]
  },
  {
   "cell_type": "markdown",
   "id": "155324fb-5111-4e6a-a50e-743b5c7e888f",
   "metadata": {},
   "source": [
    "## Imports"
   ]
  },
  {
   "cell_type": "markdown",
   "id": "338858db-16c6-47ae-806f-663b1e37ec29",
   "metadata": {},
   "source": [
    "#### Standard library imports"
   ]
  },
  {
   "cell_type": "code",
   "execution_count": 1,
   "id": "37f88368-3a2b-4b3e-9798-fe6ae223ff85",
   "metadata": {
    "tags": []
   },
   "outputs": [],
   "source": [
    "import sys\n",
    "\n",
    "import requests\n",
    "\n",
    "import json\n",
    "\n",
    "import re"
   ]
  },
  {
   "cell_type": "markdown",
   "id": "08c5071d-7f97-4446-89de-80edb8f3d75d",
   "metadata": {
    "tags": []
   },
   "source": [
    "#### Third party imports"
   ]
  },
  {
   "cell_type": "raw",
   "id": "841c4d7e-b71f-4bcd-9d8a-209d7b05c9b9",
   "metadata": {},
   "source": []
  },
  {
   "cell_type": "markdown",
   "id": "9c5b6538-e89e-435c-90b6-d3978dd1dc1d",
   "metadata": {
    "heading_collapsed": "true",
    "tags": []
   },
   "source": [
    "#### Local application imports"
   ]
  },
  {
   "cell_type": "code",
   "execution_count": 2,
   "id": "a91e20db-e19a-4e2f-a87b-2fe7d1f0469e",
   "metadata": {},
   "outputs": [],
   "source": [
    "sys.path.append(\"../\")"
   ]
  },
  {
   "cell_type": "code",
   "execution_count": 57,
   "id": "725bc80a-3771-436f-86eb-f231c118115a",
   "metadata": {},
   "outputs": [
    {
     "name": "stdout",
     "output_type": "stream",
     "text": [
      "The autoreload extension is already loaded. To reload it, use:\n",
      "  %reload_ext autoreload\n"
     ]
    }
   ],
   "source": [
    "%load_ext autoreload\n",
    "%autoreload 2\n",
    "\n",
    "from src.utils.isabel_funcs import *\n",
    "\n",
    "from src.utils.isabel_params import *"
   ]
  },
  {
   "cell_type": "markdown",
   "id": "324f4533-cf3d-40ac-8d3f-7183ca4a7ef9",
   "metadata": {},
   "source": [
    "---"
   ]
  },
  {
   "cell_type": "markdown",
   "id": "f0632e6f-fd34-477f-83ad-1fc20a3c5678",
   "metadata": {
    "tags": []
   },
   "source": [
    "## Isabel API tests"
   ]
  },
  {
   "cell_type": "markdown",
   "id": "1395d3e9-f724-4ae6-b198-3b2e0020896f",
   "metadata": {
    "tags": [],
    "toc-hr-collapsed": true
   },
   "source": [
    "### Age request test"
   ]
  },
  {
   "cell_type": "markdown",
   "id": "7b5a83b2-0fa5-4f72-971a-3d3050e1653f",
   "metadata": {
    "heading_collapsed": "true",
    "tags": [],
    "toc-hr-collapsed": true
   },
   "source": [
    "#### Building API request"
   ]
  },
  {
   "cell_type": "code",
   "execution_count": 4,
   "id": "1ef0c424-7062-40c5-a17a-6ce9eed8b05f",
   "metadata": {},
   "outputs": [],
   "source": [
    "api_call_url = url_api_request(\"age_groups\")"
   ]
  },
  {
   "cell_type": "code",
   "execution_count": 5,
   "id": "c0a4edbb-737a-4224-a21c-110202fb1c59",
   "metadata": {},
   "outputs": [
    {
     "data": {
      "text/plain": [
       "'https://apiscsandbox.isabelhealthcare.com/v2/age_groups?callback=age_groups&authorization=QDDb180BilBk7209QqFikW1iqjOx2yjt&language=english&web_service=json'"
      ]
     },
     "execution_count": 5,
     "metadata": {},
     "output_type": "execute_result"
    }
   ],
   "source": [
    "api_call_url"
   ]
  },
  {
   "cell_type": "markdown",
   "id": "ba32b096-af59-4b06-8436-9a6399816af5",
   "metadata": {
    "heading_collapsed": "true",
    "tags": [],
    "toc-hr-collapsed": true
   },
   "source": [
    "#### Getting API request"
   ]
  },
  {
   "cell_type": "code",
   "execution_count": 6,
   "id": "0e163634-8d39-4da1-9328-578d3364c3f7",
   "metadata": {},
   "outputs": [
    {
     "data": {
      "text/plain": [
       "<Response [200]>"
      ]
     },
     "execution_count": 6,
     "metadata": {},
     "output_type": "execute_result"
    }
   ],
   "source": [
    "req = requests.get(api_call_url)\n",
    "req"
   ]
  },
  {
   "cell_type": "code",
   "execution_count": 62,
   "id": "785aad9d-4cdd-446d-a64e-202cfb924d18",
   "metadata": {
    "scrolled": true,
    "tags": []
   },
   "outputs": [],
   "source": [
    "api_resp = api_clean_response(req.text)"
   ]
  },
  {
   "cell_type": "code",
   "execution_count": null,
   "id": "607c9d7c-f2e9-4bb5-b2c4-ef96f7b4bb88",
   "metadata": {},
   "outputs": [],
   "source": [
    "print(api_resp)"
   ]
  },
  {
   "cell_type": "markdown",
   "id": "041f30bc-1da6-4e8c-990b-64931a51636a",
   "metadata": {
    "tags": [],
    "toc-hr-collapsed": true
   },
   "source": [
    "### Regions request test"
   ]
  },
  {
   "cell_type": "markdown",
   "id": "a231c1cb-cda3-4dfb-814a-37a451b655fc",
   "metadata": {
    "heading_collapsed": "true",
    "tags": [],
    "toc-hr-collapsed": true
   },
   "source": [
    "#### Building API request"
   ]
  },
  {
   "cell_type": "code",
   "execution_count": 8,
   "id": "ab659329-2508-4b90-af27-94001bd78d52",
   "metadata": {},
   "outputs": [],
   "source": [
    "api_call_url = url_api_request(\"regions\")"
   ]
  },
  {
   "cell_type": "code",
   "execution_count": 9,
   "id": "a8207bdf-a219-4088-9608-b88cf678b429",
   "metadata": {},
   "outputs": [
    {
     "data": {
      "text/plain": [
       "'https://apiscsandbox.isabelhealthcare.com/v2/regions?callback=regions&authorization=QDDb180BilBk7209QqFikW1iqjOx2yjt&language=english&web_service=json'"
      ]
     },
     "execution_count": 9,
     "metadata": {},
     "output_type": "execute_result"
    }
   ],
   "source": [
    "api_call_url"
   ]
  },
  {
   "cell_type": "markdown",
   "id": "3dacca9f-a9ff-42cd-987a-f604d66e2888",
   "metadata": {
    "heading_collapsed": "true",
    "tags": [],
    "toc-hr-collapsed": true
   },
   "source": [
    "#### Getting API request"
   ]
  },
  {
   "cell_type": "code",
   "execution_count": 10,
   "id": "755d1814-e34d-4f57-b9e9-3de50dbf545d",
   "metadata": {},
   "outputs": [
    {
     "data": {
      "text/plain": [
       "<Response [200]>"
      ]
     },
     "execution_count": 10,
     "metadata": {},
     "output_type": "execute_result"
    }
   ],
   "source": [
    "req = requests.get(api_call_url)\n",
    "req"
   ]
  },
  {
   "cell_type": "code",
   "execution_count": 62,
   "id": "4841e49d-0252-4f63-8bff-3556bdae2b8e",
   "metadata": {
    "scrolled": true,
    "tags": []
   },
   "outputs": [],
   "source": [
    "api_resp = api_clean_response(req.text)"
   ]
  },
  {
   "cell_type": "code",
   "execution_count": 64,
   "id": "b61083da-0295-4071-9dd0-1b9101714439",
   "metadata": {},
   "outputs": [
    {
     "name": "stdout",
     "output_type": "stream",
     "text": [
      "{\n",
      "  \"pregnancies\": {\n",
      "    \"pregnancy\": [\n",
      "      {\n",
      "        \"pregnancy_id\": \"0\",\n",
      "        \"pregnancy_name\": \"(- not specified -)\"\n",
      "      },\n",
      "      {\n",
      "        \"pregnancy_id\": \"1\",\n",
      "        \"pregnancy_name\": \"not pregnant\"\n",
      "      },\n",
      "      {\n",
      "        \"pregnancy_id\": \"2\",\n",
      "        \"pregnancy_name\": \"pregnant\"\n",
      "      }\n",
      "    ]\n",
      "  }\n",
      "}\n"
     ]
    }
   ],
   "source": [
    "print(api_resp)"
   ]
  },
  {
   "cell_type": "markdown",
   "id": "0e53ef00-48bd-4178-8632-9b397c3b813d",
   "metadata": {
    "tags": [],
    "toc-hr-collapsed": true
   },
   "source": [
    "### Countries request test"
   ]
  },
  {
   "cell_type": "markdown",
   "id": "9b4c2746-d4d4-409f-842a-7765f19cc5c6",
   "metadata": {
    "heading_collapsed": "true",
    "tags": [],
    "toc-hr-collapsed": true
   },
   "source": [
    "#### Building API request"
   ]
  },
  {
   "cell_type": "code",
   "execution_count": 12,
   "id": "e74615d8-abb7-4eef-baec-8a84c0f1f152",
   "metadata": {},
   "outputs": [],
   "source": [
    "api_call_url = url_api_request(\"countries\")"
   ]
  },
  {
   "cell_type": "code",
   "execution_count": 13,
   "id": "a1b2e67b-1668-4daf-adfc-3cda469153da",
   "metadata": {},
   "outputs": [
    {
     "data": {
      "text/plain": [
       "'https://apiscsandbox.isabelhealthcare.com/v2/countries?callback=countries&authorization=QDDb180BilBk7209QqFikW1iqjOx2yjt&language=english&web_service=json'"
      ]
     },
     "execution_count": 13,
     "metadata": {},
     "output_type": "execute_result"
    }
   ],
   "source": [
    "api_call_url"
   ]
  },
  {
   "cell_type": "markdown",
   "id": "f443198f-5ab4-4f23-8fa6-ce7469220746",
   "metadata": {
    "heading_collapsed": "true",
    "tags": [],
    "toc-hr-collapsed": true
   },
   "source": [
    "#### Getting API request"
   ]
  },
  {
   "cell_type": "code",
   "execution_count": 14,
   "id": "bb2effd6-b809-4d88-a57b-4da1a4d0ba53",
   "metadata": {},
   "outputs": [
    {
     "data": {
      "text/plain": [
       "<Response [200]>"
      ]
     },
     "execution_count": 14,
     "metadata": {},
     "output_type": "execute_result"
    }
   ],
   "source": [
    "req = requests.get(api_call_url)\n",
    "req"
   ]
  },
  {
   "cell_type": "code",
   "execution_count": 62,
   "id": "f708a078-0a39-439a-930d-7cab62b308c3",
   "metadata": {
    "scrolled": true,
    "tags": []
   },
   "outputs": [],
   "source": [
    "api_resp = api_clean_response(req.text)"
   ]
  },
  {
   "cell_type": "code",
   "execution_count": null,
   "id": "837b56e8-088e-4b60-b03a-ce59c6b95a24",
   "metadata": {},
   "outputs": [],
   "source": [
    "print(api_resp)"
   ]
  },
  {
   "cell_type": "markdown",
   "id": "546be504-a7bb-458d-892f-de762e761e36",
   "metadata": {
    "tags": []
   },
   "source": [
    "### Pregnancies request test"
   ]
  },
  {
   "cell_type": "markdown",
   "id": "3c49cf50-4160-419f-8794-1fcfe37c7c33",
   "metadata": {
    "heading_collapsed": "true",
    "tags": []
   },
   "source": [
    "#### Building API request"
   ]
  },
  {
   "cell_type": "code",
   "execution_count": 58,
   "id": "34f897a7-254c-4591-84f6-d77186193d82",
   "metadata": {},
   "outputs": [],
   "source": [
    "api_call_url = url_api_request(\"pregnancies\")"
   ]
  },
  {
   "cell_type": "code",
   "execution_count": 59,
   "id": "1d6b02b9-d85a-480b-9583-9f413106d942",
   "metadata": {},
   "outputs": [
    {
     "data": {
      "text/plain": [
       "'https://apiscsandbox.isabelhealthcare.com/v2/pregnancies?callback=pregnancies&authorization=QDDb180BilBk7209QqFikW1iqjOx2yjt&language=english&web_service=json'"
      ]
     },
     "execution_count": 59,
     "metadata": {},
     "output_type": "execute_result"
    }
   ],
   "source": [
    "api_call_url"
   ]
  },
  {
   "cell_type": "markdown",
   "id": "a97b3829-fa8e-4237-bfcc-5d4ce0521dc7",
   "metadata": {
    "heading_collapsed": "true",
    "tags": []
   },
   "source": [
    "#### Getting API request"
   ]
  },
  {
   "cell_type": "code",
   "execution_count": 60,
   "id": "a935b6e7-f79d-4174-a0ba-33278f303b17",
   "metadata": {},
   "outputs": [
    {
     "data": {
      "text/plain": [
       "<Response [200]>"
      ]
     },
     "execution_count": 60,
     "metadata": {},
     "output_type": "execute_result"
    }
   ],
   "source": [
    "req = requests.get(api_call_url)\n",
    "req"
   ]
  },
  {
   "cell_type": "code",
   "execution_count": 62,
   "id": "5626fcae-744c-4df5-9192-56d792129ba2",
   "metadata": {
    "scrolled": true,
    "tags": []
   },
   "outputs": [],
   "source": [
    "api_resp = api_clean_response(req.text)"
   ]
  },
  {
   "cell_type": "code",
   "execution_count": 64,
   "id": "a606035b-2d8e-4072-94d1-a9084f522c61",
   "metadata": {},
   "outputs": [
    {
     "name": "stdout",
     "output_type": "stream",
     "text": [
      "{\n",
      "  \"pregnancies\": {\n",
      "    \"pregnancy\": [\n",
      "      {\n",
      "        \"pregnancy_id\": \"0\",\n",
      "        \"pregnancy_name\": \"(- not specified -)\"\n",
      "      },\n",
      "      {\n",
      "        \"pregnancy_id\": \"1\",\n",
      "        \"pregnancy_name\": \"not pregnant\"\n",
      "      },\n",
      "      {\n",
      "        \"pregnancy_id\": \"2\",\n",
      "        \"pregnancy_name\": \"pregnant\"\n",
      "      }\n",
      "    ]\n",
      "  }\n",
      "}\n"
     ]
    }
   ],
   "source": [
    "print(api_resp)"
   ]
  },
  {
   "cell_type": "markdown",
   "id": "6e723650-56cb-4bac-b196-2368e39fdd0d",
   "metadata": {
    "tags": [],
    "toc-hr-collapsed": true
   },
   "source": [
    "### Ranked differential diagnoses test"
   ]
  },
  {
   "cell_type": "markdown",
   "id": "a46f1878-5633-4e84-8c63-b98ac6aa0be6",
   "metadata": {
    "heading_collapsed": "true",
    "tags": []
   },
   "source": [
    "#### Building API request"
   ]
  },
  {
   "cell_type": "code",
   "execution_count": 32,
   "id": "71f64b7c-c0f6-4a7d-b155-b1ae15b8b7d8",
   "metadata": {},
   "outputs": [],
   "source": [
    "api_call_url = url_api_request(\"ranked_differential_diagnoses\")"
   ]
  },
  {
   "cell_type": "code",
   "execution_count": 33,
   "id": "aeae7b8e-c2a1-494a-9e69-c041f57f8c73",
   "metadata": {},
   "outputs": [
    {
     "data": {
      "text/plain": [
       "'https://apiscsandbox.isabelhealthcare.com/v2/ranked_differential_diagnoses?callback=ranked_differential_diagnoses&authorization=QDDb180BilBk7209QqFikW1iqjOx2yjt&specialties=28&dob=19850818&sex=f&pregnant=y&region=1&country_id=221&querytext=cough&flag=sortbyRW_advanced&suggest=Suggest+Differential+Diagnosis&searchType=0&web_service=json'"
      ]
     },
     "execution_count": 33,
     "metadata": {},
     "output_type": "execute_result"
    }
   ],
   "source": [
    "api_call_url"
   ]
  },
  {
   "cell_type": "markdown",
   "id": "cb588b79-2ce1-4df2-bc21-2d4df0abfa69",
   "metadata": {
    "heading_collapsed": "true",
    "tags": []
   },
   "source": [
    "#### Getting API request"
   ]
  },
  {
   "cell_type": "code",
   "execution_count": 34,
   "id": "9f43d627-fd0e-46df-8b2e-a777996016ba",
   "metadata": {},
   "outputs": [
    {
     "data": {
      "text/plain": [
       "<Response [200]>"
      ]
     },
     "execution_count": 34,
     "metadata": {},
     "output_type": "execute_result"
    }
   ],
   "source": [
    "req = requests.get(api_call_url)\n",
    "req"
   ]
  },
  {
   "cell_type": "code",
   "execution_count": 62,
   "id": "75eecf9b-ff2a-48df-9bd8-cb022b0cc40f",
   "metadata": {
    "scrolled": true,
    "tags": []
   },
   "outputs": [],
   "source": [
    "api_resp = api_clean_response(req.text)"
   ]
  },
  {
   "cell_type": "code",
   "execution_count": null,
   "id": "71d3af47-96cb-48df-b978-4f2143abc38f",
   "metadata": {},
   "outputs": [],
   "source": [
    "print(api_resp)"
   ]
  },
  {
   "cell_type": "markdown",
   "id": "4b8c7857-fc66-44f5-afd9-bfbb367d088f",
   "metadata": {},
   "source": [
    "---"
   ]
  },
  {
   "cell_type": "markdown",
   "id": "924a3d09-25df-4bfe-b3dc-fbdd1b24c731",
   "metadata": {
    "tags": []
   },
   "source": [
    "## *Notes*"
   ]
  },
  {
   "cell_type": "markdown",
   "id": "93907d09-f8fe-4b18-bbf6-e766f4182051",
   "metadata": {
    "tags": [],
    "toc-hr-collapsed": true
   },
   "source": [
    "### API Examples "
   ]
  },
  {
   "cell_type": "markdown",
   "id": "e73a76ad-81e6-44cb-83dc-870a911b0ea8",
   "metadata": {
    "tags": []
   },
   "source": [
    "#### Chicago data"
   ]
  },
  {
   "cell_type": "code",
   "execution_count": null,
   "id": "0037cb58-4fb0-4448-8962-5914399ecaf7",
   "metadata": {},
   "outputs": [],
   "source": [
    "ex_url = \"https://data.cityofchicago.org/resource/f7f2-ggz5.json\""
   ]
  },
  {
   "cell_type": "code",
   "execution_count": null,
   "id": "3fb6a69d-9352-465f-b988-50bdc61a6be3",
   "metadata": {},
   "outputs": [],
   "source": [
    "client = Socrata(ex_url)"
   ]
  },
  {
   "cell_type": "markdown",
   "id": "165988a0-fa87-42b9-99db-41930f98743d",
   "metadata": {
    "tags": []
   },
   "source": [
    "#### Open Notify"
   ]
  },
  {
   "cell_type": "code",
   "execution_count": null,
   "id": "cc97c18d-6677-4e7e-9bfb-48a9cf93f3b1",
   "metadata": {
    "scrolled": true,
    "tags": []
   },
   "outputs": [],
   "source": [
    "req = requests.get('http://api.open-notify.org')\n",
    "print(request.text)"
   ]
  },
  {
   "cell_type": "markdown",
   "id": "96e6c798-18e3-4680-9991-7b91961147cb",
   "metadata": {
    "tags": [],
    "toc-hr-collapsed": true
   },
   "source": [
    "### Pasting Keys to URL"
   ]
  },
  {
   "cell_type": "code",
   "execution_count": null,
   "id": "779a3e1e-bb9b-43a5-ba57-50489eae28ec",
   "metadata": {},
   "outputs": [],
   "source": [
    "ag_url_auth = \"https://apiscsandbox.isabelhealthcare.com/v2/age_groups?callback=age_groups&authorization=QDDb180BilBk7209QqFikW1iqjOx2yjt&language=english&web_service=json\"\n",
    "ag_url_auth"
   ]
  },
  {
   "cell_type": "code",
   "execution_count": null,
   "id": "8d42da33-cb3e-41a9-8f17-80ea1ccecb79",
   "metadata": {},
   "outputs": [],
   "source": [
    "mthd = \"age_groups\""
   ]
  },
  {
   "cell_type": "code",
   "execution_count": null,
   "id": "90a7c0cf-aee2-4a97-842f-74edd1ca33d1",
   "metadata": {},
   "outputs": [],
   "source": [
    "x = url_api_request(mthd)\n",
    "x"
   ]
  },
  {
   "cell_type": "markdown",
   "id": "11c81f48-16b1-4c4e-addb-1990fd299cb0",
   "metadata": {
    "tags": []
   },
   "source": [
    "### Reading a JSON file"
   ]
  },
  {
   "cell_type": "code",
   "execution_count": null,
   "id": "4f9a6462-3629-4d61-94af-c589ebcfc131",
   "metadata": {},
   "outputs": [],
   "source": [
    "pth = \"../feed/\""
   ]
  },
  {
   "cell_type": "code",
   "execution_count": null,
   "id": "a8677100-9ab9-423f-9261-af365010c9cb",
   "metadata": {},
   "outputs": [],
   "source": [
    "feed_name = \"age_request.json\""
   ]
  },
  {
   "cell_type": "code",
   "execution_count": null,
   "id": "30e6747b-c088-4268-b4ee-1b310c002f4f",
   "metadata": {},
   "outputs": [],
   "source": [
    "pth + feed_name"
   ]
  },
  {
   "cell_type": "code",
   "execution_count": null,
   "id": "4e949370-d0ef-44c5-97b1-312c884014da",
   "metadata": {},
   "outputs": [],
   "source": [
    "f = open(pth + feed_name, )"
   ]
  },
  {
   "cell_type": "code",
   "execution_count": null,
   "id": "8721ade2-f7e4-4933-9a62-952e32f614a2",
   "metadata": {},
   "outputs": [],
   "source": [
    "f2 = json.load(f)"
   ]
  },
  {
   "cell_type": "code",
   "execution_count": null,
   "id": "da19691c-de4a-4e90-8c3d-de6907fd7fa5",
   "metadata": {},
   "outputs": [],
   "source": [
    "f2"
   ]
  },
  {
   "cell_type": "code",
   "execution_count": null,
   "id": "3e347016-ea02-4bbf-8b1f-f12bb6be6ce8",
   "metadata": {},
   "outputs": [],
   "source": [
    "type(f2)"
   ]
  },
  {
   "cell_type": "code",
   "execution_count": null,
   "id": "b3c2de33-55e5-420e-ba13-65af806e8b8f",
   "metadata": {},
   "outputs": [],
   "source": [
    "f2[\"language\"]"
   ]
  },
  {
   "cell_type": "markdown",
   "id": "84dee052-2b7a-4b96-a9e3-dc862796756e",
   "metadata": {
    "tags": []
   },
   "source": [
    "### Writing a JSON file"
   ]
  },
  {
   "cell_type": "code",
   "execution_count": 49,
   "id": "b754bdb2-0016-4d6b-84e0-53dfa12c55f1",
   "metadata": {},
   "outputs": [],
   "source": [
    "pth = \"../output/\""
   ]
  },
  {
   "cell_type": "code",
   "execution_count": 50,
   "id": "1963d018-a25c-4543-b679-8d29d8fafcd6",
   "metadata": {},
   "outputs": [],
   "source": [
    "out_file = \"output_test.json\""
   ]
  },
  {
   "cell_type": "code",
   "execution_count": 51,
   "id": "1b4c6e01-ad17-4c49-832e-14eb2009621c",
   "metadata": {
    "scrolled": true,
    "tags": []
   },
   "outputs": [
    {
     "data": {
      "text/plain": [
       "'pregnancies({\"pregnancies\":{\"pregnancy\":[{\"pregnancy_id\":\"0\",\"pregnancy_name\":\"(- not specified -)\"},{\"pregnancy_id\":\"1\",\"pregnancy_name\":\"not pregnant\"},{\"pregnancy_id\":\"2\",\"pregnancy_name\":\"pregnant\"}]}});'"
      ]
     },
     "execution_count": 51,
     "metadata": {},
     "output_type": "execute_result"
    }
   ],
   "source": [
    "req.text"
   ]
  },
  {
   "cell_type": "code",
   "execution_count": 52,
   "id": "0d39e1b0-f202-4ee8-9da3-52a757c7f135",
   "metadata": {},
   "outputs": [],
   "source": [
    "jsonFile = open(pth + out_file, \"w\")"
   ]
  },
  {
   "cell_type": "code",
   "execution_count": 53,
   "id": "ffc4b616-ef55-43b9-82b7-4b871c434cb8",
   "metadata": {},
   "outputs": [
    {
     "name": "stdout",
     "output_type": "stream",
     "text": [
      "{\n",
      "  \"pregnancies\": {\n",
      "    \"pregnancy\": [\n",
      "      {\n",
      "        \"pregnancy_id\": \"0\",\n",
      "        \"pregnancy_name\": \"(- not specified -)\"\n",
      "      },\n",
      "      {\n",
      "        \"pregnancy_id\": \"1\",\n",
      "        \"pregnancy_name\": \"not pregnant\"\n",
      "      },\n",
      "      {\n",
      "        \"pregnancy_id\": \"2\",\n",
      "        \"pregnancy_name\": \"pregnant\"\n",
      "      }\n",
      "    ]\n",
      "  }\n",
      "}\n"
     ]
    },
    {
     "ename": "TypeError",
     "evalue": "write() argument must be str, not None",
     "output_type": "error",
     "traceback": [
      "\u001b[0;31m---------------------------------------------------------------------------\u001b[0m",
      "\u001b[0;31mTypeError\u001b[0m                                 Traceback (most recent call last)",
      "\u001b[0;32m/var/folders/0q/3y5dk4390kqc86qh28v817lw0000gn/T/ipykernel_57319/974625392.py\u001b[0m in \u001b[0;36m<module>\u001b[0;34m\u001b[0m\n\u001b[0;32m----> 1\u001b[0;31m \u001b[0mjsonFile\u001b[0m\u001b[0;34m.\u001b[0m\u001b[0mwrite\u001b[0m\u001b[0;34m(\u001b[0m\u001b[0mapi_clean_response\u001b[0m\u001b[0;34m(\u001b[0m\u001b[0mreq\u001b[0m\u001b[0;34m.\u001b[0m\u001b[0mtext\u001b[0m\u001b[0;34m)\u001b[0m\u001b[0;34m)\u001b[0m\u001b[0;34m\u001b[0m\u001b[0;34m\u001b[0m\u001b[0m\n\u001b[0m",
      "\u001b[0;31mTypeError\u001b[0m: write() argument must be str, not None"
     ]
    }
   ],
   "source": [
    "jsonFile.write(api_clean_response(req.text))"
   ]
  },
  {
   "cell_type": "code",
   "execution_count": 48,
   "id": "6d5b89c3-7454-4129-9753-6ef4f74811e4",
   "metadata": {},
   "outputs": [],
   "source": [
    "jsonFile.close()"
   ]
  },
  {
   "cell_type": "markdown",
   "id": "9900eda3-6938-4d57-9fb8-b7a1739263fc",
   "metadata": {},
   "source": [
    "---\n",
    "---"
   ]
  }
 ],
 "metadata": {
  "kernelspec": {
   "display_name": "Python 3 (ipykernel)",
   "language": "python",
   "name": "python3"
  },
  "language_info": {
   "codemirror_mode": {
    "name": "ipython",
    "version": 3
   },
   "file_extension": ".py",
   "mimetype": "text/x-python",
   "name": "python",
   "nbconvert_exporter": "python",
   "pygments_lexer": "ipython3",
   "version": "3.9.1"
  },
  "toc-autonumbering": false,
  "toc-showcode": false,
  "toc-showmarkdowntxt": false
 },
 "nbformat": 4,
 "nbformat_minor": 5
}
