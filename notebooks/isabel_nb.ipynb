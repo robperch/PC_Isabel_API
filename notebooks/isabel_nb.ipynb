{
 "cells": [
  {
   "cell_type": "markdown",
   "id": "85f318e3-3dd3-491e-9ebb-2bd116caf0cc",
   "metadata": {},
   "source": [
    "# Isabel API Usage"
   ]
  },
  {
   "cell_type": "markdown",
   "id": "155324fb-5111-4e6a-a50e-743b5c7e888f",
   "metadata": {},
   "source": [
    "## Imports"
   ]
  },
  {
   "cell_type": "markdown",
   "id": "338858db-16c6-47ae-806f-663b1e37ec29",
   "metadata": {},
   "source": [
    "#### Standard library imports"
   ]
  },
  {
   "cell_type": "code",
   "execution_count": 1,
   "id": "37f88368-3a2b-4b3e-9798-fe6ae223ff85",
   "metadata": {
    "tags": []
   },
   "outputs": [],
   "source": [
    "import sys\n",
    "\n",
    "import requests\n",
    "\n",
    "import json\n",
    "\n",
    "import re"
   ]
  },
  {
   "cell_type": "markdown",
   "id": "08c5071d-7f97-4446-89de-80edb8f3d75d",
   "metadata": {
    "tags": []
   },
   "source": [
    "#### Third party imports"
   ]
  },
  {
   "cell_type": "raw",
   "id": "841c4d7e-b71f-4bcd-9d8a-209d7b05c9b9",
   "metadata": {},
   "source": []
  },
  {
   "cell_type": "markdown",
   "id": "9c5b6538-e89e-435c-90b6-d3978dd1dc1d",
   "metadata": {
    "heading_collapsed": "true",
    "tags": []
   },
   "source": [
    "#### Local application imports"
   ]
  },
  {
   "cell_type": "code",
   "execution_count": 2,
   "id": "a91e20db-e19a-4e2f-a87b-2fe7d1f0469e",
   "metadata": {},
   "outputs": [],
   "source": [
    "sys.path.append(\"../\")"
   ]
  },
  {
   "cell_type": "code",
   "execution_count": 4,
   "id": "725bc80a-3771-436f-86eb-f231c118115a",
   "metadata": {},
   "outputs": [
    {
     "name": "stdout",
     "output_type": "stream",
     "text": [
      "The autoreload extension is already loaded. To reload it, use:\n",
      "  %reload_ext autoreload\n"
     ]
    }
   ],
   "source": [
    "%load_ext autoreload\n",
    "%autoreload 2\n",
    "\n",
    "from src.utils.isabel_funcs import *\n",
    "\n",
    "from src.utils.isabel_params import *"
   ]
  },
  {
   "cell_type": "markdown",
   "id": "324f4533-cf3d-40ac-8d3f-7183ca4a7ef9",
   "metadata": {},
   "source": [
    "---"
   ]
  },
  {
   "cell_type": "markdown",
   "id": "f0632e6f-fd34-477f-83ad-1fc20a3c5678",
   "metadata": {
    "tags": []
   },
   "source": [
    "## Isabel API tests"
   ]
  },
  {
   "cell_type": "markdown",
   "id": "1395d3e9-f724-4ae6-b198-3b2e0020896f",
   "metadata": {
    "tags": [],
    "toc-hr-collapsed": true
   },
   "source": [
    "### Age request test"
   ]
  },
  {
   "cell_type": "markdown",
   "id": "7b5a83b2-0fa5-4f72-971a-3d3050e1653f",
   "metadata": {
    "heading_collapsed": "true",
    "tags": [],
    "toc-hr-collapsed": true
   },
   "source": [
    "#### Building API request"
   ]
  },
  {
   "cell_type": "code",
   "execution_count": 27,
   "id": "1ef0c424-7062-40c5-a17a-6ce9eed8b05f",
   "metadata": {},
   "outputs": [],
   "source": [
    "api_call_url = url_api_request(\"age_groups\")"
   ]
  },
  {
   "cell_type": "code",
   "execution_count": 28,
   "id": "c0a4edbb-737a-4224-a21c-110202fb1c59",
   "metadata": {},
   "outputs": [
    {
     "data": {
      "text/plain": [
       "'https://apiscsandbox.isabelhealthcare.com/v2/age_groups?callback=age_groups&authorization=QDDb180BilBk7209QqFikW1iqjOx2yjt&language=english&web_service=json'"
      ]
     },
     "execution_count": 28,
     "metadata": {},
     "output_type": "execute_result"
    }
   ],
   "source": [
    "api_call_url"
   ]
  },
  {
   "cell_type": "markdown",
   "id": "ba32b096-af59-4b06-8436-9a6399816af5",
   "metadata": {
    "heading_collapsed": "true",
    "tags": [],
    "toc-hr-collapsed": true
   },
   "source": [
    "#### Getting API request"
   ]
  },
  {
   "cell_type": "code",
   "execution_count": 29,
   "id": "0e163634-8d39-4da1-9328-578d3364c3f7",
   "metadata": {},
   "outputs": [
    {
     "data": {
      "text/plain": [
       "<Response [200]>"
      ]
     },
     "execution_count": 29,
     "metadata": {},
     "output_type": "execute_result"
    }
   ],
   "source": [
    "req = requests.get(api_call_url)\n",
    "req"
   ]
  },
  {
   "cell_type": "code",
   "execution_count": 30,
   "id": "d1a2571e-7d92-45f8-9028-db10760c9c4a",
   "metadata": {
    "scrolled": true,
    "tags": []
   },
   "outputs": [
    {
     "name": "stdout",
     "output_type": "stream",
     "text": [
      "{\n",
      "  \"age_groups\": {\n",
      "    \"age_group\": [\n",
      "      {\n",
      "        \"agegroup_id\": \"1\",\n",
      "        \"ordinal\": \"0\",\n",
      "        \"name\": \"newborn\",\n",
      "        \"yr_from\": \"0\",\n",
      "        \"yr_to\": \"28 d\",\n",
      "        \"branch\": \"paediatric\",\n",
      "        \"can_conceive\": \"false\"\n",
      "      },\n",
      "      {\n",
      "        \"agegroup_id\": \"2\",\n",
      "        \"ordinal\": \"2\",\n",
      "        \"name\": \"infant\",\n",
      "        \"yr_from\": \"29 d\",\n",
      "        \"yr_to\": \"1 yr\",\n",
      "        \"branch\": \"paediatric\",\n",
      "        \"can_conceive\": \"false\"\n",
      "      },\n",
      "      {\n",
      "        \"agegroup_id\": \"3\",\n",
      "        \"ordinal\": \"4\",\n",
      "        \"name\": \"younger child\",\n",
      "        \"yr_from\": \"1\",\n",
      "        \"yr_to\": \"5 yrs\",\n",
      "        \"branch\": \"paediatric\",\n",
      "        \"can_conceive\": \"false\"\n",
      "      },\n",
      "      {\n",
      "        \"agegroup_id\": \"10\",\n",
      "        \"ordinal\": \"5\",\n",
      "        \"name\": \"older child\",\n",
      "        \"yr_from\": \"6\",\n",
      "        \"yr_to\": \"12 yrs \",\n",
      "        \"branch\": \"paediatric\",\n",
      "        \"can_conceive\": \"false\"\n",
      "      },\n",
      "      {\n",
      "        \"agegroup_id\": \"4\",\n",
      "        \"ordinal\": \"6\",\n",
      "        \"name\": \"adolescent\",\n",
      "        \"yr_from\": \"13\",\n",
      "        \"yr_to\": \"16 yrs\",\n",
      "        \"branch\": \"paediatric\",\n",
      "        \"can_conceive\": \"true\"\n",
      "      },\n",
      "      {\n",
      "        \"agegroup_id\": \"7\",\n",
      "        \"ordinal\": \"8\",\n",
      "        \"name\": \"young adult\",\n",
      "        \"yr_from\": \"17\",\n",
      "        \"yr_to\": \"29 yrs\",\n",
      "        \"branch\": \"adult\",\n",
      "        \"can_conceive\": \"true\"\n",
      "      },\n",
      "      {\n",
      "        \"agegroup_id\": \"5\",\n",
      "        \"ordinal\": \"10\",\n",
      "        \"name\": \"adult\",\n",
      "        \"yr_from\": \"30\",\n",
      "        \"yr_to\": \"39 yrs\",\n",
      "        \"branch\": \"adult\",\n",
      "        \"can_conceive\": \"true\"\n",
      "      },\n",
      "      {\n",
      "        \"agegroup_id\": \"8\",\n",
      "        \"ordinal\": \"12\",\n",
      "        \"name\": \"adult\",\n",
      "        \"yr_from\": \"40\",\n",
      "        \"yr_to\": \"49 yrs\",\n",
      "        \"branch\": \"adult\",\n",
      "        \"can_conceive\": \"true\"\n",
      "      },\n",
      "      {\n",
      "        \"agegroup_id\": \"9\",\n",
      "        \"ordinal\": \"14\",\n",
      "        \"name\": \"adult\",\n",
      "        \"yr_from\": \"50\",\n",
      "        \"yr_to\": \"64 yrs\",\n",
      "        \"branch\": \"adult\",\n",
      "        \"can_conceive\": \"true\"\n",
      "      },\n",
      "      {\n",
      "        \"agegroup_id\": \"6\",\n",
      "        \"ordinal\": \"16\",\n",
      "        \"name\": \"senior\",\n",
      "        \"yr_from\": \"65 yrs\",\n",
      "        \"yr_to\": \"over\",\n",
      "        \"branch\": \"adult\",\n",
      "        \"can_conceive\": \"false\"\n",
      "      }\n",
      "    ]\n",
      "  }\n",
      "}\n"
     ]
    }
   ],
   "source": [
    "api_clean_response(req.text)"
   ]
  },
  {
   "cell_type": "markdown",
   "id": "041f30bc-1da6-4e8c-990b-64931a51636a",
   "metadata": {
    "tags": [],
    "toc-hr-collapsed": true
   },
   "source": [
    "### Regions request test"
   ]
  },
  {
   "cell_type": "markdown",
   "id": "a231c1cb-cda3-4dfb-814a-37a451b655fc",
   "metadata": {
    "heading_collapsed": "true",
    "tags": [],
    "toc-hr-collapsed": true
   },
   "source": [
    "#### Building API request"
   ]
  },
  {
   "cell_type": "code",
   "execution_count": 41,
   "id": "ab659329-2508-4b90-af27-94001bd78d52",
   "metadata": {},
   "outputs": [],
   "source": [
    "api_call_url = url_api_request(\"regions\")"
   ]
  },
  {
   "cell_type": "code",
   "execution_count": 42,
   "id": "a8207bdf-a219-4088-9608-b88cf678b429",
   "metadata": {},
   "outputs": [
    {
     "data": {
      "text/plain": [
       "'https://apiscsandbox.isabelhealthcare.com/v2/regions?callback=regions&authorization=QDDb180BilBk7209QqFikW1iqjOx2yjt&language=english&web_service=json'"
      ]
     },
     "execution_count": 42,
     "metadata": {},
     "output_type": "execute_result"
    }
   ],
   "source": [
    "api_call_url"
   ]
  },
  {
   "cell_type": "markdown",
   "id": "3dacca9f-a9ff-42cd-987a-f604d66e2888",
   "metadata": {
    "heading_collapsed": "true",
    "tags": [],
    "toc-hr-collapsed": true
   },
   "source": [
    "#### Getting API request"
   ]
  },
  {
   "cell_type": "code",
   "execution_count": 43,
   "id": "755d1814-e34d-4f57-b9e9-3de50dbf545d",
   "metadata": {},
   "outputs": [
    {
     "data": {
      "text/plain": [
       "<Response [200]>"
      ]
     },
     "execution_count": 43,
     "metadata": {},
     "output_type": "execute_result"
    }
   ],
   "source": [
    "req = requests.get(api_call_url)\n",
    "req"
   ]
  },
  {
   "cell_type": "code",
   "execution_count": 44,
   "id": "8db32023-0103-4688-b1c9-8641d546e855",
   "metadata": {
    "scrolled": true,
    "tags": []
   },
   "outputs": [
    {
     "name": "stdout",
     "output_type": "stream",
     "text": [
      "{\n",
      "  \"travel_history\": {\n",
      "    \"region\": [\n",
      "      {\n",
      "        \"region_id\": \"1\",\n",
      "        \"region_name\": \"Western Europe\"\n",
      "      },\n",
      "      {\n",
      "        \"region_id\": \"2\",\n",
      "        \"region_name\": \"Eastern Europe\"\n",
      "      },\n",
      "      {\n",
      "        \"region_id\": \"3\",\n",
      "        \"region_name\": \"Africa Central\"\n",
      "      },\n",
      "      {\n",
      "        \"region_id\": \"4\",\n",
      "        \"region_name\": \"Africa North\"\n",
      "      },\n",
      "      {\n",
      "        \"region_id\": \"5\",\n",
      "        \"region_name\": \"Africa East\"\n",
      "      },\n",
      "      {\n",
      "        \"region_id\": \"6\",\n",
      "        \"region_name\": \"Africa Southern\"\n",
      "      },\n",
      "      {\n",
      "        \"region_id\": \"7\",\n",
      "        \"region_name\": \"Africa West\"\n",
      "      },\n",
      "      {\n",
      "        \"region_id\": \"8\",\n",
      "        \"region_name\": \"Asia Southeast\"\n",
      "      },\n",
      "      {\n",
      "        \"region_id\": \"9\",\n",
      "        \"region_name\": \"Asia East\"\n",
      "      },\n",
      "      {\n",
      "        \"region_id\": \"10\",\n",
      "        \"region_name\": \"Asia South\"\n",
      "      },\n",
      "      {\n",
      "        \"region_id\": \"11\",\n",
      "        \"region_name\": \"Caribbean\"\n",
      "      },\n",
      "      {\n",
      "        \"region_id\": \"12\",\n",
      "        \"region_name\": \"North America\"\n",
      "      },\n",
      "      {\n",
      "        \"region_id\": \"13\",\n",
      "        \"region_name\": \"America Central\"\n",
      "      },\n",
      "      {\n",
      "        \"region_id\": \"14\",\n",
      "        \"region_name\": \"America South (tropical)\"\n",
      "      },\n",
      "      {\n",
      "        \"region_id\": \"15\",\n",
      "        \"region_name\": \"America South (temperate)\"\n",
      "      },\n",
      "      {\n",
      "        \"region_id\": \"16\",\n",
      "        \"region_name\": \"Australasia\"\n",
      "      },\n",
      "      {\n",
      "        \"region_id\": \"17\",\n",
      "        \"region_name\": \"Middle East\"\n",
      "      }\n",
      "    ]\n",
      "  }\n",
      "}\n"
     ]
    }
   ],
   "source": [
    "api_clean_response(req.text)"
   ]
  },
  {
   "cell_type": "markdown",
   "id": "0e53ef00-48bd-4178-8632-9b397c3b813d",
   "metadata": {
    "tags": [],
    "toc-hr-collapsed": true
   },
   "source": [
    "### Countries request test"
   ]
  },
  {
   "cell_type": "markdown",
   "id": "9b4c2746-d4d4-409f-842a-7765f19cc5c6",
   "metadata": {
    "heading_collapsed": "true",
    "tags": [],
    "toc-hr-collapsed": true
   },
   "source": [
    "#### Building API request"
   ]
  },
  {
   "cell_type": "code",
   "execution_count": 45,
   "id": "e74615d8-abb7-4eef-baec-8a84c0f1f152",
   "metadata": {},
   "outputs": [],
   "source": [
    "api_call_url = url_api_request(\"countries\")"
   ]
  },
  {
   "cell_type": "code",
   "execution_count": 46,
   "id": "a1b2e67b-1668-4daf-adfc-3cda469153da",
   "metadata": {},
   "outputs": [
    {
     "data": {
      "text/plain": [
       "'https://apiscsandbox.isabelhealthcare.com/v2/countries?callback=countries&authorization=QDDb180BilBk7209QqFikW1iqjOx2yjt&language=english&web_service=json'"
      ]
     },
     "execution_count": 46,
     "metadata": {},
     "output_type": "execute_result"
    }
   ],
   "source": [
    "api_call_url"
   ]
  },
  {
   "cell_type": "markdown",
   "id": "f443198f-5ab4-4f23-8fa6-ce7469220746",
   "metadata": {
    "heading_collapsed": "true",
    "tags": [],
    "toc-hr-collapsed": true
   },
   "source": [
    "#### Getting API request"
   ]
  },
  {
   "cell_type": "code",
   "execution_count": 47,
   "id": "bb2effd6-b809-4d88-a57b-4da1a4d0ba53",
   "metadata": {},
   "outputs": [
    {
     "data": {
      "text/plain": [
       "<Response [200]>"
      ]
     },
     "execution_count": 47,
     "metadata": {},
     "output_type": "execute_result"
    }
   ],
   "source": [
    "req = requests.get(api_call_url)\n",
    "req"
   ]
  },
  {
   "cell_type": "code",
   "execution_count": 48,
   "id": "6e103ff2-096d-447c-8fef-2067ff722885",
   "metadata": {
    "scrolled": true,
    "tags": []
   },
   "outputs": [
    {
     "name": "stdout",
     "output_type": "stream",
     "text": [
      "{\n",
      "  \"countries\": {\n",
      "    \"country\": [\n",
      "      {\n",
      "        \"country_id\": \"1\",\n",
      "        \"country_name\": \"Afghanistan\",\n",
      "        \"abbreviation\": \"AF\",\n",
      "        \"region_id\": \"17\"\n",
      "      },\n",
      "      {\n",
      "        \"country_id\": \"2\",\n",
      "        \"country_name\": \"Albania\",\n",
      "        \"abbreviation\": \"AL\",\n",
      "        \"region_id\": \"2\"\n",
      "      },\n",
      "      {\n",
      "        \"country_id\": \"3\",\n",
      "        \"country_name\": \"Algeria\",\n",
      "        \"abbreviation\": \"DZ\",\n",
      "        \"region_id\": \"4\"\n",
      "      },\n",
      "      {\n",
      "        \"country_id\": \"4\",\n",
      "        \"country_name\": \"Amer.Virgin Is.\",\n",
      "        \"abbreviation\": \"VI\",\n",
      "        \"region_id\": \"14\"\n",
      "      },\n",
      "      {\n",
      "        \"country_id\": \"5\",\n",
      "        \"country_name\": \"Andorra\",\n",
      "        \"abbreviation\": \"AD\",\n",
      "        \"region_id\": \"1\"\n",
      "      },\n",
      "      {\n",
      "        \"country_id\": \"6\",\n",
      "        \"country_name\": \"Angola\",\n",
      "        \"abbreviation\": \"AO\",\n",
      "        \"region_id\": \"3\"\n",
      "      },\n",
      "      {\n",
      "        \"country_id\": \"7\",\n",
      "        \"country_name\": \"Anguilla\",\n",
      "        \"abbreviation\": \"AI\",\n",
      "        \"region_id\": \"11\"\n",
      "      },\n",
      "      {\n",
      "        \"country_id\": \"8\",\n",
      "        \"country_name\": \"Antarctica\",\n",
      "        \"abbreviation\": \"AQ\",\n",
      "        \"region_id\": \"1\"\n",
      "      },\n",
      "      {\n",
      "        \"country_id\": \"9\",\n",
      "        \"country_name\": \"Antigua/Barbads\",\n",
      "        \"abbreviation\": \"AG\",\n",
      "        \"region_id\": \"11\"\n",
      "      },\n",
      "      {\n",
      "        \"country_id\": \"10\",\n",
      "        \"country_name\": \"Argentina\",\n",
      "        \"abbreviation\": \"AR\",\n",
      "        \"region_id\": \"15\"\n",
      "      },\n",
      "      {\n",
      "        \"country_id\": \"11\",\n",
      "        \"country_name\": \"Armenia\",\n",
      "        \"abbreviation\": \"AM\",\n",
      "        \"region_id\": \"17\"\n",
      "      },\n",
      "      {\n",
      "        \"country_id\": \"12\",\n",
      "        \"country_name\": \"Aruba\",\n",
      "        \"abbreviation\": \"AW\",\n",
      "        \"region_id\": \"11\"\n",
      "      },\n",
      "      {\n",
      "        \"country_id\": \"13\",\n",
      "        \"country_name\": \"Australia\",\n",
      "        \"abbreviation\": \"AU\",\n",
      "        \"region_id\": \"16\"\n",
      "      },\n",
      "      {\n",
      "        \"country_id\": \"14\",\n",
      "        \"country_name\": \"Austria\",\n",
      "        \"abbreviation\": \"AT\",\n",
      "        \"region_id\": \"1\"\n",
      "      },\n",
      "      {\n",
      "        \"country_id\": \"15\",\n",
      "        \"country_name\": \"Azerbaijan\",\n",
      "        \"abbreviation\": \"AZ\",\n",
      "        \"region_id\": \"17\"\n",
      "      },\n",
      "      {\n",
      "        \"country_id\": \"16\",\n",
      "        \"country_name\": \"Bahamas\",\n",
      "        \"abbreviation\": \"BS\",\n",
      "        \"region_id\": \"11\"\n",
      "      },\n",
      "      {\n",
      "        \"country_id\": \"17\",\n",
      "        \"country_name\": \"Bahrain\",\n",
      "        \"abbreviation\": \"BH\",\n",
      "        \"region_id\": \"17\"\n",
      "      },\n",
      "      {\n",
      "        \"country_id\": \"18\",\n",
      "        \"country_name\": \"Bangladesh\",\n",
      "        \"abbreviation\": \"BD\",\n",
      "        \"region_id\": \"10\"\n",
      "      },\n",
      "      {\n",
      "        \"country_id\": \"19\",\n",
      "        \"country_name\": \"Barbados\",\n",
      "        \"abbreviation\": \"BB\",\n",
      "        \"region_id\": \"11\"\n",
      "      },\n",
      "      {\n",
      "        \"country_id\": \"20\",\n",
      "        \"country_name\": \"Belarus\",\n",
      "        \"abbreviation\": \"BY\",\n",
      "        \"region_id\": \"2\"\n",
      "      },\n",
      "      {\n",
      "        \"country_id\": \"21\",\n",
      "        \"country_name\": \"Belgium\",\n",
      "        \"abbreviation\": \"BE\",\n",
      "        \"region_id\": \"1\"\n",
      "      },\n",
      "      {\n",
      "        \"country_id\": \"22\",\n",
      "        \"country_name\": \"Belize\",\n",
      "        \"abbreviation\": \"BZ\",\n",
      "        \"region_id\": \"13\"\n",
      "      },\n",
      "      {\n",
      "        \"country_id\": \"23\",\n",
      "        \"country_name\": \"Benin\",\n",
      "        \"abbreviation\": \"BJ\",\n",
      "        \"region_id\": \"7\"\n",
      "      },\n",
      "      {\n",
      "        \"country_id\": \"24\",\n",
      "        \"country_name\": \"Bermuda\",\n",
      "        \"abbreviation\": \"BM\",\n",
      "        \"region_id\": \"11\"\n",
      "      },\n",
      "      {\n",
      "        \"country_id\": \"25\",\n",
      "        \"country_name\": \"Bhutan\",\n",
      "        \"abbreviation\": \"BT\",\n",
      "        \"region_id\": \"10\"\n",
      "      },\n",
      "      {\n",
      "        \"country_id\": \"26\",\n",
      "        \"country_name\": \"Bolivia\",\n",
      "        \"abbreviation\": \"BO\",\n",
      "        \"region_id\": \"14\"\n",
      "      },\n",
      "      {\n",
      "        \"country_id\": \"27\",\n",
      "        \"country_name\": \"Bosnia-Herz.\",\n",
      "        \"abbreviation\": \"BA\",\n",
      "        \"region_id\": \"2\"\n",
      "      },\n",
      "      {\n",
      "        \"country_id\": \"28\",\n",
      "        \"country_name\": \"Botswana\",\n",
      "        \"abbreviation\": \"BW\",\n",
      "        \"region_id\": \"6\"\n",
      "      },\n",
      "      {\n",
      "        \"country_id\": \"29\",\n",
      "        \"country_name\": \"Bouvet Island\",\n",
      "        \"abbreviation\": \"BV\",\n",
      "        \"region_id\": \"1\"\n",
      "      },\n",
      "      {\n",
      "        \"country_id\": \"30\",\n",
      "        \"country_name\": \"Brazil\",\n",
      "        \"abbreviation\": \"BR\",\n",
      "        \"region_id\": \"14\"\n",
      "      },\n",
      "      {\n",
      "        \"country_id\": \"31\",\n",
      "        \"country_name\": \"Brit.Ind.Oc.Ter\",\n",
      "        \"abbreviation\": \"IO\",\n",
      "        \"region_id\": \"5\"\n",
      "      },\n",
      "      {\n",
      "        \"country_id\": \"32\",\n",
      "        \"country_name\": \"Brit.Virgin Is.\",\n",
      "        \"abbreviation\": \"VG\",\n",
      "        \"region_id\": \"11\"\n",
      "      },\n",
      "      {\n",
      "        \"country_id\": \"33\",\n",
      "        \"country_name\": \"Brunei Dar-es-S\",\n",
      "        \"abbreviation\": \"BN\",\n",
      "        \"region_id\": \"8\"\n",
      "      },\n",
      "      {\n",
      "        \"country_id\": \"34\",\n",
      "        \"country_name\": \"Bulgaria\",\n",
      "        \"abbreviation\": \"BG\",\n",
      "        \"region_id\": \"2\"\n",
      "      },\n",
      "      {\n",
      "        \"country_id\": \"35\",\n",
      "        \"country_name\": \"Burkina-Faso\",\n",
      "        \"abbreviation\": \"BF\",\n",
      "        \"region_id\": \"7\"\n",
      "      },\n",
      "      {\n",
      "        \"country_id\": \"240\",\n",
      "        \"country_name\": \"Burma\",\n",
      "        \"abbreviation\": \"BU\",\n",
      "        \"region_id\": \"8\"\n",
      "      },\n",
      "      {\n",
      "        \"country_id\": \"36\",\n",
      "        \"country_name\": \"Burundi\",\n",
      "        \"abbreviation\": \"BI\",\n",
      "        \"region_id\": \"5\"\n",
      "      },\n",
      "      {\n",
      "        \"country_id\": \"37\",\n",
      "        \"country_name\": \"Cambodia\",\n",
      "        \"abbreviation\": \"KH\",\n",
      "        \"region_id\": \"8\"\n",
      "      },\n",
      "      {\n",
      "        \"country_id\": \"38\",\n",
      "        \"country_name\": \"Cameroon\",\n",
      "        \"abbreviation\": \"CM\",\n",
      "        \"region_id\": \"3\"\n",
      "      },\n",
      "      {\n",
      "        \"country_id\": \"39\",\n",
      "        \"country_name\": \"Canada\",\n",
      "        \"abbreviation\": \"CA\",\n",
      "        \"region_id\": \"12\"\n",
      "      },\n",
      "      {\n",
      "        \"country_id\": \"40\",\n",
      "        \"country_name\": \"Cape Verde\",\n",
      "        \"abbreviation\": \"CV\",\n",
      "        \"region_id\": \"7\"\n",
      "      },\n",
      "      {\n",
      "        \"country_id\": \"41\",\n",
      "        \"country_name\": \"Cayman Islands\",\n",
      "        \"abbreviation\": \"KY\",\n",
      "        \"region_id\": \"11\"\n",
      "      },\n",
      "      {\n",
      "        \"country_id\": \"42\",\n",
      "        \"country_name\": \"Central Afr.Rep\",\n",
      "        \"abbreviation\": \"CF\",\n",
      "        \"region_id\": \"3\"\n",
      "      },\n",
      "      {\n",
      "        \"country_id\": \"43\",\n",
      "        \"country_name\": \"Chad\",\n",
      "        \"abbreviation\": \"TD\",\n",
      "        \"region_id\": \"3\"\n",
      "      },\n",
      "      {\n",
      "        \"country_id\": \"44\",\n",
      "        \"country_name\": \"Channel Islands\",\n",
      "        \"abbreviation\": \"CI\",\n",
      "        \"region_id\": \"1\"\n",
      "      },\n",
      "      {\n",
      "        \"country_id\": \"45\",\n",
      "        \"country_name\": \"Chile\",\n",
      "        \"abbreviation\": \"CL\",\n",
      "        \"region_id\": \"15\"\n",
      "      },\n",
      "      {\n",
      "        \"country_id\": \"46\",\n",
      "        \"country_name\": \"China\",\n",
      "        \"abbreviation\": \"CN\",\n",
      "        \"region_id\": \"9\"\n",
      "      },\n",
      "      {\n",
      "        \"country_id\": \"47\",\n",
      "        \"country_name\": \"Christmas Islnd\",\n",
      "        \"abbreviation\": \"CX\",\n",
      "        \"region_id\": \"16\"\n",
      "      },\n",
      "      {\n",
      "        \"country_id\": \"48\",\n",
      "        \"country_name\": \"Coconut Islands\",\n",
      "        \"abbreviation\": \"CC\",\n",
      "        \"region_id\": \"16\"\n",
      "      },\n",
      "      {\n",
      "        \"country_id\": \"49\",\n",
      "        \"country_name\": \"Colombia\",\n",
      "        \"abbreviation\": \"CO\",\n",
      "        \"region_id\": \"15\"\n",
      "      },\n",
      "      {\n",
      "        \"country_id\": \"50\",\n",
      "        \"country_name\": \"Comoro\",\n",
      "        \"abbreviation\": \"KM\",\n",
      "        \"region_id\": \"5\"\n",
      "      },\n",
      "      {\n",
      "        \"country_id\": \"51\",\n",
      "        \"country_name\": \"Congo\",\n",
      "        \"abbreviation\": \"CG\",\n",
      "        \"region_id\": \"3\"\n",
      "      },\n",
      "      {\n",
      "        \"country_id\": \"52\",\n",
      "        \"country_name\": \"Cook Islands\",\n",
      "        \"abbreviation\": \"CK\",\n",
      "        \"region_id\": \"16\"\n",
      "      },\n",
      "      {\n",
      "        \"country_id\": \"53\",\n",
      "        \"country_name\": \"Costa Rica\",\n",
      "        \"abbreviation\": \"CR\",\n",
      "        \"region_id\": \"13\"\n",
      "      },\n",
      "      {\n",
      "        \"country_id\": \"54\",\n",
      "        \"country_name\": \"Croatia\",\n",
      "        \"abbreviation\": \"HR\",\n",
      "        \"region_id\": \"2\"\n",
      "      },\n",
      "      {\n",
      "        \"country_id\": \"55\",\n",
      "        \"country_name\": \"Cuba\",\n",
      "        \"abbreviation\": \"CU\",\n",
      "        \"region_id\": \"11\"\n",
      "      },\n",
      "      {\n",
      "        \"country_id\": \"56\",\n",
      "        \"country_name\": \"Cyprus\",\n",
      "        \"abbreviation\": \"CY\",\n",
      "        \"region_id\": \"17\"\n",
      "      },\n",
      "      {\n",
      "        \"country_id\": \"57\",\n",
      "        \"country_name\": \"Czech Republic\",\n",
      "        \"abbreviation\": \"CZ\",\n",
      "        \"region_id\": \"2\"\n",
      "      },\n",
      "      {\n",
      "        \"country_id\": \"58\",\n",
      "        \"country_name\": \"Denmark\",\n",
      "        \"abbreviation\": \"DK\",\n",
      "        \"region_id\": \"1\"\n",
      "      },\n",
      "      {\n",
      "        \"country_id\": \"59\",\n",
      "        \"country_name\": \"Djibouti\",\n",
      "        \"abbreviation\": \"DJ\",\n",
      "        \"region_id\": \"5\"\n",
      "      },\n",
      "      {\n",
      "        \"country_id\": \"60\",\n",
      "        \"country_name\": \"Dominica\",\n",
      "        \"abbreviation\": \"DM\",\n",
      "        \"region_id\": \"11\"\n",
      "      },\n",
      "      {\n",
      "        \"country_id\": \"61\",\n",
      "        \"country_name\": \"Dominican Rep.\",\n",
      "        \"abbreviation\": \"DO\",\n",
      "        \"region_id\": \"11\"\n",
      "      },\n",
      "      {\n",
      "        \"country_id\": \"241\",\n",
      "        \"country_name\": \"East Timor\",\n",
      "        \"abbreviation\": \"TI\",\n",
      "        \"region_id\": \"8\"\n",
      "      },\n",
      "      {\n",
      "        \"country_id\": \"62\",\n",
      "        \"country_name\": \"Ecuador\",\n",
      "        \"abbreviation\": \"EC\",\n",
      "        \"region_id\": \"15\"\n",
      "      },\n",
      "      {\n",
      "        \"country_id\": \"63\",\n",
      "        \"country_name\": \"Egypt\",\n",
      "        \"abbreviation\": \"EG\",\n",
      "        \"region_id\": \"4\"\n",
      "      },\n",
      "      {\n",
      "        \"country_id\": \"64\",\n",
      "        \"country_name\": \"El Salvador\",\n",
      "        \"abbreviation\": \"SV\",\n",
      "        \"region_id\": \"13\"\n",
      "      },\n",
      "      {\n",
      "        \"country_id\": \"65\",\n",
      "        \"country_name\": \"Equatorial Guin\",\n",
      "        \"abbreviation\": \"GQ\",\n",
      "        \"region_id\": \"3\"\n",
      "      },\n",
      "      {\n",
      "        \"country_id\": \"66\",\n",
      "        \"country_name\": \"Eritrea\",\n",
      "        \"abbreviation\": \"ER\",\n",
      "        \"region_id\": \"5\"\n",
      "      },\n",
      "      {\n",
      "        \"country_id\": \"67\",\n",
      "        \"country_name\": \"Estonia\",\n",
      "        \"abbreviation\": \"EE\",\n",
      "        \"region_id\": \"1\"\n",
      "      },\n",
      "      {\n",
      "        \"country_id\": \"68\",\n",
      "        \"country_name\": \"Ethiopia\",\n",
      "        \"abbreviation\": \"ET\",\n",
      "        \"region_id\": \"5\"\n",
      "      },\n",
      "      {\n",
      "        \"country_id\": \"69\",\n",
      "        \"country_name\": \"Faeroe Islands\",\n",
      "        \"abbreviation\": \"FO\",\n",
      "        \"region_id\": \"1\"\n",
      "      },\n",
      "      {\n",
      "        \"country_id\": \"70\",\n",
      "        \"country_name\": \"Falkland Islnds\",\n",
      "        \"abbreviation\": \"FK\",\n",
      "        \"region_id\": \"15\"\n",
      "      },\n",
      "      {\n",
      "        \"country_id\": \"71\",\n",
      "        \"country_name\": \"Fiji\",\n",
      "        \"abbreviation\": \"FJ\",\n",
      "        \"region_id\": \"16\"\n",
      "      },\n",
      "      {\n",
      "        \"country_id\": \"72\",\n",
      "        \"country_name\": \"Finland\",\n",
      "        \"abbreviation\": \"FI\",\n",
      "        \"region_id\": \"1\"\n",
      "      },\n",
      "      {\n",
      "        \"country_id\": \"73\",\n",
      "        \"country_name\": \"France\",\n",
      "        \"abbreviation\": \"FR\",\n",
      "        \"region_id\": \"1\"\n",
      "      },\n",
      "      {\n",
      "        \"country_id\": \"75\",\n",
      "        \"country_name\": \"French Guinea\",\n",
      "        \"abbreviation\": \"GF\",\n",
      "        \"region_id\": \"15\"\n",
      "      },\n",
      "      {\n",
      "        \"country_id\": \"74\",\n",
      "        \"country_name\": \"Frenc.Polynesia\",\n",
      "        \"abbreviation\": \"PF\",\n",
      "        \"region_id\": \"16\"\n",
      "      },\n",
      "      {\n",
      "        \"country_id\": \"76\",\n",
      "        \"country_name\": \"Gabon\",\n",
      "        \"abbreviation\": \"GA\",\n",
      "        \"region_id\": \"3\"\n",
      "      },\n",
      "      {\n",
      "        \"country_id\": \"77\",\n",
      "        \"country_name\": \"Gambia\",\n",
      "        \"abbreviation\": \"GM\",\n",
      "        \"region_id\": \"7\"\n",
      "      },\n",
      "      {\n",
      "        \"country_id\": \"78\",\n",
      "        \"country_name\": \"Georgia\",\n",
      "        \"abbreviation\": \"GE\",\n",
      "        \"region_id\": \"17\"\n",
      "      },\n",
      "      {\n",
      "        \"country_id\": \"79\",\n",
      "        \"country_name\": \"Germany\",\n",
      "        \"abbreviation\": \"DE\",\n",
      "        \"region_id\": \"1\"\n",
      "      },\n",
      "      {\n",
      "        \"country_id\": \"80\",\n",
      "        \"country_name\": \"Ghana\",\n",
      "        \"abbreviation\": \"GH\",\n",
      "        \"region_id\": \"7\"\n",
      "      },\n",
      "      {\n",
      "        \"country_id\": \"81\",\n",
      "        \"country_name\": \"Gibraltar\",\n",
      "        \"abbreviation\": \"GI\",\n",
      "        \"region_id\": \"11\"\n",
      "      },\n",
      "      {\n",
      "        \"country_id\": \"82\",\n",
      "        \"country_name\": \"Greece\",\n",
      "        \"abbreviation\": \"GR\",\n",
      "        \"region_id\": \"1\"\n",
      "      },\n",
      "      {\n",
      "        \"country_id\": \"83\",\n",
      "        \"country_name\": \"Greenland\",\n",
      "        \"abbreviation\": \"GL\",\n",
      "        \"region_id\": \"1\"\n",
      "      },\n",
      "      {\n",
      "        \"country_id\": \"84\",\n",
      "        \"country_name\": \"Grenada\",\n",
      "        \"abbreviation\": \"GD\",\n",
      "        \"region_id\": \"11\"\n",
      "      },\n",
      "      {\n",
      "        \"country_id\": \"85\",\n",
      "        \"country_name\": \"Guadeloupe\",\n",
      "        \"abbreviation\": \"GP\",\n",
      "        \"region_id\": \"11\"\n",
      "      },\n",
      "      {\n",
      "        \"country_id\": \"86\",\n",
      "        \"country_name\": \"Guam\",\n",
      "        \"abbreviation\": \"GU\",\n",
      "        \"region_id\": \"9\"\n",
      "      },\n",
      "      {\n",
      "        \"country_id\": \"87\",\n",
      "        \"country_name\": \"Guatemala\",\n",
      "        \"abbreviation\": \"GT\",\n",
      "        \"region_id\": \"13\"\n",
      "      },\n",
      "      {\n",
      "        \"country_id\": \"88\",\n",
      "        \"country_name\": \"Guinea\",\n",
      "        \"abbreviation\": \"GN\",\n",
      "        \"region_id\": \"7\"\n",
      "      },\n",
      "      {\n",
      "        \"country_id\": \"89\",\n",
      "        \"country_name\": \"Guinea-Bissau\",\n",
      "        \"abbreviation\": \"GW\",\n",
      "        \"region_id\": \"7\"\n",
      "      },\n",
      "      {\n",
      "        \"country_id\": \"90\",\n",
      "        \"country_name\": \"Guyana\",\n",
      "        \"abbreviation\": \"GY\",\n",
      "        \"region_id\": \"15\"\n",
      "      },\n",
      "      {\n",
      "        \"country_id\": \"91\",\n",
      "        \"country_name\": \"Haiti\",\n",
      "        \"abbreviation\": \"HT\",\n",
      "        \"region_id\": \"11\"\n",
      "      },\n",
      "      {\n",
      "        \"country_id\": \"92\",\n",
      "        \"country_name\": \"Heard/McDon.Isl\",\n",
      "        \"abbreviation\": \"HM\",\n",
      "        \"region_id\": \"16\"\n",
      "      },\n",
      "      {\n",
      "        \"country_id\": \"93\",\n",
      "        \"country_name\": \"Honduras\",\n",
      "        \"abbreviation\": \"HN\",\n",
      "        \"region_id\": \"13\"\n",
      "      },\n",
      "      {\n",
      "        \"country_id\": \"94\",\n",
      "        \"country_name\": \"Hong Kong\",\n",
      "        \"abbreviation\": \"HK\",\n",
      "        \"region_id\": \"9\"\n",
      "      },\n",
      "      {\n",
      "        \"country_id\": \"95\",\n",
      "        \"country_name\": \"Hungary\",\n",
      "        \"abbreviation\": \"HU\",\n",
      "        \"region_id\": \"2\"\n",
      "      },\n",
      "      {\n",
      "        \"country_id\": \"96\",\n",
      "        \"country_name\": \"Iceland\",\n",
      "        \"abbreviation\": \"IS\",\n",
      "        \"region_id\": \"1\"\n",
      "      },\n",
      "      {\n",
      "        \"country_id\": \"97\",\n",
      "        \"country_name\": \"India\",\n",
      "        \"abbreviation\": \"IN\",\n",
      "        \"region_id\": \"10\"\n",
      "      },\n",
      "      {\n",
      "        \"country_id\": \"98\",\n",
      "        \"country_name\": \"Indonesia\",\n",
      "        \"abbreviation\": \"ID\",\n",
      "        \"region_id\": \"8\"\n",
      "      },\n",
      "      {\n",
      "        \"country_id\": \"99\",\n",
      "        \"country_name\": \"Iran\",\n",
      "        \"abbreviation\": \"IR\",\n",
      "        \"region_id\": \"17\"\n",
      "      },\n",
      "      {\n",
      "        \"country_id\": \"100\",\n",
      "        \"country_name\": \"Iraq\",\n",
      "        \"abbreviation\": \"IQ\",\n",
      "        \"region_id\": \"17\"\n",
      "      },\n",
      "      {\n",
      "        \"country_id\": \"101\",\n",
      "        \"country_name\": \"Ireland\",\n",
      "        \"abbreviation\": \"IE\",\n",
      "        \"region_id\": \"1\"\n",
      "      },\n",
      "      {\n",
      "        \"country_id\": \"102\",\n",
      "        \"country_name\": \"Israel\",\n",
      "        \"abbreviation\": \"IL\",\n",
      "        \"region_id\": \"17\"\n",
      "      },\n",
      "      {\n",
      "        \"country_id\": \"103\",\n",
      "        \"country_name\": \"Italy\",\n",
      "        \"abbreviation\": \"IT\",\n",
      "        \"region_id\": \"1\"\n",
      "      },\n",
      "      {\n",
      "        \"country_id\": \"104\",\n",
      "        \"country_name\": \"Ivory Coast\",\n",
      "        \"abbreviation\": \"IV\",\n",
      "        \"region_id\": \"7\"\n",
      "      },\n",
      "      {\n",
      "        \"country_id\": \"105\",\n",
      "        \"country_name\": \"Jamaica\",\n",
      "        \"abbreviation\": \"JM\",\n",
      "        \"region_id\": \"11\"\n",
      "      },\n",
      "      {\n",
      "        \"country_id\": \"106\",\n",
      "        \"country_name\": \"Japan\",\n",
      "        \"abbreviation\": \"JP\",\n",
      "        \"region_id\": \"9\"\n",
      "      },\n",
      "      {\n",
      "        \"country_id\": \"107\",\n",
      "        \"country_name\": \"Jordan\",\n",
      "        \"abbreviation\": \"JO\",\n",
      "        \"region_id\": \"17\"\n",
      "      },\n",
      "      {\n",
      "        \"country_id\": \"108\",\n",
      "        \"country_name\": \"Kazakhstan\",\n",
      "        \"abbreviation\": \"KZ\",\n",
      "        \"region_id\": \"17\"\n",
      "      },\n",
      "      {\n",
      "        \"country_id\": \"109\",\n",
      "        \"country_name\": \"Kenya\",\n",
      "        \"abbreviation\": \"KE\",\n",
      "        \"region_id\": \"5\"\n",
      "      },\n",
      "      {\n",
      "        \"country_id\": \"110\",\n",
      "        \"country_name\": \"Kirghistan\",\n",
      "        \"abbreviation\": \"KG\",\n",
      "        \"region_id\": \"17\"\n",
      "      },\n",
      "      {\n",
      "        \"country_id\": \"111\",\n",
      "        \"country_name\": \"Kiribati\",\n",
      "        \"abbreviation\": \"KI\",\n",
      "        \"region_id\": \"16\"\n",
      "      },\n",
      "      {\n",
      "        \"country_id\": \"112\",\n",
      "        \"country_name\": \"Kuwait\",\n",
      "        \"abbreviation\": \"KW\",\n",
      "        \"region_id\": \"17\"\n",
      "      },\n",
      "      {\n",
      "        \"country_id\": \"113\",\n",
      "        \"country_name\": \"Laos\",\n",
      "        \"abbreviation\": \"LA\",\n",
      "        \"region_id\": \"8\"\n",
      "      },\n",
      "      {\n",
      "        \"country_id\": \"114\",\n",
      "        \"country_name\": \"Latvia\",\n",
      "        \"abbreviation\": \"LV\",\n",
      "        \"region_id\": \"2\"\n",
      "      },\n",
      "      {\n",
      "        \"country_id\": \"115\",\n",
      "        \"country_name\": \"Lebanon\",\n",
      "        \"abbreviation\": \"LB\",\n",
      "        \"region_id\": \"17\"\n",
      "      },\n",
      "      {\n",
      "        \"country_id\": \"116\",\n",
      "        \"country_name\": \"Lesotho\",\n",
      "        \"abbreviation\": \"LS\",\n",
      "        \"region_id\": \"6\"\n",
      "      },\n",
      "      {\n",
      "        \"country_id\": \"117\",\n",
      "        \"country_name\": \"Liberia\",\n",
      "        \"abbreviation\": \"LR\",\n",
      "        \"region_id\": \"7\"\n",
      "      },\n",
      "      {\n",
      "        \"country_id\": \"118\",\n",
      "        \"country_name\": \"Libya\",\n",
      "        \"abbreviation\": \"LY\",\n",
      "        \"region_id\": \"4\"\n",
      "      },\n",
      "      {\n",
      "        \"country_id\": \"119\",\n",
      "        \"country_name\": \"Liechtenstein\",\n",
      "        \"abbreviation\": \"LI\",\n",
      "        \"region_id\": \"1\"\n",
      "      },\n",
      "      {\n",
      "        \"country_id\": \"120\",\n",
      "        \"country_name\": \"Lithuania\",\n",
      "        \"abbreviation\": \"LT\",\n",
      "        \"region_id\": \"2\"\n",
      "      },\n",
      "      {\n",
      "        \"country_id\": \"121\",\n",
      "        \"country_name\": \"Luxembourg\",\n",
      "        \"abbreviation\": \"LU\",\n",
      "        \"region_id\": \"1\"\n",
      "      },\n",
      "      {\n",
      "        \"country_id\": \"122\",\n",
      "        \"country_name\": \"Macau\",\n",
      "        \"abbreviation\": \"MO\",\n",
      "        \"region_id\": \"9\"\n",
      "      },\n",
      "      {\n",
      "        \"country_id\": \"123\",\n",
      "        \"country_name\": \"Macedonia\",\n",
      "        \"abbreviation\": \"MK\",\n",
      "        \"region_id\": \"2\"\n",
      "      },\n",
      "      {\n",
      "        \"country_id\": \"124\",\n",
      "        \"country_name\": \"Madagascar\",\n",
      "        \"abbreviation\": \"MG\",\n",
      "        \"region_id\": \"5\"\n",
      "      },\n",
      "      {\n",
      "        \"country_id\": \"125\",\n",
      "        \"country_name\": \"Malawi\",\n",
      "        \"abbreviation\": \"MW\",\n",
      "        \"region_id\": \"5\"\n",
      "      },\n",
      "      {\n",
      "        \"country_id\": \"126\",\n",
      "        \"country_name\": \"Malaysia\",\n",
      "        \"abbreviation\": \"MY\",\n",
      "        \"region_id\": \"8\"\n",
      "      },\n",
      "      {\n",
      "        \"country_id\": \"127\",\n",
      "        \"country_name\": \"Maldives\",\n",
      "        \"abbreviation\": \"MV\",\n",
      "        \"region_id\": \"10\"\n",
      "      },\n",
      "      {\n",
      "        \"country_id\": \"128\",\n",
      "        \"country_name\": \"Mali\",\n",
      "        \"abbreviation\": \"ML\",\n",
      "        \"region_id\": \"7\"\n",
      "      },\n",
      "      {\n",
      "        \"country_id\": \"129\",\n",
      "        \"country_name\": \"Malta\",\n",
      "        \"abbreviation\": \"MT\",\n",
      "        \"region_id\": \"1\"\n",
      "      },\n",
      "      {\n",
      "        \"country_id\": \"130\",\n",
      "        \"country_name\": \"Marshall Islnds\",\n",
      "        \"abbreviation\": \"MH\",\n",
      "        \"region_id\": \"9\"\n",
      "      },\n",
      "      {\n",
      "        \"country_id\": \"131\",\n",
      "        \"country_name\": \"Martinique\",\n",
      "        \"abbreviation\": \"MQ\",\n",
      "        \"region_id\": \"11\"\n",
      "      },\n",
      "      {\n",
      "        \"country_id\": \"132\",\n",
      "        \"country_name\": \"Mauritania\",\n",
      "        \"abbreviation\": \"MR\",\n",
      "        \"region_id\": \"7\"\n",
      "      },\n",
      "      {\n",
      "        \"country_id\": \"133\",\n",
      "        \"country_name\": \"Mauritius\",\n",
      "        \"abbreviation\": \"MU\",\n",
      "        \"region_id\": \"5\"\n",
      "      },\n",
      "      {\n",
      "        \"country_id\": \"134\",\n",
      "        \"country_name\": \"Mayotte\",\n",
      "        \"abbreviation\": \"YT\",\n",
      "        \"region_id\": \"1\"\n",
      "      },\n",
      "      {\n",
      "        \"country_id\": \"135\",\n",
      "        \"country_name\": \"Mexico\",\n",
      "        \"abbreviation\": \"MX\",\n",
      "        \"region_id\": \"13\"\n",
      "      },\n",
      "      {\n",
      "        \"country_id\": \"136\",\n",
      "        \"country_name\": \"Micronesia\",\n",
      "        \"abbreviation\": \"FM\",\n",
      "        \"region_id\": \"9\"\n",
      "      },\n",
      "      {\n",
      "        \"country_id\": \"137\",\n",
      "        \"country_name\": \"Minor Outl.Isl.\",\n",
      "        \"abbreviation\": \"UM\",\n",
      "        \"region_id\": \"12\"\n",
      "      },\n",
      "      {\n",
      "        \"country_id\": \"138\",\n",
      "        \"country_name\": \"Moldavia\",\n",
      "        \"abbreviation\": \"MD\",\n",
      "        \"region_id\": \"2\"\n",
      "      },\n",
      "      {\n",
      "        \"country_id\": \"139\",\n",
      "        \"country_name\": \"Monaco\",\n",
      "        \"abbreviation\": \"MC\",\n",
      "        \"region_id\": \"1\"\n",
      "      },\n",
      "      {\n",
      "        \"country_id\": \"140\",\n",
      "        \"country_name\": \"Mongolia\",\n",
      "        \"abbreviation\": \"MN\",\n",
      "        \"region_id\": \"9\"\n",
      "      },\n",
      "      {\n",
      "        \"country_id\": \"141\",\n",
      "        \"country_name\": \"Montserrat\",\n",
      "        \"abbreviation\": \"MS\",\n",
      "        \"region_id\": \"11\"\n",
      "      },\n",
      "      {\n",
      "        \"country_id\": \"142\",\n",
      "        \"country_name\": \"Morocco\",\n",
      "        \"abbreviation\": \"MA\",\n",
      "        \"region_id\": \"4\"\n",
      "      },\n",
      "      {\n",
      "        \"country_id\": \"143\",\n",
      "        \"country_name\": \"Mozambique\",\n",
      "        \"abbreviation\": \"MZ\",\n",
      "        \"region_id\": \"5\"\n",
      "      },\n",
      "      {\n",
      "        \"country_id\": \"144\",\n",
      "        \"country_name\": \"Myanmar\",\n",
      "        \"abbreviation\": \"MM\",\n",
      "        \"region_id\": \"8\"\n",
      "      },\n",
      "      {\n",
      "        \"country_id\": \"146\",\n",
      "        \"country_name\": \"Namibia\",\n",
      "        \"abbreviation\": \"NA\",\n",
      "        \"region_id\": \"6\"\n",
      "      },\n",
      "      {\n",
      "        \"country_id\": \"147\",\n",
      "        \"country_name\": \"Nauru\",\n",
      "        \"abbreviation\": \"NR\",\n",
      "        \"region_id\": \"8\"\n",
      "      },\n",
      "      {\n",
      "        \"country_id\": \"148\",\n",
      "        \"country_name\": \"Nepal\",\n",
      "        \"abbreviation\": \"NP\",\n",
      "        \"region_id\": \"8\"\n",
      "      },\n",
      "      {\n",
      "        \"country_id\": \"149\",\n",
      "        \"country_name\": \"Neth. Antilles\",\n",
      "        \"abbreviation\": \"AN\",\n",
      "        \"region_id\": \"11\"\n",
      "      },\n",
      "      {\n",
      "        \"country_id\": \"150\",\n",
      "        \"country_name\": \"Netherlands\",\n",
      "        \"abbreviation\": \"NL\",\n",
      "        \"region_id\": \"1\"\n",
      "      },\n",
      "      {\n",
      "        \"country_id\": \"151\",\n",
      "        \"country_name\": \"New Caledonia\",\n",
      "        \"abbreviation\": \"NC\",\n",
      "        \"region_id\": \"16\"\n",
      "      },\n",
      "      {\n",
      "        \"country_id\": \"152\",\n",
      "        \"country_name\": \"New Zealand\",\n",
      "        \"abbreviation\": \"NZ\",\n",
      "        \"region_id\": \"16\"\n",
      "      },\n",
      "      {\n",
      "        \"country_id\": \"153\",\n",
      "        \"country_name\": \"Nicaragua\",\n",
      "        \"abbreviation\": \"NI\",\n",
      "        \"region_id\": \"13\"\n",
      "      },\n",
      "      {\n",
      "        \"country_id\": \"154\",\n",
      "        \"country_name\": \"Niger\",\n",
      "        \"abbreviation\": \"NE\",\n",
      "        \"region_id\": \"7\"\n",
      "      },\n",
      "      {\n",
      "        \"country_id\": \"155\",\n",
      "        \"country_name\": \"Nigeria\",\n",
      "        \"abbreviation\": \"NG\",\n",
      "        \"region_id\": \"7\"\n",
      "      },\n",
      "      {\n",
      "        \"country_id\": \"156\",\n",
      "        \"country_name\": \"Niue Islands\",\n",
      "        \"abbreviation\": \"NU\",\n",
      "        \"region_id\": \"16\"\n",
      "      },\n",
      "      {\n",
      "        \"country_id\": \"145\",\n",
      "        \"country_name\": \"N.Mariana Islnd\",\n",
      "        \"abbreviation\": \"MP\",\n",
      "        \"region_id\": \"9\"\n",
      "      },\n",
      "      {\n",
      "        \"country_id\": \"157\",\n",
      "        \"country_name\": \"Norfolk Island\",\n",
      "        \"abbreviation\": \"NF\",\n",
      "        \"region_id\": \"16\"\n",
      "      },\n",
      "      {\n",
      "        \"country_id\": \"158\",\n",
      "        \"country_name\": \"North Korea\",\n",
      "        \"abbreviation\": \"KP\",\n",
      "        \"region_id\": \"9\"\n",
      "      },\n",
      "      {\n",
      "        \"country_id\": \"159\",\n",
      "        \"country_name\": \"Norway\",\n",
      "        \"abbreviation\": \"NO\",\n",
      "        \"region_id\": \"1\"\n",
      "      },\n",
      "      {\n",
      "        \"country_id\": \"160\",\n",
      "        \"country_name\": \"Oman\",\n",
      "        \"abbreviation\": \"OM\",\n",
      "        \"region_id\": \"17\"\n",
      "      },\n",
      "      {\n",
      "        \"country_id\": \"239\",\n",
      "        \"country_name\": \"Pacific Islands\",\n",
      "        \"abbreviation\": \"PI\",\n",
      "        \"region_id\": \"16\"\n",
      "      },\n",
      "      {\n",
      "        \"country_id\": \"161\",\n",
      "        \"country_name\": \"Pakistan\",\n",
      "        \"abbreviation\": \"PK\",\n",
      "        \"region_id\": \"10\"\n",
      "      },\n",
      "      {\n",
      "        \"country_id\": \"162\",\n",
      "        \"country_name\": \"Palau\",\n",
      "        \"abbreviation\": \"PW\",\n",
      "        \"region_id\": \"9\"\n",
      "      },\n",
      "      {\n",
      "        \"country_id\": \"163\",\n",
      "        \"country_name\": \"Panama\",\n",
      "        \"abbreviation\": \"PA\",\n",
      "        \"region_id\": \"13\"\n",
      "      },\n",
      "      {\n",
      "        \"country_id\": \"164\",\n",
      "        \"country_name\": \"Pap. New Guinea\",\n",
      "        \"abbreviation\": \"PG\",\n",
      "        \"region_id\": \"8\"\n",
      "      },\n",
      "      {\n",
      "        \"country_id\": \"165\",\n",
      "        \"country_name\": \"Paraguay\",\n",
      "        \"abbreviation\": \"PY\",\n",
      "        \"region_id\": \"15\"\n",
      "      },\n",
      "      {\n",
      "        \"country_id\": \"166\",\n",
      "        \"country_name\": \"Peru\",\n",
      "        \"abbreviation\": \"PE\",\n",
      "        \"region_id\": \"15\"\n",
      "      },\n",
      "      {\n",
      "        \"country_id\": \"167\",\n",
      "        \"country_name\": \"Philippines\",\n",
      "        \"abbreviation\": \"PH\",\n",
      "        \"region_id\": \"8\"\n",
      "      },\n",
      "      {\n",
      "        \"country_id\": \"168\",\n",
      "        \"country_name\": \"Pitcairn Islnds\",\n",
      "        \"abbreviation\": \"PN\",\n",
      "        \"region_id\": \"16\"\n",
      "      },\n",
      "      {\n",
      "        \"country_id\": \"169\",\n",
      "        \"country_name\": \"Poland\",\n",
      "        \"abbreviation\": \"PL\",\n",
      "        \"region_id\": \"2\"\n",
      "      },\n",
      "      {\n",
      "        \"country_id\": \"170\",\n",
      "        \"country_name\": \"Portugal\",\n",
      "        \"abbreviation\": \"PT\",\n",
      "        \"region_id\": \"1\"\n",
      "      },\n",
      "      {\n",
      "        \"country_id\": \"171\",\n",
      "        \"country_name\": \"Puerto Rico\",\n",
      "        \"abbreviation\": \"PR\",\n",
      "        \"region_id\": \"11\"\n",
      "      },\n",
      "      {\n",
      "        \"country_id\": \"172\",\n",
      "        \"country_name\": \"Qatar\",\n",
      "        \"abbreviation\": \"QA\",\n",
      "        \"region_id\": \"17\"\n",
      "      },\n",
      "      {\n",
      "        \"country_id\": \"173\",\n",
      "        \"country_name\": \"Reunion\",\n",
      "        \"abbreviation\": \"RE\",\n",
      "        \"region_id\": \"5\"\n",
      "      },\n",
      "      {\n",
      "        \"country_id\": \"174\",\n",
      "        \"country_name\": \"Romania\",\n",
      "        \"abbreviation\": \"RO\",\n",
      "        \"region_id\": \"2\"\n",
      "      },\n",
      "      {\n",
      "        \"country_id\": \"175\",\n",
      "        \"country_name\": \"Russian Fed.\",\n",
      "        \"abbreviation\": \"RU\",\n",
      "        \"region_id\": \"2\"\n",
      "      },\n",
      "      {\n",
      "        \"country_id\": \"176\",\n",
      "        \"country_name\": \"Rwanda\",\n",
      "        \"abbreviation\": \"RW\",\n",
      "        \"region_id\": \"5\"\n",
      "      },\n",
      "      {\n",
      "        \"country_id\": \"178\",\n",
      "        \"country_name\": \"Samoa - American\",\n",
      "        \"abbreviation\": \"AS\",\n",
      "        \"region_id\": \"16\"\n",
      "      },\n",
      "      {\n",
      "        \"country_id\": \"179\",\n",
      "        \"country_name\": \"San Marino\",\n",
      "        \"abbreviation\": \"SM\",\n",
      "        \"region_id\": \"1\"\n",
      "      },\n",
      "      {\n",
      "        \"country_id\": \"180\",\n",
      "        \"country_name\": \"Saudi Arabia\",\n",
      "        \"abbreviation\": \"SA\",\n",
      "        \"region_id\": \"17\"\n",
      "      },\n",
      "      {\n",
      "        \"country_id\": \"181\",\n",
      "        \"country_name\": \"Senegal\",\n",
      "        \"abbreviation\": \"SN\",\n",
      "        \"region_id\": \"7\"\n",
      "      },\n",
      "      {\n",
      "        \"country_id\": \"182\",\n",
      "        \"country_name\": \"Seychelles\",\n",
      "        \"abbreviation\": \"SC\",\n",
      "        \"region_id\": \"5\"\n",
      "      },\n",
      "      {\n",
      "        \"country_id\": \"183\",\n",
      "        \"country_name\": \"Sierra Leone\",\n",
      "        \"abbreviation\": \"SL\",\n",
      "        \"region_id\": \"7\"\n",
      "      },\n",
      "      {\n",
      "        \"country_id\": \"184\",\n",
      "        \"country_name\": \"Singapore\",\n",
      "        \"abbreviation\": \"SG\",\n",
      "        \"region_id\": \"8\"\n",
      "      },\n",
      "      {\n",
      "        \"country_id\": \"185\",\n",
      "        \"country_name\": \"Slovakia\",\n",
      "        \"abbreviation\": \"SK\",\n",
      "        \"region_id\": \"2\"\n",
      "      },\n",
      "      {\n",
      "        \"country_id\": \"186\",\n",
      "        \"country_name\": \"Slovenia\",\n",
      "        \"abbreviation\": \"SI\",\n",
      "        \"region_id\": \"2\"\n",
      "      },\n",
      "      {\n",
      "        \"country_id\": \"187\",\n",
      "        \"country_name\": \"Solomon Islands\",\n",
      "        \"abbreviation\": \"SB\",\n",
      "        \"region_id\": \"8\"\n",
      "      },\n",
      "      {\n",
      "        \"country_id\": \"188\",\n",
      "        \"country_name\": \"Somalia\",\n",
      "        \"abbreviation\": \"SO\",\n",
      "        \"region_id\": \"5\"\n",
      "      },\n",
      "      {\n",
      "        \"country_id\": \"189\",\n",
      "        \"country_name\": \"South Africa\",\n",
      "        \"abbreviation\": \"ZA\",\n",
      "        \"region_id\": \"6\"\n",
      "      },\n",
      "      {\n",
      "        \"country_id\": \"190\",\n",
      "        \"country_name\": \"South Korea\",\n",
      "        \"abbreviation\": \"KR\",\n",
      "        \"region_id\": \"9\"\n",
      "      },\n",
      "      {\n",
      "        \"country_id\": \"191\",\n",
      "        \"country_name\": \"Spain\",\n",
      "        \"abbreviation\": \"ES\",\n",
      "        \"region_id\": \"1\"\n",
      "      },\n",
      "      {\n",
      "        \"country_id\": \"192\",\n",
      "        \"country_name\": \"Sri Lanka\",\n",
      "        \"abbreviation\": \"LK\",\n",
      "        \"region_id\": \"10\"\n",
      "      },\n",
      "      {\n",
      "        \"country_id\": \"238\",\n",
      "        \"country_name\": \"stateless\",\n",
      "        \"abbreviation\": \"STL\",\n",
      "        \"region_id\": \"1\"\n",
      "      },\n",
      "      {\n",
      "        \"country_id\": \"193\",\n",
      "        \"country_name\": \"St. Helena\",\n",
      "        \"abbreviation\": \"SH\",\n",
      "        \"region_id\": \"7\"\n",
      "      },\n",
      "      {\n",
      "        \"country_id\": \"198\",\n",
      "        \"country_name\": \"Sth Sandwich Is\",\n",
      "        \"abbreviation\": \"GS\",\n",
      "        \"region_id\": \"15\"\n",
      "      },\n",
      "      {\n",
      "        \"country_id\": \"196\",\n",
      "        \"country_name\": \"St.Kitts - Nevis\",\n",
      "        \"abbreviation\": \"KN\",\n",
      "        \"region_id\": \"11\"\n",
      "      },\n",
      "      {\n",
      "        \"country_id\": \"194\",\n",
      "        \"country_name\": \"St. Lucia\",\n",
      "        \"abbreviation\": \"LC\",\n",
      "        \"region_id\": \"11\"\n",
      "      },\n",
      "      {\n",
      "        \"country_id\": \"177\",\n",
      "        \"country_name\": \"S.Tome - Principe\",\n",
      "        \"abbreviation\": \"ST\",\n",
      "        \"region_id\": \"3\"\n",
      "      },\n",
      "      {\n",
      "        \"country_id\": \"197\",\n",
      "        \"country_name\": \"St.Pier - Miquel.\",\n",
      "        \"abbreviation\": \"PM\",\n",
      "        \"region_id\": \"12\"\n",
      "      },\n",
      "      {\n",
      "        \"country_id\": \"195\",\n",
      "        \"country_name\": \"St. Vincent\",\n",
      "        \"abbreviation\": \"VC\",\n",
      "        \"region_id\": \"11\"\n",
      "      },\n",
      "      {\n",
      "        \"country_id\": \"199\",\n",
      "        \"country_name\": \"Sudan\",\n",
      "        \"abbreviation\": \"SD\",\n",
      "        \"region_id\": \"4\"\n",
      "      },\n",
      "      {\n",
      "        \"country_id\": \"200\",\n",
      "        \"country_name\": \"Suriname\",\n",
      "        \"abbreviation\": \"SR\",\n",
      "        \"region_id\": \"15\"\n",
      "      },\n",
      "      {\n",
      "        \"country_id\": \"201\",\n",
      "        \"country_name\": \"Svalbard\",\n",
      "        \"abbreviation\": \"SJ\",\n",
      "        \"region_id\": \"1\"\n",
      "      },\n",
      "      {\n",
      "        \"country_id\": \"202\",\n",
      "        \"country_name\": \"Swaziland\",\n",
      "        \"abbreviation\": \"SZ\",\n",
      "        \"region_id\": \"6\"\n",
      "      },\n",
      "      {\n",
      "        \"country_id\": \"203\",\n",
      "        \"country_name\": \"Sweden\",\n",
      "        \"abbreviation\": \"SE\",\n",
      "        \"region_id\": \"1\"\n",
      "      },\n",
      "      {\n",
      "        \"country_id\": \"204\",\n",
      "        \"country_name\": \"Switzerland\",\n",
      "        \"abbreviation\": \"CH\",\n",
      "        \"region_id\": \"1\"\n",
      "      },\n",
      "      {\n",
      "        \"country_id\": \"205\",\n",
      "        \"country_name\": \"Syria\",\n",
      "        \"abbreviation\": \"SY\",\n",
      "        \"region_id\": \"17\"\n",
      "      },\n",
      "      {\n",
      "        \"country_id\": \"206\",\n",
      "        \"country_name\": \"Tadzhikistan\",\n",
      "        \"abbreviation\": \"TJ\",\n",
      "        \"region_id\": \"17\"\n",
      "      },\n",
      "      {\n",
      "        \"country_id\": \"207\",\n",
      "        \"country_name\": \"Taiwan\",\n",
      "        \"abbreviation\": \"TW\",\n",
      "        \"region_id\": \"8\"\n",
      "      },\n",
      "      {\n",
      "        \"country_id\": \"208\",\n",
      "        \"country_name\": \"Tanzania\",\n",
      "        \"abbreviation\": \"TZ\",\n",
      "        \"region_id\": \"5\"\n",
      "      },\n",
      "      {\n",
      "        \"country_id\": \"209\",\n",
      "        \"country_name\": \"Thailand\",\n",
      "        \"abbreviation\": \"TH\",\n",
      "        \"region_id\": \"8\"\n",
      "      },\n",
      "      {\n",
      "        \"country_id\": \"210\",\n",
      "        \"country_name\": \"Togo\",\n",
      "        \"abbreviation\": \"TG\",\n",
      "        \"region_id\": \"7\"\n",
      "      },\n",
      "      {\n",
      "        \"country_id\": \"211\",\n",
      "        \"country_name\": \"Tokelau Islands\",\n",
      "        \"abbreviation\": \"TK\",\n",
      "        \"region_id\": \"16\"\n",
      "      },\n",
      "      {\n",
      "        \"country_id\": \"212\",\n",
      "        \"country_name\": \"Tonga\",\n",
      "        \"abbreviation\": \"TO\",\n",
      "        \"region_id\": \"16\"\n",
      "      },\n",
      "      {\n",
      "        \"country_id\": \"213\",\n",
      "        \"country_name\": \"Trinidad - Tobago\",\n",
      "        \"abbreviation\": \"TT\",\n",
      "        \"region_id\": \"11\"\n",
      "      },\n",
      "      {\n",
      "        \"country_id\": \"214\",\n",
      "        \"country_name\": \"Tunisia\",\n",
      "        \"abbreviation\": \"TN\",\n",
      "        \"region_id\": \"4\"\n",
      "      },\n",
      "      {\n",
      "        \"country_id\": \"215\",\n",
      "        \"country_name\": \"Turkey\",\n",
      "        \"abbreviation\": \"TR\",\n",
      "        \"region_id\": \"17\"\n",
      "      },\n",
      "      {\n",
      "        \"country_id\": \"216\",\n",
      "        \"country_name\": \"Turkmenistan\",\n",
      "        \"abbreviation\": \"TM\",\n",
      "        \"region_id\": \"17\"\n",
      "      },\n",
      "      {\n",
      "        \"country_id\": \"217\",\n",
      "        \"country_name\": \"Turks & Caicos\",\n",
      "        \"abbreviation\": \"TC\",\n",
      "        \"region_id\": \"11\"\n",
      "      },\n",
      "      {\n",
      "        \"country_id\": \"218\",\n",
      "        \"country_name\": \"Tuvalu\",\n",
      "        \"abbreviation\": \"TV\",\n",
      "        \"region_id\": \"16\"\n",
      "      },\n",
      "      {\n",
      "        \"country_id\": \"219\",\n",
      "        \"country_name\": \"Uganda\",\n",
      "        \"abbreviation\": \"UG\",\n",
      "        \"region_id\": \"5\"\n",
      "      },\n",
      "      {\n",
      "        \"country_id\": \"220\",\n",
      "        \"country_name\": \"Ukraine\",\n",
      "        \"abbreviation\": \"UA\",\n",
      "        \"region_id\": \"2\"\n",
      "      },\n",
      "      {\n",
      "        \"country_id\": \"224\",\n",
      "        \"country_name\": \"United Arab Emirates\",\n",
      "        \"abbreviation\": \"AE\",\n",
      "        \"region_id\": \"17\"\n",
      "      },\n",
      "      {\n",
      "        \"country_id\": \"221\",\n",
      "        \"country_name\": \"United Kingdom\",\n",
      "        \"abbreviation\": \"GB\",\n",
      "        \"region_id\": \"1\"\n",
      "      },\n",
      "      {\n",
      "        \"country_id\": \"222\",\n",
      "        \"country_name\": \"United States\",\n",
      "        \"abbreviation\": \"US\",\n",
      "        \"region_id\": \"12\"\n",
      "      },\n",
      "      {\n",
      "        \"country_id\": \"223\",\n",
      "        \"country_name\": \"Uruguay\",\n",
      "        \"abbreviation\": \"UY\",\n",
      "        \"region_id\": \"14\"\n",
      "      },\n",
      "      {\n",
      "        \"country_id\": \"225\",\n",
      "        \"country_name\": \"Uzbekistan\",\n",
      "        \"abbreviation\": \"UZ\",\n",
      "        \"region_id\": \"17\"\n",
      "      },\n",
      "      {\n",
      "        \"country_id\": \"226\",\n",
      "        \"country_name\": \"Vanuatu\",\n",
      "        \"abbreviation\": \"VU\",\n",
      "        \"region_id\": \"16\"\n",
      "      },\n",
      "      {\n",
      "        \"country_id\": \"227\",\n",
      "        \"country_name\": \"Vatican City\",\n",
      "        \"abbreviation\": \"VA\",\n",
      "        \"region_id\": \"1\"\n",
      "      },\n",
      "      {\n",
      "        \"country_id\": \"228\",\n",
      "        \"country_name\": \"Venezuela\",\n",
      "        \"abbreviation\": \"VE\",\n",
      "        \"region_id\": \"15\"\n",
      "      },\n",
      "      {\n",
      "        \"country_id\": \"229\",\n",
      "        \"country_name\": \"Vietnam\",\n",
      "        \"abbreviation\": \"VN\",\n",
      "        \"region_id\": \"8\"\n",
      "      },\n",
      "      {\n",
      "        \"country_id\": \"230\",\n",
      "        \"country_name\": \"Wallis - Futuna\",\n",
      "        \"abbreviation\": \"WF\",\n",
      "        \"region_id\": \"16\"\n",
      "      },\n",
      "      {\n",
      "        \"country_id\": \"232\",\n",
      "        \"country_name\": \"Western Samoa\",\n",
      "        \"abbreviation\": \"WS\",\n",
      "        \"region_id\": \"16\"\n",
      "      },\n",
      "      {\n",
      "        \"country_id\": \"231\",\n",
      "        \"country_name\": \"West Sahara\",\n",
      "        \"abbreviation\": \"EH\",\n",
      "        \"region_id\": \"4\"\n",
      "      },\n",
      "      {\n",
      "        \"country_id\": \"233\",\n",
      "        \"country_name\": \"Yemen\",\n",
      "        \"abbreviation\": \"YE\",\n",
      "        \"region_id\": \"17\"\n",
      "      },\n",
      "      {\n",
      "        \"country_id\": \"234\",\n",
      "        \"country_name\": \"Yugoslavia\",\n",
      "        \"abbreviation\": \"YU\",\n",
      "        \"region_id\": \"2\"\n",
      "      },\n",
      "      {\n",
      "        \"country_id\": \"235\",\n",
      "        \"country_name\": \"Zaire\",\n",
      "        \"abbreviation\": \"ZR\",\n",
      "        \"region_id\": \"3\"\n",
      "      },\n",
      "      {\n",
      "        \"country_id\": \"236\",\n",
      "        \"country_name\": \"Zambia\",\n",
      "        \"abbreviation\": \"ZM\",\n",
      "        \"region_id\": \"5\"\n",
      "      },\n",
      "      {\n",
      "        \"country_id\": \"237\",\n",
      "        \"country_name\": \"Zimbabwe\",\n",
      "        \"abbreviation\": \"ZW\",\n",
      "        \"region_id\": \"5\"\n",
      "      }\n",
      "    ]\n",
      "  }\n",
      "}\n"
     ]
    }
   ],
   "source": [
    "api_clean_response(req.text)"
   ]
  },
  {
   "cell_type": "markdown",
   "id": "546be504-a7bb-458d-892f-de762e761e36",
   "metadata": {
    "tags": [],
    "toc-hr-collapsed": true
   },
   "source": [
    "### Pregnancies request test"
   ]
  },
  {
   "cell_type": "markdown",
   "id": "3c49cf50-4160-419f-8794-1fcfe37c7c33",
   "metadata": {
    "heading_collapsed": "true",
    "tags": [],
    "toc-hr-collapsed": true
   },
   "source": [
    "#### Building API request"
   ]
  },
  {
   "cell_type": "code",
   "execution_count": 50,
   "id": "34f897a7-254c-4591-84f6-d77186193d82",
   "metadata": {},
   "outputs": [],
   "source": [
    "api_call_url = url_api_request(\"pregnancies\")"
   ]
  },
  {
   "cell_type": "code",
   "execution_count": 51,
   "id": "1d6b02b9-d85a-480b-9583-9f413106d942",
   "metadata": {},
   "outputs": [
    {
     "data": {
      "text/plain": [
       "'https://apiscsandbox.isabelhealthcare.com/v2/pregnancies?callback=pregnancies&authorization=QDDb180BilBk7209QqFikW1iqjOx2yjt&language=english&web_service=json'"
      ]
     },
     "execution_count": 51,
     "metadata": {},
     "output_type": "execute_result"
    }
   ],
   "source": [
    "api_call_url"
   ]
  },
  {
   "cell_type": "markdown",
   "id": "a97b3829-fa8e-4237-bfcc-5d4ce0521dc7",
   "metadata": {
    "heading_collapsed": "true",
    "tags": [],
    "toc-hr-collapsed": true
   },
   "source": [
    "#### Getting API request"
   ]
  },
  {
   "cell_type": "code",
   "execution_count": 52,
   "id": "a935b6e7-f79d-4174-a0ba-33278f303b17",
   "metadata": {},
   "outputs": [
    {
     "data": {
      "text/plain": [
       "<Response [200]>"
      ]
     },
     "execution_count": 52,
     "metadata": {},
     "output_type": "execute_result"
    }
   ],
   "source": [
    "req = requests.get(api_call_url)\n",
    "req"
   ]
  },
  {
   "cell_type": "code",
   "execution_count": 53,
   "id": "5626fcae-744c-4df5-9192-56d792129ba2",
   "metadata": {
    "scrolled": true,
    "tags": []
   },
   "outputs": [
    {
     "name": "stdout",
     "output_type": "stream",
     "text": [
      "{\n",
      "  \"pregnancies\": {\n",
      "    \"pregnancy\": [\n",
      "      {\n",
      "        \"pregnancy_id\": \"0\",\n",
      "        \"pregnancy_name\": \"(- not specified -)\"\n",
      "      },\n",
      "      {\n",
      "        \"pregnancy_id\": \"1\",\n",
      "        \"pregnancy_name\": \"not pregnant\"\n",
      "      },\n",
      "      {\n",
      "        \"pregnancy_id\": \"2\",\n",
      "        \"pregnancy_name\": \"pregnant\"\n",
      "      }\n",
      "    ]\n",
      "  }\n",
      "}\n"
     ]
    }
   ],
   "source": [
    "api_clean_response(req.text)"
   ]
  },
  {
   "cell_type": "markdown",
   "id": "6e723650-56cb-4bac-b196-2368e39fdd0d",
   "metadata": {
    "tags": []
   },
   "source": [
    "### Ranked differential diagnoses test"
   ]
  },
  {
   "cell_type": "markdown",
   "id": "a46f1878-5633-4e84-8c63-b98ac6aa0be6",
   "metadata": {
    "heading_collapsed": "true",
    "tags": []
   },
   "source": [
    "#### Building API request"
   ]
  },
  {
   "cell_type": "code",
   "execution_count": 50,
   "id": "71f64b7c-c0f6-4a7d-b155-b1ae15b8b7d8",
   "metadata": {},
   "outputs": [],
   "source": [
    "api_call_url = url_api_request(\"ranked_differential_diagnoses\")"
   ]
  },
  {
   "cell_type": "code",
   "execution_count": 51,
   "id": "aeae7b8e-c2a1-494a-9e69-c041f57f8c73",
   "metadata": {},
   "outputs": [
    {
     "data": {
      "text/plain": [
       "'https://apiscsandbox.isabelhealthcare.com/v2/pregnancies?callback=pregnancies&authorization=QDDb180BilBk7209QqFikW1iqjOx2yjt&language=english&web_service=json'"
      ]
     },
     "execution_count": 51,
     "metadata": {},
     "output_type": "execute_result"
    }
   ],
   "source": [
    "api_call_url"
   ]
  },
  {
   "cell_type": "markdown",
   "id": "cb588b79-2ce1-4df2-bc21-2d4df0abfa69",
   "metadata": {
    "heading_collapsed": "true",
    "tags": []
   },
   "source": [
    "#### Getting API request"
   ]
  },
  {
   "cell_type": "code",
   "execution_count": 52,
   "id": "9f43d627-fd0e-46df-8b2e-a777996016ba",
   "metadata": {},
   "outputs": [
    {
     "data": {
      "text/plain": [
       "<Response [200]>"
      ]
     },
     "execution_count": 52,
     "metadata": {},
     "output_type": "execute_result"
    }
   ],
   "source": [
    "req = requests.get(api_call_url)\n",
    "req"
   ]
  },
  {
   "cell_type": "code",
   "execution_count": 53,
   "id": "c37987f7-aa60-493b-978d-e250a966a7d7",
   "metadata": {
    "scrolled": true,
    "tags": []
   },
   "outputs": [
    {
     "name": "stdout",
     "output_type": "stream",
     "text": [
      "{\n",
      "  \"pregnancies\": {\n",
      "    \"pregnancy\": [\n",
      "      {\n",
      "        \"pregnancy_id\": \"0\",\n",
      "        \"pregnancy_name\": \"(- not specified -)\"\n",
      "      },\n",
      "      {\n",
      "        \"pregnancy_id\": \"1\",\n",
      "        \"pregnancy_name\": \"not pregnant\"\n",
      "      },\n",
      "      {\n",
      "        \"pregnancy_id\": \"2\",\n",
      "        \"pregnancy_name\": \"pregnant\"\n",
      "      }\n",
      "    ]\n",
      "  }\n",
      "}\n"
     ]
    }
   ],
   "source": [
    "api_clean_response(req.text)"
   ]
  },
  {
   "cell_type": "markdown",
   "id": "e2fd7635-684c-443a-b1f9-038957b66831",
   "metadata": {
    "heading_collapsed": "true",
    "tags": []
   },
   "source": [
    "#### Previous notes"
   ]
  },
  {
   "cell_type": "code",
   "execution_count": 31,
   "id": "1ebb96cd-e136-476e-9ace-2ab97a2bbc1d",
   "metadata": {},
   "outputs": [
    {
     "ename": "KeyError",
     "evalue": "'ranked_differential_diagnoses'",
     "output_type": "error",
     "traceback": [
      "\u001b[0;31m---------------------------------------------------------------------------\u001b[0m",
      "\u001b[0;31mKeyError\u001b[0m                                  Traceback (most recent call last)",
      "\u001b[0;32m/var/folders/0q/3y5dk4390kqc86qh28v817lw0000gn/T/ipykernel_41133/2286611521.py\u001b[0m in \u001b[0;36m<module>\u001b[0;34m\u001b[0m\n\u001b[0;32m----> 1\u001b[0;31m \u001b[0mapi_call_url\u001b[0m \u001b[0;34m=\u001b[0m \u001b[0murl_api_request\u001b[0m\u001b[0;34m(\u001b[0m\u001b[0;34m\"ranked_differential_diagnoses\"\u001b[0m\u001b[0;34m)\u001b[0m\u001b[0;34m\u001b[0m\u001b[0;34m\u001b[0m\u001b[0m\n\u001b[0m",
      "\u001b[0;32m~/Documents/ReposRob_RobPer/PuntoClinico/Venv_IsabelPC/repos/PC_Isabel/src/utils/isabel_funcs.py\u001b[0m in \u001b[0;36murl_api_request\u001b[0;34m(method)\u001b[0m\n\u001b[1;32m    163\u001b[0m \u001b[0;34m\u001b[0m\u001b[0m\n\u001b[1;32m    164\u001b[0m     \u001b[0;31m#### Reading json file with inputs for parameters\u001b[0m\u001b[0;34m\u001b[0m\u001b[0;34m\u001b[0m\u001b[0;34m\u001b[0m\u001b[0m\n\u001b[0;32m--> 165\u001b[0;31m     \u001b[0mjson_cont\u001b[0m \u001b[0;34m=\u001b[0m \u001b[0mread_json\u001b[0m\u001b[0;34m(\u001b[0m\u001b[0misabel_api_params\u001b[0m\u001b[0;34m[\u001b[0m\u001b[0;34m\"methods\"\u001b[0m\u001b[0;34m]\u001b[0m\u001b[0;34m[\u001b[0m\u001b[0mmethod\u001b[0m\u001b[0;34m]\u001b[0m\u001b[0;34m[\u001b[0m\u001b[0;34m\"params_input\"\u001b[0m\u001b[0;34m]\u001b[0m\u001b[0;34m)\u001b[0m\u001b[0;34m\u001b[0m\u001b[0;34m\u001b[0m\u001b[0m\n\u001b[0m\u001b[1;32m    166\u001b[0m \u001b[0;34m\u001b[0m\u001b[0m\n\u001b[1;32m    167\u001b[0m     \u001b[0;31m#### Adding parameters and their values to URL\u001b[0m\u001b[0;34m\u001b[0m\u001b[0;34m\u001b[0m\u001b[0;34m\u001b[0m\u001b[0m\n",
      "\u001b[0;31mKeyError\u001b[0m: 'ranked_differential_diagnoses'"
     ]
    }
   ],
   "source": [
    "api_call_url = url_api_request(\"ranked_differential_diagnoses\")"
   ]
  },
  {
   "cell_type": "code",
   "execution_count": 28,
   "id": "43b03a1c-a11f-4017-a135-ca7d78d0529c",
   "metadata": {},
   "outputs": [
    {
     "data": {
      "text/plain": [
       "'https://apiscsandbox.isabelhealthcare.com/v2/age_groups?callback=age_groups&authorization=QDDb180BilBk7209QqFikW1iqjOx2yjt&language=english&web_service=json'"
      ]
     },
     "execution_count": 28,
     "metadata": {},
     "output_type": "execute_result"
    }
   ],
   "source": [
    "api_call_url"
   ]
  },
  {
   "cell_type": "code",
   "execution_count": null,
   "id": "38006617-c142-4cf9-afa5-392d8132fdb9",
   "metadata": {},
   "outputs": [],
   "source": [
    "dd_url_auth = \"https://apiscsandbox.isabelhealthcare.com/v2/ranked_differential_diagnoses?callback=ranked_differential_diagnoses&authorization=QDDb180BilBk7209QqFikW1iqjOx2yjt&specialties=28&dob=19850818&sex=m&pregnant=n&region=1&country_id=221&querytext=cold,cough,fever&suggest=Suggest+Differential+Diagnosis&flag=sortbyRW_advanced&searchType=0&web_service=json\"\n",
    "dd_url_auth"
   ]
  },
  {
   "cell_type": "code",
   "execution_count": null,
   "id": "858bfa72-42bf-4938-9e73-6eb4c81df834",
   "metadata": {},
   "outputs": [],
   "source": [
    "req = requests.get(dd_url_auth)\n",
    "req"
   ]
  },
  {
   "cell_type": "code",
   "execution_count": null,
   "id": "2550b9a6-bb79-49c7-9149-9d5dfd56a817",
   "metadata": {
    "tags": []
   },
   "outputs": [],
   "source": [
    "api_clean_response(req.text)"
   ]
  },
  {
   "cell_type": "markdown",
   "id": "4b8c7857-fc66-44f5-afd9-bfbb367d088f",
   "metadata": {},
   "source": [
    "---"
   ]
  },
  {
   "cell_type": "markdown",
   "id": "924a3d09-25df-4bfe-b3dc-fbdd1b24c731",
   "metadata": {
    "tags": []
   },
   "source": [
    "## *Notes*"
   ]
  },
  {
   "cell_type": "markdown",
   "id": "93907d09-f8fe-4b18-bbf6-e766f4182051",
   "metadata": {
    "tags": [],
    "toc-hr-collapsed": true
   },
   "source": [
    "### API Examples "
   ]
  },
  {
   "cell_type": "markdown",
   "id": "e73a76ad-81e6-44cb-83dc-870a911b0ea8",
   "metadata": {
    "tags": []
   },
   "source": [
    "#### Chicago data"
   ]
  },
  {
   "cell_type": "code",
   "execution_count": null,
   "id": "0037cb58-4fb0-4448-8962-5914399ecaf7",
   "metadata": {},
   "outputs": [],
   "source": [
    "ex_url = \"https://data.cityofchicago.org/resource/f7f2-ggz5.json\""
   ]
  },
  {
   "cell_type": "code",
   "execution_count": null,
   "id": "3fb6a69d-9352-465f-b988-50bdc61a6be3",
   "metadata": {},
   "outputs": [],
   "source": [
    "client = Socrata(ex_url)"
   ]
  },
  {
   "cell_type": "markdown",
   "id": "165988a0-fa87-42b9-99db-41930f98743d",
   "metadata": {
    "tags": []
   },
   "source": [
    "#### Open Notify"
   ]
  },
  {
   "cell_type": "code",
   "execution_count": null,
   "id": "cc97c18d-6677-4e7e-9bfb-48a9cf93f3b1",
   "metadata": {
    "scrolled": true,
    "tags": []
   },
   "outputs": [],
   "source": [
    "req = requests.get('http://api.open-notify.org')\n",
    "print(request.text)"
   ]
  },
  {
   "cell_type": "markdown",
   "id": "96e6c798-18e3-4680-9991-7b91961147cb",
   "metadata": {
    "tags": [],
    "toc-hr-collapsed": true
   },
   "source": [
    "### Pasting Keys to URL"
   ]
  },
  {
   "cell_type": "code",
   "execution_count": 5,
   "id": "779a3e1e-bb9b-43a5-ba57-50489eae28ec",
   "metadata": {},
   "outputs": [
    {
     "data": {
      "text/plain": [
       "'https://apiscsandbox.isabelhealthcare.com/v2/age_groups?callback=age_groups&authorization=QDDb180BilBk7209QqFikW1iqjOx2yjt&language=english&web_service=json'"
      ]
     },
     "execution_count": 5,
     "metadata": {},
     "output_type": "execute_result"
    }
   ],
   "source": [
    "ag_url_auth = \"https://apiscsandbox.isabelhealthcare.com/v2/age_groups?callback=age_groups&authorization=QDDb180BilBk7209QqFikW1iqjOx2yjt&language=english&web_service=json\"\n",
    "ag_url_auth"
   ]
  },
  {
   "cell_type": "code",
   "execution_count": 10,
   "id": "8d42da33-cb3e-41a9-8f17-80ea1ccecb79",
   "metadata": {},
   "outputs": [],
   "source": [
    "mthd = \"age_groups\""
   ]
  },
  {
   "cell_type": "code",
   "execution_count": 26,
   "id": "90a7c0cf-aee2-4a97-842f-74edd1ca33d1",
   "metadata": {},
   "outputs": [
    {
     "data": {
      "text/plain": [
       "'https://apiscsandbox.isabelhealthcare.com/v2/age_groups?callback=age_groups&authorization=QDDb180BilBk7209QqFikW1iqjOx2yjt&language=english&web_service=json'"
      ]
     },
     "execution_count": 26,
     "metadata": {},
     "output_type": "execute_result"
    }
   ],
   "source": [
    "x = url_api_request(mthd)\n",
    "x"
   ]
  },
  {
   "cell_type": "markdown",
   "id": "11c81f48-16b1-4c4e-addb-1990fd299cb0",
   "metadata": {
    "tags": [],
    "toc-hr-collapsed": true
   },
   "source": [
    "### Reading a JSON file"
   ]
  },
  {
   "cell_type": "code",
   "execution_count": 12,
   "id": "4f9a6462-3629-4d61-94af-c589ebcfc131",
   "metadata": {},
   "outputs": [],
   "source": [
    "pth = \"../feed/\""
   ]
  },
  {
   "cell_type": "code",
   "execution_count": 13,
   "id": "a8677100-9ab9-423f-9261-af365010c9cb",
   "metadata": {},
   "outputs": [],
   "source": [
    "feed_name = \"age_request.jsonurl_api_request(method)\""
   ]
  },
  {
   "cell_type": "code",
   "execution_count": 14,
   "id": "30e6747b-c088-4268-b4ee-1b310c002f4f",
   "metadata": {},
   "outputs": [
    {
     "data": {
      "text/plain": [
       "'../feed/age_request.json'"
      ]
     },
     "execution_count": 14,
     "metadata": {},
     "output_type": "execute_result"
    }
   ],
   "source": [
    "pth + feed_name"
   ]
  },
  {
   "cell_type": "code",
   "execution_count": 15,
   "id": "4e949370-d0ef-44c5-97b1-312c884014da",
   "metadata": {},
   "outputs": [],
   "source": [
    "f = open(pth + feed_name, )"
   ]
  },
  {
   "cell_type": "code",
   "execution_count": 16,
   "id": "8721ade2-f7e4-4933-9a62-952e32f614a2",
   "metadata": {},
   "outputs": [],
   "source": [
    "f2 = json.load(f)"
   ]
  },
  {
   "cell_type": "code",
   "execution_count": 17,
   "id": "da19691c-de4a-4e90-8c3d-de6907fd7fa5",
   "metadata": {},
   "outputs": [
    {
     "data": {
      "text/plain": [
       "{'language': 'english', 'web_service': 'json'}"
      ]
     },
     "execution_count": 17,
     "metadata": {},
     "output_type": "execute_result"
    }
   ],
   "source": [
    "f2"
   ]
  },
  {
   "cell_type": "code",
   "execution_count": 18,
   "id": "3e347016-ea02-4bbf-8b1f-f12bb6be6ce8",
   "metadata": {},
   "outputs": [
    {
     "data": {
      "text/plain": [
       "dict"
      ]
     },
     "execution_count": 18,
     "metadata": {},
     "output_type": "execute_result"
    }
   ],
   "source": [
    "type(f2)"
   ]
  },
  {
   "cell_type": "code",
   "execution_count": 19,
   "id": "b3c2de33-55e5-420e-ba13-65af806e8b8f",
   "metadata": {},
   "outputs": [
    {
     "data": {
      "text/plain": [
       "'english'"
      ]
     },
     "execution_count": 19,
     "metadata": {},
     "output_type": "execute_result"
    }
   ],
   "source": [
    "f2[\"language\"]"
   ]
  },
  {
   "cell_type": "markdown",
   "id": "9900eda3-6938-4d57-9fb8-b7a1739263fc",
   "metadata": {},
   "source": [
    "---\n",
    "---"
   ]
  }
 ],
 "metadata": {
  "kernelspec": {
   "display_name": "Python 3 (ipykernel)",
   "language": "python",
   "name": "python3"
  },
  "language_info": {
   "codemirror_mode": {
    "name": "ipython",
    "version": 3
   },
   "file_extension": ".py",
   "mimetype": "text/x-python",
   "name": "python",
   "nbconvert_exporter": "python",
   "pygments_lexer": "ipython3",
   "version": "3.9.1"
  },
  "toc-autonumbering": false,
  "toc-showcode": false,
  "toc-showmarkdowntxt": false
 },
 "nbformat": 4,
 "nbformat_minor": 5
}
