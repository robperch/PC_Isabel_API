{
 "cells": [
  {
   "cell_type": "markdown",
   "id": "85f318e3-3dd3-491e-9ebb-2bd116caf0cc",
   "metadata": {},
   "source": [
    "# Isabel API Usage"
   ]
  },
  {
   "cell_type": "markdown",
   "id": "155324fb-5111-4e6a-a50e-743b5c7e888f",
   "metadata": {},
   "source": [
    "## Imports"
   ]
  },
  {
   "cell_type": "markdown",
   "id": "338858db-16c6-47ae-806f-663b1e37ec29",
   "metadata": {},
   "source": [
    "#### Standard library imports"
   ]
  },
  {
   "cell_type": "code",
   "execution_count": 1,
   "id": "37f88368-3a2b-4b3e-9798-fe6ae223ff85",
   "metadata": {
    "tags": []
   },
   "outputs": [],
   "source": [
    "import sys\n",
    "\n",
    "import requests\n",
    "\n",
    "import json\n",
    "\n",
    "import re"
   ]
  },
  {
   "cell_type": "markdown",
   "id": "08c5071d-7f97-4446-89de-80edb8f3d75d",
   "metadata": {
    "tags": []
   },
   "source": [
    "#### Third party imports"
   ]
  },
  {
   "cell_type": "raw",
   "id": "841c4d7e-b71f-4bcd-9d8a-209d7b05c9b9",
   "metadata": {},
   "source": []
  },
  {
   "cell_type": "markdown",
   "id": "9c5b6538-e89e-435c-90b6-d3978dd1dc1d",
   "metadata": {
    "heading_collapsed": "true",
    "tags": []
   },
   "source": [
    "#### Local application imports"
   ]
  },
  {
   "cell_type": "code",
   "execution_count": 2,
   "id": "a91e20db-e19a-4e2f-a87b-2fe7d1f0469e",
   "metadata": {},
   "outputs": [],
   "source": [
    "sys.path.append(\"../\")"
   ]
  },
  {
   "cell_type": "code",
   "execution_count": 3,
   "id": "725bc80a-3771-436f-86eb-f231c118115a",
   "metadata": {},
   "outputs": [],
   "source": [
    "%load_ext autoreload\n",
    "%autoreload 2\n",
    "\n",
    "from src.utils.isabel_funcs import *\n",
    "\n",
    "from src.utils.isabel_params import *"
   ]
  },
  {
   "cell_type": "markdown",
   "id": "324f4533-cf3d-40ac-8d3f-7183ca4a7ef9",
   "metadata": {},
   "source": [
    "---"
   ]
  },
  {
   "cell_type": "markdown",
   "id": "f0632e6f-fd34-477f-83ad-1fc20a3c5678",
   "metadata": {
    "tags": []
   },
   "source": [
    "## Isabel API tests"
   ]
  },
  {
   "cell_type": "markdown",
   "id": "1395d3e9-f724-4ae6-b198-3b2e0020896f",
   "metadata": {
    "tags": []
   },
   "source": [
    "### Age request test"
   ]
  },
  {
   "cell_type": "markdown",
   "id": "7b5a83b2-0fa5-4f72-971a-3d3050e1653f",
   "metadata": {
    "heading_collapsed": "true",
    "tags": []
   },
   "source": [
    "#### Building API request"
   ]
  },
  {
   "cell_type": "code",
   "execution_count": 38,
   "id": "d248843c-c84f-4f96-aa4f-8147794f7ab5",
   "metadata": {},
   "outputs": [],
   "source": [
    "method = \"age_groups\""
   ]
  },
  {
   "cell_type": "code",
   "execution_count": 39,
   "id": "1ef0c424-7062-40c5-a17a-6ce9eed8b05f",
   "metadata": {},
   "outputs": [],
   "source": [
    "api_call_url = url_api_request(\"age_groups\")"
   ]
  },
  {
   "cell_type": "code",
   "execution_count": 40,
   "id": "c0a4edbb-737a-4224-a21c-110202fb1c59",
   "metadata": {},
   "outputs": [
    {
     "data": {
      "text/plain": [
       "'https://esscstsandbox.isabelhealthcare.com/v2/age_groups?callback=age_groups&authorization=QDDb180BilBk7209QqFikW1iqjOx2yjt&language=english&web_service=json'"
      ]
     },
     "execution_count": 40,
     "metadata": {},
     "output_type": "execute_result"
    }
   ],
   "source": [
    "api_call_url"
   ]
  },
  {
   "cell_type": "markdown",
   "id": "ba32b096-af59-4b06-8436-9a6399816af5",
   "metadata": {
    "heading_collapsed": "true",
    "tags": []
   },
   "source": [
    "#### Getting API request"
   ]
  },
  {
   "cell_type": "code",
   "execution_count": 41,
   "id": "0e163634-8d39-4da1-9328-578d3364c3f7",
   "metadata": {},
   "outputs": [
    {
     "data": {
      "text/plain": [
       "<Response [200]>"
      ]
     },
     "execution_count": 41,
     "metadata": {},
     "output_type": "execute_result"
    }
   ],
   "source": [
    "req = requests.get(api_call_url)\n",
    "req"
   ]
  },
  {
   "cell_type": "code",
   "execution_count": 42,
   "id": "785aad9d-4cdd-446d-a64e-202cfb924d18",
   "metadata": {
    "scrolled": true,
    "tags": []
   },
   "outputs": [],
   "source": [
    "api_resp = enhance_api_response(req.text)"
   ]
  },
  {
   "cell_type": "code",
   "execution_count": 43,
   "id": "607c9d7c-f2e9-4bb5-b2c4-ef96f7b4bb88",
   "metadata": {
    "scrolled": true,
    "tags": []
   },
   "outputs": [
    {
     "name": "stdout",
     "output_type": "stream",
     "text": [
      "{\n",
      "  \"age_groups\": {\n",
      "    \"age_group\": [\n",
      "      {\n",
      "        \"agegroup_id\": \"1\",\n",
      "        \"ordinal\": \"0\",\n",
      "        \"name\": \"neonato\",\n",
      "        \"yr_from\": \"0\",\n",
      "        \"yr_to\": \"28d\",\n",
      "        \"branch\": \"paediatric\",\n",
      "        \"can_conceive\": \"false\"\n",
      "      },\n",
      "      {\n",
      "        \"agegroup_id\": \"2\",\n",
      "        \"ordinal\": \"2\",\n",
      "        \"name\": \"infantil\",\n",
      "        \"yr_from\": \"29d\",\n",
      "        \"yr_to\": \"1 a\\u00f1o\",\n",
      "        \"branch\": \"paediatric\",\n",
      "        \"can_conceive\": \"false\"\n",
      "      },\n",
      "      {\n",
      "        \"agegroup_id\": \"3\",\n",
      "        \"ordinal\": \"4\",\n",
      "        \"name\": \"ni\\u00f1o peque\\u00f1o\",\n",
      "        \"yr_from\": \"1\",\n",
      "        \"yr_to\": \"5 a\\u00f1os\",\n",
      "        \"branch\": \"paediatric\",\n",
      "        \"can_conceive\": \"false\"\n",
      "      },\n",
      "      {\n",
      "        \"agegroup_id\": \"10\",\n",
      "        \"ordinal\": \"5\",\n",
      "        \"name\": \"ni\\u00f1o grande\",\n",
      "        \"yr_from\": \"6\",\n",
      "        \"yr_to\": \"12 a\\u00f1os\",\n",
      "        \"branch\": \"paediatric\",\n",
      "        \"can_conceive\": \"false\"\n",
      "      },\n",
      "      {\n",
      "        \"agegroup_id\": \"4\",\n",
      "        \"ordinal\": \"6\",\n",
      "        \"name\": \"adolescente\",\n",
      "        \"yr_from\": \"13\",\n",
      "        \"yr_to\": \"16 a\\u00f1os\",\n",
      "        \"branch\": \"paediatric\",\n",
      "        \"can_conceive\": \"true\"\n",
      "      },\n",
      "      {\n",
      "        \"agegroup_id\": \"7\",\n",
      "        \"ordinal\": \"8\",\n",
      "        \"name\": \"joven-adulto\",\n",
      "        \"yr_from\": \"17\",\n",
      "        \"yr_to\": \"29 a\\u00f1os\",\n",
      "        \"branch\": \"adult\",\n",
      "        \"can_conceive\": \"true\"\n",
      "      },\n",
      "      {\n",
      "        \"agegroup_id\": \"5\",\n",
      "        \"ordinal\": \"10\",\n",
      "        \"name\": \"adulto\",\n",
      "        \"yr_from\": \"30\",\n",
      "        \"yr_to\": \"39 a\\u00f1os\",\n",
      "        \"branch\": \"adult\",\n",
      "        \"can_conceive\": \"true\"\n",
      "      },\n",
      "      {\n",
      "        \"agegroup_id\": \"8\",\n",
      "        \"ordinal\": \"12\",\n",
      "        \"name\": \"adulto\",\n",
      "        \"yr_from\": \"40\",\n",
      "        \"yr_to\": \"49 a\\u00f1os\",\n",
      "        \"branch\": \"adult\",\n",
      "        \"can_conceive\": \"true\"\n",
      "      },\n",
      "      {\n",
      "        \"agegroup_id\": \"9\",\n",
      "        \"ordinal\": \"14\",\n",
      "        \"name\": \"adulto\",\n",
      "        \"yr_from\": \"50\",\n",
      "        \"yr_to\": \"64 a\\u00f1os\",\n",
      "        \"branch\": \"adult\",\n",
      "        \"can_conceive\": \"true\"\n",
      "      },\n",
      "      {\n",
      "        \"agegroup_id\": \"6\",\n",
      "        \"ordinal\": \"16\",\n",
      "        \"name\": \"geri\\u00e1trica\",\n",
      "        \"yr_from\": \"m\\u00e1s de\",\n",
      "        \"yr_to\": \"65 a\\u00f1os\",\n",
      "        \"branch\": \"adult\",\n",
      "        \"can_conceive\": \"false\"\n",
      "      }\n",
      "    ]\n",
      "  }\n",
      "}\n"
     ]
    }
   ],
   "source": [
    "print(api_resp)"
   ]
  },
  {
   "cell_type": "markdown",
   "id": "6909890d-0a38-4543-ac85-1c7803911e2a",
   "metadata": {
    "heading_collapsed": "true",
    "tags": [],
    "toc-hr-collapsed": true
   },
   "source": [
    "#### Printing API output into file"
   ]
  },
  {
   "cell_type": "code",
   "execution_count": null,
   "id": "25ce6f44-73ea-4692-b6a5-fe92fc74f463",
   "metadata": {},
   "outputs": [],
   "source": [
    "path = out_loc + inout_files[method][\"output\"]\n",
    "path"
   ]
  },
  {
   "cell_type": "code",
   "execution_count": null,
   "id": "0edd027f-76b8-4eab-bf7b-f942787d9dca",
   "metadata": {},
   "outputs": [],
   "source": [
    "write_json(path, req.text)"
   ]
  },
  {
   "cell_type": "markdown",
   "id": "041f30bc-1da6-4e8c-990b-64931a51636a",
   "metadata": {
    "tags": [],
    "toc-hr-collapsed": true
   },
   "source": [
    "### Regions request test"
   ]
  },
  {
   "cell_type": "markdown",
   "id": "a231c1cb-cda3-4dfb-814a-37a451b655fc",
   "metadata": {
    "heading_collapsed": "true",
    "tags": []
   },
   "source": [
    "#### Building API request"
   ]
  },
  {
   "cell_type": "code",
   "execution_count": null,
   "id": "7f0601c3-a5a6-433b-b117-705410edb365",
   "metadata": {},
   "outputs": [],
   "source": [
    "method = \"regions\""
   ]
  },
  {
   "cell_type": "code",
   "execution_count": null,
   "id": "ab659329-2508-4b90-af27-94001bd78d52",
   "metadata": {},
   "outputs": [],
   "source": [
    "api_call_url = url_api_request(method)"
   ]
  },
  {
   "cell_type": "code",
   "execution_count": null,
   "id": "a8207bdf-a219-4088-9608-b88cf678b429",
   "metadata": {},
   "outputs": [],
   "source": [
    "api_call_url"
   ]
  },
  {
   "cell_type": "markdown",
   "id": "3dacca9f-a9ff-42cd-987a-f604d66e2888",
   "metadata": {
    "heading_collapsed": "true",
    "tags": []
   },
   "source": [
    "#### Getting API request"
   ]
  },
  {
   "cell_type": "code",
   "execution_count": null,
   "id": "755d1814-e34d-4f57-b9e9-3de50dbf545d",
   "metadata": {},
   "outputs": [],
   "source": [
    "req = requests.get(api_call_url)\n",
    "req"
   ]
  },
  {
   "cell_type": "code",
   "execution_count": null,
   "id": "4841e49d-0252-4f63-8bff-3556bdae2b8e",
   "metadata": {
    "scrolled": true,
    "tags": []
   },
   "outputs": [],
   "source": [
    "api_resp = enhance_api_response(req.text)"
   ]
  },
  {
   "cell_type": "code",
   "execution_count": null,
   "id": "b61083da-0295-4071-9dd0-1b9101714439",
   "metadata": {
    "scrolled": true,
    "tags": []
   },
   "outputs": [],
   "source": [
    "print(api_resp)"
   ]
  },
  {
   "cell_type": "markdown",
   "id": "50e1028a-00a1-4284-a27b-d708bcff67f8",
   "metadata": {
    "heading_collapsed": "true",
    "tags": [],
    "toc-hr-collapsed": true
   },
   "source": [
    "#### Printing API output into file"
   ]
  },
  {
   "cell_type": "code",
   "execution_count": null,
   "id": "4b3e6dc6-e3d8-4c0a-b8d2-0eee5b209d93",
   "metadata": {},
   "outputs": [],
   "source": [
    "path = out_loc + inout_files[method][\"output\"]\n",
    "path"
   ]
  },
  {
   "cell_type": "code",
   "execution_count": null,
   "id": "284fa6eb-782f-4b5d-ae00-7b905b331a17",
   "metadata": {},
   "outputs": [],
   "source": [
    "write_json(path, req.text)"
   ]
  },
  {
   "cell_type": "markdown",
   "id": "0e53ef00-48bd-4178-8632-9b397c3b813d",
   "metadata": {
    "tags": [],
    "toc-hr-collapsed": true
   },
   "source": [
    "### Countries request test"
   ]
  },
  {
   "cell_type": "markdown",
   "id": "9b4c2746-d4d4-409f-842a-7765f19cc5c6",
   "metadata": {
    "heading_collapsed": "true",
    "tags": []
   },
   "source": [
    "#### Building API request"
   ]
  },
  {
   "cell_type": "code",
   "execution_count": null,
   "id": "0ddb490d-e865-4f2b-9955-9d2cf07567fa",
   "metadata": {},
   "outputs": [],
   "source": [
    "method = \"countries\""
   ]
  },
  {
   "cell_type": "code",
   "execution_count": null,
   "id": "e74615d8-abb7-4eef-baec-8a84c0f1f152",
   "metadata": {},
   "outputs": [],
   "source": [
    "api_call_url = url_api_request(method)"
   ]
  },
  {
   "cell_type": "code",
   "execution_count": null,
   "id": "a1b2e67b-1668-4daf-adfc-3cda469153da",
   "metadata": {},
   "outputs": [],
   "source": [
    "api_call_url"
   ]
  },
  {
   "cell_type": "markdown",
   "id": "f443198f-5ab4-4f23-8fa6-ce7469220746",
   "metadata": {
    "heading_collapsed": "true",
    "tags": []
   },
   "source": [
    "#### Getting API request"
   ]
  },
  {
   "cell_type": "code",
   "execution_count": null,
   "id": "bb2effd6-b809-4d88-a57b-4da1a4d0ba53",
   "metadata": {},
   "outputs": [],
   "source": [
    "req = requests.get(api_call_url)\n",
    "req"
   ]
  },
  {
   "cell_type": "code",
   "execution_count": null,
   "id": "f708a078-0a39-439a-930d-7cab62b308c3",
   "metadata": {
    "scrolled": true,
    "tags": []
   },
   "outputs": [],
   "source": [
    "api_resp = enhance_api_response(req.text)"
   ]
  },
  {
   "cell_type": "code",
   "execution_count": null,
   "id": "837b56e8-088e-4b60-b03a-ce59c6b95a24",
   "metadata": {
    "scrolled": true,
    "tags": []
   },
   "outputs": [],
   "source": [
    "print(api_resp)"
   ]
  },
  {
   "cell_type": "markdown",
   "id": "118f0e49-88ad-4f9f-8ac7-1939046b988a",
   "metadata": {
    "heading_collapsed": "true",
    "tags": [],
    "toc-hr-collapsed": true
   },
   "source": [
    "#### Printing API output into file"
   ]
  },
  {
   "cell_type": "code",
   "execution_count": null,
   "id": "2bbaf3df-abb7-41ff-a71e-c074b0658cd3",
   "metadata": {},
   "outputs": [],
   "source": [
    "path = out_loc + inout_files[method][\"output\"]\n",
    "path"
   ]
  },
  {
   "cell_type": "code",
   "execution_count": null,
   "id": "3dabe8a9-c945-44ec-aec3-20be05e11da0",
   "metadata": {},
   "outputs": [],
   "source": [
    "write_json(path, req.text)"
   ]
  },
  {
   "cell_type": "markdown",
   "id": "546be504-a7bb-458d-892f-de762e761e36",
   "metadata": {
    "tags": [],
    "toc-hr-collapsed": true
   },
   "source": [
    "### Pregnancies request test"
   ]
  },
  {
   "cell_type": "markdown",
   "id": "3c49cf50-4160-419f-8794-1fcfe37c7c33",
   "metadata": {
    "heading_collapsed": "true",
    "tags": [],
    "toc-hr-collapsed": true
   },
   "source": [
    "#### Building API request"
   ]
  },
  {
   "cell_type": "code",
   "execution_count": 4,
   "id": "ceadb06c-451a-4168-9f58-cbe6df9f19ff",
   "metadata": {},
   "outputs": [],
   "source": [
    "method = \"pregnancies\""
   ]
  },
  {
   "cell_type": "code",
   "execution_count": 5,
   "id": "34f897a7-254c-4591-84f6-d77186193d82",
   "metadata": {},
   "outputs": [],
   "source": [
    "api_call_url = url_api_request(method)"
   ]
  },
  {
   "cell_type": "code",
   "execution_count": 6,
   "id": "1d6b02b9-d85a-480b-9583-9f413106d942",
   "metadata": {},
   "outputs": [
    {
     "data": {
      "text/plain": [
       "'https://esscstsandbox.isabelhealthcare.com/v2/pregnancies?callback=pregnancies&authorization=QDDb180BilBk7209QqFikW1iqjOx2yjt&language=english&web_service=json'"
      ]
     },
     "execution_count": 6,
     "metadata": {},
     "output_type": "execute_result"
    }
   ],
   "source": [
    "api_call_url"
   ]
  },
  {
   "cell_type": "markdown",
   "id": "a97b3829-fa8e-4237-bfcc-5d4ce0521dc7",
   "metadata": {
    "heading_collapsed": "true",
    "tags": [],
    "toc-hr-collapsed": true
   },
   "source": [
    "#### Getting API request"
   ]
  },
  {
   "cell_type": "code",
   "execution_count": 7,
   "id": "a935b6e7-f79d-4174-a0ba-33278f303b17",
   "metadata": {},
   "outputs": [
    {
     "data": {
      "text/plain": [
       "<Response [200]>"
      ]
     },
     "execution_count": 7,
     "metadata": {},
     "output_type": "execute_result"
    }
   ],
   "source": [
    "req = requests.get(api_call_url)\n",
    "req"
   ]
  },
  {
   "cell_type": "code",
   "execution_count": 8,
   "id": "5626fcae-744c-4df5-9192-56d792129ba2",
   "metadata": {
    "scrolled": true,
    "tags": []
   },
   "outputs": [],
   "source": [
    "api_resp = enhance_api_response(req.text)"
   ]
  },
  {
   "cell_type": "code",
   "execution_count": 9,
   "id": "a606035b-2d8e-4072-94d1-a9084f522c61",
   "metadata": {},
   "outputs": [
    {
     "name": "stdout",
     "output_type": "stream",
     "text": [
      "{\n",
      "  \"pregnancies\": {\n",
      "    \"pregnancy\": [\n",
      "      {\n",
      "        \"pregnancy_id\": \"0\",\n",
      "        \"pregnancy_name\": \"(- sin especificar -)\"\n",
      "      },\n",
      "      {\n",
      "        \"pregnancy_id\": \"1\",\n",
      "        \"pregnancy_name\": \"no-embarazada\"\n",
      "      },\n",
      "      {\n",
      "        \"pregnancy_id\": \"2\",\n",
      "        \"pregnancy_name\": \"embarazada\"\n",
      "      }\n",
      "    ]\n",
      "  }\n",
      "}\n"
     ]
    }
   ],
   "source": [
    "print(api_resp)"
   ]
  },
  {
   "cell_type": "markdown",
   "id": "d46f7e3b-e0c1-43a7-a346-7155da50fe40",
   "metadata": {
    "heading_collapsed": "true",
    "tags": []
   },
   "source": [
    "#### Printing API output into file"
   ]
  },
  {
   "cell_type": "code",
   "execution_count": null,
   "id": "b65da5c1-7510-4f96-9469-934baf3a4103",
   "metadata": {},
   "outputs": [],
   "source": [
    "path = out_loc + inout_files[method][\"output\"]\n",
    "path"
   ]
  },
  {
   "cell_type": "code",
   "execution_count": null,
   "id": "8018d383-b1fa-442d-8f4b-7eadb133812c",
   "metadata": {},
   "outputs": [],
   "source": [
    "write_json(path, req.text)"
   ]
  },
  {
   "cell_type": "markdown",
   "id": "6e723650-56cb-4bac-b196-2368e39fdd0d",
   "metadata": {
    "tags": []
   },
   "source": [
    "### Ranked differential diagnoses test"
   ]
  },
  {
   "cell_type": "markdown",
   "id": "a46f1878-5633-4e84-8c63-b98ac6aa0be6",
   "metadata": {
    "heading_collapsed": "true",
    "tags": []
   },
   "source": [
    "#### Building API request"
   ]
  },
  {
   "cell_type": "code",
   "execution_count": 70,
   "id": "f75f5244-c3bc-4cae-91ce-53fdd26ecbac",
   "metadata": {},
   "outputs": [],
   "source": [
    "method = \"ranked_differential_diagnoses\""
   ]
  },
  {
   "cell_type": "code",
   "execution_count": 71,
   "id": "71f64b7c-c0f6-4a7d-b155-b1ae15b8b7d8",
   "metadata": {},
   "outputs": [],
   "source": [
    "api_call_url = url_api_request(method)"
   ]
  },
  {
   "cell_type": "code",
   "execution_count": 72,
   "id": "aeae7b8e-c2a1-494a-9e69-c041f57f8c73",
   "metadata": {},
   "outputs": [
    {
     "data": {
      "text/plain": [
       "'https://apiscsandbox.isabelhealthcare.com/v2/ranked_differential_diagnoses?callback=ranked_differential_diagnoses&authorization=QDDb180BilBk7209QqFikW1iqjOx2yjt&specialties=28&dob=19850818&sex=f&pregnant=y&region=1&country_id=221&querytext=fever&flag=sortbyRW_advanced&suggest=Suggest+Differential+Diagnosis&searchType=0&web_service=json'"
      ]
     },
     "execution_count": 72,
     "metadata": {},
     "output_type": "execute_result"
    }
   ],
   "source": [
    "api_call_url"
   ]
  },
  {
   "cell_type": "raw",
   "id": "c6fd6632-6af4-48e5-9bb8-2a166fda17d2",
   "metadata": {},
   "source": [
    "'https://apiscsandbox.isabelhealthcare.com/v2/ranked_differential_diagnoses?callback=ranked_differential_diagnoses&authorization=QDDb180BilBk7209QqFikW1iqjOx2yjt&specialties=28&dob=19850818&sex=f&pregnant=y&region=1&country_id=221&querytext=fever&flag=sortbyRW_advanced&suggest=Suggest+Differential+Diagnosis&searchType=0&web_service=json'"
   ]
  },
  {
   "cell_type": "raw",
   "id": "51f1a3d3-428d-46da-84e7-0292de331447",
   "metadata": {},
   "source": [
    "api_call_url = \"https://esscstsandbox.isabelhealthcare.com/v2/ranked_differential_diagnoses?specialties=28&dob=19850818&sex=m&pregnant=n&region=1&country_id=221&querytext=fiebre,náusea&suggest=Suggest+Differential+Diagnosis&flag=sortbyRW_advanced&searchType=0&web_service=json&authorization=QDDb180BilBk7209QqFikW1iqjOx2yjt&callback=ranked_differential_diagnoses\"\n",
    "\n",
    "api_call_url"
   ]
  },
  {
   "cell_type": "markdown",
   "id": "cb588b79-2ce1-4df2-bc21-2d4df0abfa69",
   "metadata": {
    "heading_collapsed": "true",
    "tags": []
   },
   "source": [
    "#### Getting API request"
   ]
  },
  {
   "cell_type": "code",
   "execution_count": 83,
   "id": "9f43d627-fd0e-46df-8b2e-a777996016ba",
   "metadata": {},
   "outputs": [
    {
     "data": {
      "text/plain": [
       "<Response [500]>"
      ]
     },
     "execution_count": 83,
     "metadata": {},
     "output_type": "execute_result"
    }
   ],
   "source": [
    "req = requests.get(api_call_url)\n",
    "req"
   ]
  },
  {
   "cell_type": "raw",
   "id": "0b7ec8f7-0cde-4818-b5bb-3692bd57089b",
   "metadata": {},
   "source": [
    "req.text"
   ]
  },
  {
   "cell_type": "code",
   "execution_count": 75,
   "id": "75eecf9b-ff2a-48df-9bd8-cb022b0cc40f",
   "metadata": {
    "scrolled": true,
    "tags": []
   },
   "outputs": [],
   "source": [
    "api_resp = enhance_api_response(req.text)"
   ]
  },
  {
   "cell_type": "code",
   "execution_count": 76,
   "id": "77d1b25f-28a8-4c2b-b41b-6d5364245afc",
   "metadata": {
    "scrolled": true,
    "tags": []
   },
   "outputs": [
    {
     "name": "stdout",
     "output_type": "stream",
     "text": [
      "{\n",
      "  \"diagnoses_checklist\": {\n",
      "    \"query_result_details\": {\n",
      "      \"age_group\": \"adult  (30-39 yrs)\",\n",
      "      \"gender\": \"Female\",\n",
      "      \"pregnancy\": \"2\",\n",
      "      \"region\": \"Western Europe\",\n",
      "      \"specialty_type\": \"diagnoses\",\n",
      "      \"query_entered\": \"fever\",\n",
      "      \"sorting\": \"Most Relevant\",\n",
      "      \"total_results_returned\": \"40\"\n",
      "    },\n",
      "    \"triage_api_url\": \"https://apiscsandbox.isabelhealthcare.com/v2/triage_score?dx=3,6&age=5&sex=1&region=1&text=fever&pregnancy=2&Q1=&Q2=&Q3=&Q4=&Q5=&Q6=&Q7=&web_service=json&callback=showTriageScore\",\n",
      "    \"diagnoses\": [\n",
      "      {\n",
      "        \"diagnosis_id\": \"2205\",\n",
      "        \"diagnosis_name\": \"Scarlet Fever\",\n",
      "        \"knowledge_window_url\": \"https://scst.isabelhealthcare.com/search_knowledge_advanced/knowledge_window?category_id=2205&category_type=standalone&diagnoses_name=Scarlet Fever&diagnoses_sub=2205&age_id=5&sex=female&pregnancy=seen&region=1&text=fever&specialty_id=28&sessionId=8473a76733d3f640117c9bf3e957a22c&userid=4239&emr=true\",\n",
      "        \"gender\": null,\n",
      "        \"specialty\": \"INFECTIOUS CONDITIONS\",\n",
      "        \"red_flag\": \"false\",\n",
      "        \"common_diagnosis\": \"false\",\n",
      "        \"snomed_diagnosis_id\": \"30242009\",\n",
      "        \"icd9_diagnosis_id\": \"034.1\",\n",
      "        \"icd10_diagnosis_id\": \"A38.9\"\n",
      "      },\n",
      "      {\n",
      "        \"diagnosis_id\": \"2351\",\n",
      "        \"diagnosis_name\": \"Influenza\",\n",
      "        \"knowledge_window_url\": \"https://scst.isabelhealthcare.com/search_knowledge_advanced/knowledge_window?category_id=2351&category_type=standalone&diagnoses_name=Influenza&diagnoses_sub=2351&age_id=5&sex=female&pregnancy=seen&region=1&text=fever&specialty_id=28&sessionId=8473a76733d3f640117c9bf3e957a22c&userid=4239&emr=true\",\n",
      "        \"gender\": null,\n",
      "        \"specialty\": \"INFECTIOUS CONDITIONS\",\n",
      "        \"red_flag\": \"false\",\n",
      "        \"common_diagnosis\": \"true\",\n",
      "        \"snomed_diagnosis_id\": \"6142004\",\n",
      "        \"icd9_diagnosis_id\": \"487.1\",\n",
      "        \"icd10_diagnosis_id\": \"J11.1\"\n",
      "      },\n",
      "      {\n",
      "        \"diagnosis_id\": \"2141\",\n",
      "        \"diagnosis_name\": \"Sepsis and Shock\",\n",
      "        \"knowledge_window_url\": \"https://scst.isabelhealthcare.com/search_knowledge_advanced/knowledge_window?category_id=2141&category_type=spc&diagnoses_name=Sepsis and Shock&diagnoses_sub=2141&age_id=5&sex=female&pregnancy=seen&region=1&text=fever&specialty_id=28&sessionId=8473a76733d3f640117c9bf3e957a22c&userid=4239&emr=true\",\n",
      "        \"gender\": null,\n",
      "        \"specialty\": \"INFECTIOUS CONDITIONS\",\n",
      "        \"red_flag\": \"true\",\n",
      "        \"common_diagnosis\": \"true\",\n",
      "        \"snomed_diagnosis_id\": \"76571007\",\n",
      "        \"icd9_diagnosis_id\": \"785.52\",\n",
      "        \"icd10_diagnosis_id\": \"R65.21\"\n",
      "      },\n",
      "      {\n",
      "        \"diagnosis_id\": \"733\",\n",
      "        \"diagnosis_name\": \"Hodgkin Disease\",\n",
      "        \"knowledge_window_url\": \"https://scst.isabelhealthcare.com/search_knowledge_advanced/knowledge_window?category_id=733&category_type=spc&diagnoses_name=Hodgkin Disease&diagnoses_sub=733&age_id=5&sex=female&pregnancy=seen&region=1&text=fever&specialty_id=28&sessionId=8473a76733d3f640117c9bf3e957a22c&userid=4239&emr=true\",\n",
      "        \"gender\": null,\n",
      "        \"specialty\": \"CANCER CONDITIONS\",\n",
      "        \"red_flag\": \"false\",\n",
      "        \"common_diagnosis\": \"false\",\n",
      "        \"snomed_diagnosis_id\": \"118599009\",\n",
      "        \"icd9_diagnosis_id\": \"201.90\",\n",
      "        \"icd10_diagnosis_id\": \"C81.9\"\n",
      "      },\n",
      "      {\n",
      "        \"diagnosis_id\": \"5627\",\n",
      "        \"diagnosis_name\": \"Adult Still Disease\",\n",
      "        \"knowledge_window_url\": \"https://scst.isabelhealthcare.com/search_knowledge_advanced/knowledge_window?category_id=5627&category_type=standalone&diagnoses_name=Adult Still Disease&diagnoses_sub=5627&age_id=5&sex=female&pregnancy=seen&region=1&text=fever&specialty_id=28&sessionId=8473a76733d3f640117c9bf3e957a22c&userid=4239&emr=true\",\n",
      "        \"gender\": null,\n",
      "        \"specialty\": \"RHEUMATIC CONDITIONS\",\n",
      "        \"red_flag\": \"false\",\n",
      "        \"common_diagnosis\": \"false\",\n",
      "        \"snomed_diagnosis_id\": \"239920006\",\n",
      "        \"icd9_diagnosis_id\": \"714.2\",\n",
      "        \"icd10_diagnosis_id\": \"M06.1\"\n",
      "      },\n",
      "      {\n",
      "        \"diagnosis_id\": \"604\",\n",
      "        \"diagnosis_name\": \"Endocarditis\",\n",
      "        \"knowledge_window_url\": \"https://scst.isabelhealthcare.com/search_knowledge_advanced/knowledge_window?category_id=604&category_type=spc&diagnoses_name=Endocarditis&diagnoses_sub=604&age_id=5&sex=female&pregnancy=seen&region=1&text=fever&specialty_id=28&sessionId=8473a76733d3f640117c9bf3e957a22c&userid=4239&emr=true\",\n",
      "        \"gender\": null,\n",
      "        \"specialty\": \"HEART / BLOOD VESSEL CONDITIONS\",\n",
      "        \"red_flag\": \"true\",\n",
      "        \"common_diagnosis\": \"false\",\n",
      "        \"snomed_diagnosis_id\": \"56819008\",\n",
      "        \"icd9_diagnosis_id\": \"424.90\",\n",
      "        \"icd10_diagnosis_id\": \"I38\"\n",
      "      },\n",
      "      {\n",
      "        \"diagnosis_id\": \"14651\",\n",
      "        \"diagnosis_name\": \"Swine Flu \",\n",
      "        \"knowledge_window_url\": \"https://scst.isabelhealthcare.com/search_knowledge_advanced/knowledge_window?category_id=14651&category_type=standalone&diagnoses_name=Swine Flu &diagnoses_sub=14651&age_id=5&sex=female&pregnancy=seen&region=1&text=fever&specialty_id=28&sessionId=8473a76733d3f640117c9bf3e957a22c&userid=4239&emr=true\",\n",
      "        \"gender\": null,\n",
      "        \"specialty\": \"INFECTIOUS CONDITIONS\",\n",
      "        \"red_flag\": \"false\",\n",
      "        \"common_diagnosis\": \"false\",\n",
      "        \"snomed_diagnosis_id\": \"84037004\",\n",
      "        \"icd9_diagnosis_id\": \"488.12\",\n",
      "        \"icd10_diagnosis_id\": \"J09.X2\"\n",
      "      },\n",
      "      {\n",
      "        \"diagnosis_id\": \"938\",\n",
      "        \"diagnosis_name\": \"Urinary Infection\",\n",
      "        \"knowledge_window_url\": \"https://scst.isabelhealthcare.com/search_knowledge_advanced/knowledge_window?category_id=938&category_type=spc&diagnoses_name=Urinary Infection&diagnoses_sub=938&age_id=5&sex=female&pregnancy=seen&region=1&text=fever&specialty_id=28&sessionId=8473a76733d3f640117c9bf3e957a22c&userid=4239&emr=true\",\n",
      "        \"gender\": null,\n",
      "        \"specialty\": \"KIDNEY CONDITIONS\",\n",
      "        \"red_flag\": \"false\",\n",
      "        \"common_diagnosis\": \"true\",\n",
      "        \"snomed_diagnosis_id\": \"68566005\",\n",
      "        \"icd9_diagnosis_id\": \"599.0\",\n",
      "        \"icd10_diagnosis_id\": \"N39.0\"\n",
      "      },\n",
      "      {\n",
      "        \"diagnosis_id\": \"279\",\n",
      "        \"diagnosis_name\": \"Crohn Disease\",\n",
      "        \"knowledge_window_url\": \"https://scst.isabelhealthcare.com/search_knowledge_advanced/knowledge_window?category_id=279&category_type=standalone&diagnoses_name=Crohn Disease&diagnoses_sub=279&age_id=5&sex=female&pregnancy=seen&region=1&text=fever&specialty_id=28&sessionId=8473a76733d3f640117c9bf3e957a22c&userid=4239&emr=true\",\n",
      "        \"gender\": null,\n",
      "        \"specialty\": \"GASTROINTESTINAL CONDITIONS\",\n",
      "        \"red_flag\": \"false\",\n",
      "        \"common_diagnosis\": \"true\",\n",
      "        \"snomed_diagnosis_id\": \"397173003\",\n",
      "        \"icd9_diagnosis_id\": \"555.9\",\n",
      "        \"icd10_diagnosis_id\": \"K50\"\n",
      "      },\n",
      "      {\n",
      "        \"diagnosis_id\": \"2242\",\n",
      "        \"diagnosis_name\": \"Cat-Scratch Disease\",\n",
      "        \"knowledge_window_url\": \"https://scst.isabelhealthcare.com/search_knowledge_advanced/knowledge_window?category_id=2242&category_type=standalone&diagnoses_name=Cat-Scratch Disease&diagnoses_sub=2242&age_id=5&sex=female&pregnancy=seen&region=1&text=fever&specialty_id=28&sessionId=8473a76733d3f640117c9bf3e957a22c&userid=4239&emr=true\",\n",
      "        \"gender\": null,\n",
      "        \"specialty\": \"INFECTIOUS CONDITIONS\",\n",
      "        \"red_flag\": \"false\",\n",
      "        \"common_diagnosis\": \"false\",\n",
      "        \"snomed_diagnosis_id\": \"79974007\",\n",
      "        \"icd9_diagnosis_id\": \"078.3\",\n",
      "        \"icd10_diagnosis_id\": \"A28.1\"\n",
      "      },\n",
      "      {\n",
      "        \"diagnosis_id\": \"14532\",\n",
      "        \"diagnosis_name\": \"Intrauterine Infection\",\n",
      "        \"knowledge_window_url\": \"https://scst.isabelhealthcare.com/search_knowledge_advanced/knowledge_window?category_id=14532&category_type=standalone&diagnoses_name=Intrauterine Infection&diagnoses_sub=14532&age_id=5&sex=female&pregnancy=seen&region=1&text=fever&specialty_id=28&sessionId=8473a76733d3f640117c9bf3e957a22c&userid=4239&emr=true\",\n",
      "        \"gender\": null,\n",
      "        \"specialty\": \"PREGNANCY\",\n",
      "        \"red_flag\": \"true\",\n",
      "        \"common_diagnosis\": \"false\",\n",
      "        \"snomed_diagnosis_id\": \"11612004\",\n",
      "        \"icd9_diagnosis_id\": \"658.40\",\n",
      "        \"icd10_diagnosis_id\": \"O41.1210\"\n",
      "      },\n",
      "      {\n",
      "        \"diagnosis_id\": \"615\",\n",
      "        \"diagnosis_name\": \"Myocarditis\",\n",
      "        \"knowledge_window_url\": \"https://scst.isabelhealthcare.com/search_knowledge_advanced/knowledge_window?category_id=615&category_type=spc&diagnoses_name=Myocarditis&diagnoses_sub=615&age_id=5&sex=female&pregnancy=seen&region=1&text=fever&specialty_id=28&sessionId=8473a76733d3f640117c9bf3e957a22c&userid=4239&emr=true\",\n",
      "        \"gender\": null,\n",
      "        \"specialty\": \"HEART / BLOOD VESSEL CONDITIONS\",\n",
      "        \"red_flag\": \"false\",\n",
      "        \"common_diagnosis\": \"false\",\n",
      "        \"snomed_diagnosis_id\": \"50920009\",\n",
      "        \"icd9_diagnosis_id\": \"429.0\",\n",
      "        \"icd10_diagnosis_id\": \"I51.4\"\n",
      "      },\n",
      "      {\n",
      "        \"diagnosis_id\": \"2269\",\n",
      "        \"diagnosis_name\": \"Tuberculous Meningitis\",\n",
      "        \"knowledge_window_url\": \"https://scst.isabelhealthcare.com/search_knowledge_advanced/knowledge_window?category_id=2269&category_type=standalone&diagnoses_name=Tuberculous Meningitis&diagnoses_sub=2269&age_id=5&sex=female&pregnancy=seen&region=1&text=fever&specialty_id=28&sessionId=8473a76733d3f640117c9bf3e957a22c&userid=4239&emr=true\",\n",
      "        \"gender\": null,\n",
      "        \"specialty\": \"INFECTIOUS CONDITIONS\",\n",
      "        \"red_flag\": \"false\",\n",
      "        \"common_diagnosis\": \"false\",\n",
      "        \"snomed_diagnosis_id\": \"58437007\",\n",
      "        \"icd9_diagnosis_id\": \"013.00\",\n",
      "        \"icd10_diagnosis_id\": \"A17\"\n",
      "      },\n",
      "      {\n",
      "        \"diagnosis_id\": \"2721\",\n",
      "        \"diagnosis_name\": \"Necrotizing Fasciitis\",\n",
      "        \"knowledge_window_url\": \"https://scst.isabelhealthcare.com/search_knowledge_advanced/knowledge_window?category_id=2721&category_type=spc&diagnoses_name=Necrotizing Fasciitis&diagnoses_sub=2721&age_id=5&sex=female&pregnancy=seen&region=1&text=fever&specialty_id=28&sessionId=8473a76733d3f640117c9bf3e957a22c&userid=4239&emr=true\",\n",
      "        \"gender\": null,\n",
      "        \"specialty\": \"INFECTIOUS CONDITIONS\",\n",
      "        \"red_flag\": \"true\",\n",
      "        \"common_diagnosis\": \"false\",\n",
      "        \"snomed_diagnosis_id\": \"52486002\",\n",
      "        \"icd9_diagnosis_id\": \"728.86\",\n",
      "        \"icd10_diagnosis_id\": \"M72.6\"\n",
      "      },\n",
      "      {\n",
      "        \"diagnosis_id\": \"313\",\n",
      "        \"diagnosis_name\": \"Acute Appendicitis\",\n",
      "        \"knowledge_window_url\": \"https://scst.isabelhealthcare.com/search_knowledge_advanced/knowledge_window?category_id=313&category_type=spc&diagnoses_name=Acute Appendicitis&diagnoses_sub=313&age_id=5&sex=female&pregnancy=seen&region=1&text=fever&specialty_id=28&sessionId=8473a76733d3f640117c9bf3e957a22c&userid=4239&emr=true\",\n",
      "        \"gender\": null,\n",
      "        \"specialty\": \"GASTROINTESTINAL CONDITIONS\",\n",
      "        \"red_flag\": \"true\",\n",
      "        \"common_diagnosis\": \"true\",\n",
      "        \"snomed_diagnosis_id\": \"85189001\",\n",
      "        \"icd9_diagnosis_id\": \"540.9\",\n",
      "        \"icd10_diagnosis_id\": \"K35.80\"\n",
      "      },\n",
      "      {\n",
      "        \"diagnosis_id\": \"3641\",\n",
      "        \"diagnosis_name\": \"Atypical Pneumonia\",\n",
      "        \"knowledge_window_url\": \"https://scst.isabelhealthcare.com/search_knowledge_advanced/knowledge_window?category_id=3641&category_type=spc&diagnoses_name=Atypical Pneumonia&diagnoses_sub=3641&age_id=5&sex=female&pregnancy=seen&region=1&text=fever&specialty_id=28&sessionId=8473a76733d3f640117c9bf3e957a22c&userid=4239&emr=true\",\n",
      "        \"gender\": null,\n",
      "        \"specialty\": \"LUNG CONDITIONS\",\n",
      "        \"red_flag\": \"true\",\n",
      "        \"common_diagnosis\": \"false\",\n",
      "        \"snomed_diagnosis_id\": \"233606009\",\n",
      "        \"icd9_diagnosis_id\": \"486\",\n",
      "        \"icd10_diagnosis_id\": \"J18.9\"\n",
      "      },\n",
      "      {\n",
      "        \"diagnosis_id\": \"3256\",\n",
      "        \"diagnosis_name\": \"Pyelonephritis\",\n",
      "        \"knowledge_window_url\": \"https://scst.isabelhealthcare.com/search_knowledge_advanced/knowledge_window?category_id=3256&category_type=standalone&diagnoses_name=Pyelonephritis&diagnoses_sub=3256&age_id=5&sex=female&pregnancy=seen&region=1&text=fever&specialty_id=28&sessionId=8473a76733d3f640117c9bf3e957a22c&userid=4239&emr=true\",\n",
      "        \"gender\": null,\n",
      "        \"specialty\": \"KIDNEY CONDITIONS\",\n",
      "        \"red_flag\": \"true\",\n",
      "        \"common_diagnosis\": \"false\",\n",
      "        \"snomed_diagnosis_id\": \"45816000\",\n",
      "        \"icd9_diagnosis_id\": \"590.80\",\n",
      "        \"icd10_diagnosis_id\": \"N10\"\n",
      "      },\n",
      "      {\n",
      "        \"diagnosis_id\": \"2409\",\n",
      "        \"diagnosis_name\": \"Toxoplasmosis\",\n",
      "        \"knowledge_window_url\": \"https://scst.isabelhealthcare.com/search_knowledge_advanced/knowledge_window?category_id=2409&category_type=spc&diagnoses_name=Toxoplasmosis&diagnoses_sub=2409&age_id=5&sex=female&pregnancy=seen&region=1&text=fever&specialty_id=28&sessionId=8473a76733d3f640117c9bf3e957a22c&userid=4239&emr=true\",\n",
      "        \"gender\": null,\n",
      "        \"specialty\": \"INFECTIOUS CONDITIONS\",\n",
      "        \"red_flag\": \"false\",\n",
      "        \"common_diagnosis\": \"false\",\n",
      "        \"snomed_diagnosis_id\": \"187192000\",\n",
      "        \"icd9_diagnosis_id\": \"130.9\",\n",
      "        \"icd10_diagnosis_id\": \"B58.9\"\n",
      "      },\n",
      "      {\n",
      "        \"diagnosis_id\": \"2172\",\n",
      "        \"diagnosis_name\": \"Osteomyelitis and Septic Arthritis\",\n",
      "        \"knowledge_window_url\": \"https://scst.isabelhealthcare.com/search_knowledge_advanced/knowledge_window?category_id=2172&category_type=spc&diagnoses_name=Osteomyelitis and Septic Arthritis&diagnoses_sub=2172&age_id=5&sex=female&pregnancy=seen&region=1&text=fever&specialty_id=28&sessionId=8473a76733d3f640117c9bf3e957a22c&userid=4239&emr=true\",\n",
      "        \"gender\": null,\n",
      "        \"specialty\": \"INFECTIOUS CONDITIONS\",\n",
      "        \"red_flag\": \"true\",\n",
      "        \"common_diagnosis\": \"false\",\n",
      "        \"snomed_diagnosis_id\": \"60168000\",\n",
      "        \"icd9_diagnosis_id\": \"730.20\",\n",
      "        \"icd10_diagnosis_id\": \"M86.10\"\n",
      "      },\n",
      "      {\n",
      "        \"diagnosis_id\": \"2207\",\n",
      "        \"diagnosis_name\": \"Rheumatic Fever\",\n",
      "        \"knowledge_window_url\": \"https://scst.isabelhealthcare.com/search_knowledge_advanced/knowledge_window?category_id=2207&category_type=standalone&diagnoses_name=Rheumatic Fever&diagnoses_sub=2207&age_id=5&sex=female&pregnancy=seen&region=1&text=fever&specialty_id=28&sessionId=8473a76733d3f640117c9bf3e957a22c&userid=4239&emr=true\",\n",
      "        \"gender\": null,\n",
      "        \"specialty\": \"INFECTIOUS CONDITIONS\",\n",
      "        \"red_flag\": \"false\",\n",
      "        \"common_diagnosis\": \"false\",\n",
      "        \"snomed_diagnosis_id\": \"58718002\",\n",
      "        \"icd9_diagnosis_id\": \"390\",\n",
      "        \"icd10_diagnosis_id\": \"I00\"\n",
      "      },\n",
      "      {\n",
      "        \"diagnosis_id\": \"2322\",\n",
      "        \"diagnosis_name\": \"Aspergillosis\",\n",
      "        \"knowledge_window_url\": \"https://scst.isabelhealthcare.com/search_knowledge_advanced/knowledge_window?category_id=2322&category_type=spc&diagnoses_name=Aspergillosis&diagnoses_sub=2322&age_id=5&sex=female&pregnancy=seen&region=1&text=fever&specialty_id=28&sessionId=8473a76733d3f640117c9bf3e957a22c&userid=4239&emr=true\",\n",
      "        \"gender\": null,\n",
      "        \"specialty\": \"INFECTIOUS CONDITIONS\",\n",
      "        \"red_flag\": \"false\",\n",
      "        \"common_diagnosis\": \"false\",\n",
      "        \"snomed_diagnosis_id\": \"65553006\",\n",
      "        \"icd9_diagnosis_id\": \"117.3\",\n",
      "        \"icd10_diagnosis_id\": \"B44.9\"\n",
      "      },\n",
      "      {\n",
      "        \"diagnosis_id\": \"3693\",\n",
      "        \"diagnosis_name\": \"Bacterial Meningitis\",\n",
      "        \"knowledge_window_url\": \"https://scst.isabelhealthcare.com/search_knowledge_advanced/knowledge_window?category_id=3693&category_type=spc&diagnoses_name=Bacterial Meningitis&diagnoses_sub=3693&age_id=5&sex=female&pregnancy=seen&region=1&text=fever&specialty_id=28&sessionId=8473a76733d3f640117c9bf3e957a22c&userid=4239&emr=true\",\n",
      "        \"gender\": null,\n",
      "        \"specialty\": \"INFECTIOUS CONDITIONS\",\n",
      "        \"red_flag\": \"true\",\n",
      "        \"common_diagnosis\": \"false\",\n",
      "        \"snomed_diagnosis_id\": \"95883001\",\n",
      "        \"icd9_diagnosis_id\": \"320.9\",\n",
      "        \"icd10_diagnosis_id\": \"G00.9\"\n",
      "      },\n",
      "      {\n",
      "        \"diagnosis_id\": \"1996\",\n",
      "        \"diagnosis_name\": \"Brain Abscess\",\n",
      "        \"knowledge_window_url\": \"https://scst.isabelhealthcare.com/search_knowledge_advanced/knowledge_window?category_id=1996&category_type=spc&diagnoses_name=Brain Abscess&diagnoses_sub=1996&age_id=5&sex=female&pregnancy=seen&region=1&text=fever&specialty_id=28&sessionId=8473a76733d3f640117c9bf3e957a22c&userid=4239&emr=true\",\n",
      "        \"gender\": null,\n",
      "        \"specialty\": \"INFECTIOUS CONDITIONS\",\n",
      "        \"red_flag\": \"true\",\n",
      "        \"common_diagnosis\": \"false\",\n",
      "        \"snomed_diagnosis_id\": \"27614006\",\n",
      "        \"icd9_diagnosis_id\": \"324.0\",\n",
      "        \"icd10_diagnosis_id\": \"G06.0\"\n",
      "      },\n",
      "      {\n",
      "        \"diagnosis_id\": \"2347\",\n",
      "        \"diagnosis_name\": \"Infectious Mononucleosis\",\n",
      "        \"knowledge_window_url\": \"https://scst.isabelhealthcare.com/search_knowledge_advanced/knowledge_window?category_id=2347&category_type=spc&diagnoses_name=Infectious Mononucleosis&diagnoses_sub=2347&age_id=5&sex=female&pregnancy=seen&region=1&text=fever&specialty_id=28&sessionId=8473a76733d3f640117c9bf3e957a22c&userid=4239&emr=true\",\n",
      "        \"gender\": null,\n",
      "        \"specialty\": \"INFECTIOUS CONDITIONS\",\n",
      "        \"red_flag\": \"false\",\n",
      "        \"common_diagnosis\": \"true\",\n",
      "        \"snomed_diagnosis_id\": \"271558008\",\n",
      "        \"icd9_diagnosis_id\": \"075\",\n",
      "        \"icd10_diagnosis_id\": \"B27.0\"\n",
      "      },\n",
      "      {\n",
      "        \"diagnosis_id\": \"2293\",\n",
      "        \"diagnosis_name\": \"Lyme Disease\",\n",
      "        \"knowledge_window_url\": \"https://scst.isabelhealthcare.com/search_knowledge_advanced/knowledge_window?category_id=2293&category_type=standalone&diagnoses_name=Lyme Disease&diagnoses_sub=2293&age_id=5&sex=female&pregnancy=seen&region=1&text=fever&specialty_id=28&sessionId=8473a76733d3f640117c9bf3e957a22c&userid=4239&emr=true\",\n",
      "        \"gender\": null,\n",
      "        \"specialty\": \"INFECTIOUS CONDITIONS\",\n",
      "        \"red_flag\": \"false\",\n",
      "        \"common_diagnosis\": \"false\",\n",
      "        \"snomed_diagnosis_id\": \"23502006\",\n",
      "        \"icd9_diagnosis_id\": \"088.81\",\n",
      "        \"icd10_diagnosis_id\": \"A69.2\"\n",
      "      },\n",
      "      {\n",
      "        \"diagnosis_id\": \"712\",\n",
      "        \"diagnosis_name\": \"Thrombotic Thrombocytopenic Purpura\",\n",
      "        \"knowledge_window_url\": \"https://scst.isabelhealthcare.com/search_knowledge_advanced/knowledge_window?category_id=712&category_type=spc&diagnoses_name=Thrombotic Thrombocytopenic Purpura&diagnoses_sub=712&age_id=5&sex=female&pregnancy=seen&region=1&text=fever&specialty_id=28&sessionId=8473a76733d3f640117c9bf3e957a22c&userid=4239&emr=true\",\n",
      "        \"gender\": null,\n",
      "        \"specialty\": \"BLOOD CONDITIONS\",\n",
      "        \"red_flag\": \"false\",\n",
      "        \"common_diagnosis\": \"false\",\n",
      "        \"snomed_diagnosis_id\": \"78129009\",\n",
      "        \"icd9_diagnosis_id\": \"446.6\",\n",
      "        \"icd10_diagnosis_id\": \"D69.42\"\n",
      "      },\n",
      "      {\n",
      "        \"diagnosis_id\": \"4818\",\n",
      "        \"diagnosis_name\": \"Miscarriage\",\n",
      "        \"knowledge_window_url\": \"https://scst.isabelhealthcare.com/search_knowledge_advanced/knowledge_window?category_id=4818&category_type=spc&diagnoses_name=Miscarriage&diagnoses_sub=4818&age_id=5&sex=female&pregnancy=seen&region=1&text=fever&specialty_id=28&sessionId=8473a76733d3f640117c9bf3e957a22c&userid=4239&emr=true\",\n",
      "        \"gender\": \"female\",\n",
      "        \"specialty\": \"PREGNANCY\",\n",
      "        \"red_flag\": \"true\",\n",
      "        \"common_diagnosis\": \"true\",\n",
      "        \"snomed_diagnosis_id\": \"70317007\",\n",
      "        \"icd9_diagnosis_id\": \"634.90\",\n",
      "        \"icd10_diagnosis_id\": \"O03.9\"\n",
      "      },\n",
      "      {\n",
      "        \"diagnosis_id\": \"5509\",\n",
      "        \"diagnosis_name\": \"Malignant Bone Tumors\",\n",
      "        \"knowledge_window_url\": \"https://scst.isabelhealthcare.com/search_knowledge_advanced/knowledge_window?category_id=5509&category_type=spc&diagnoses_name=Malignant Bone Tumors&diagnoses_sub=5509&age_id=5&sex=female&pregnancy=seen&region=1&text=fever&specialty_id=28&sessionId=8473a76733d3f640117c9bf3e957a22c&userid=4239&emr=true\",\n",
      "        \"gender\": null,\n",
      "        \"specialty\": \"CANCER CONDITIONS\",\n",
      "        \"red_flag\": \"false\",\n",
      "        \"common_diagnosis\": \"false\",\n",
      "        \"snomed_diagnosis_id\": \"126537000\",\n",
      "        \"icd9_diagnosis_id\": \"170.9\",\n",
      "        \"icd10_diagnosis_id\": \"C40\"\n",
      "      },\n",
      "      {\n",
      "        \"diagnosis_id\": \"4058\",\n",
      "        \"diagnosis_name\": \"Arenaviral Infections\",\n",
      "        \"knowledge_window_url\": \"https://scst.isabelhealthcare.com/search_knowledge_advanced/knowledge_window?category_id=4058&category_type=spc&diagnoses_name=Arenaviral Infections&diagnoses_sub=4058&age_id=5&sex=female&pregnancy=seen&region=1&text=fever&specialty_id=28&sessionId=8473a76733d3f640117c9bf3e957a22c&userid=4239&emr=true\",\n",
      "        \"gender\": null,\n",
      "        \"specialty\": \"INFECTIOUS CONDITIONS\",\n",
      "        \"red_flag\": \"false\",\n",
      "        \"common_diagnosis\": \"false\",\n",
      "        \"snomed_diagnosis_id\": \"3303004\",\n",
      "        \"icd9_diagnosis_id\": \"078.89\",\n",
      "        \"icd10_diagnosis_id\": \"A96.9\"\n",
      "      },\n",
      "      {\n",
      "        \"diagnosis_id\": \"3700\",\n",
      "        \"diagnosis_name\": \"MRSA\",\n",
      "        \"knowledge_window_url\": \"https://scst.isabelhealthcare.com/search_knowledge_advanced/knowledge_window?category_id=3700&category_type=standalone&diagnoses_name=MRSA&diagnoses_sub=3700&age_id=5&sex=female&pregnancy=seen&region=1&text=fever&specialty_id=28&sessionId=8473a76733d3f640117c9bf3e957a22c&userid=4239&emr=true\",\n",
      "        \"gender\": null,\n",
      "        \"specialty\": \"INFECTIOUS CONDITIONS\",\n",
      "        \"red_flag\": \"false\",\n",
      "        \"common_diagnosis\": \"false\",\n",
      "        \"snomed_diagnosis_id\": \"282028001\",\n",
      "        \"icd9_diagnosis_id\": \"041.12\",\n",
      "        \"icd10_diagnosis_id\": \"A49.02\"\n",
      "      },\n",
      "      {\n",
      "        \"diagnosis_id\": \"4138\",\n",
      "        \"diagnosis_name\": \"Poststreptococcal Reactive Arthritis\",\n",
      "        \"knowledge_window_url\": \"https://scst.isabelhealthcare.com/search_knowledge_advanced/knowledge_window?category_id=4138&category_type=standalone&diagnoses_name=Poststreptococcal Reactive Arthritis&diagnoses_sub=4138&age_id=5&sex=female&pregnancy=seen&region=1&text=fever&specialty_id=28&sessionId=8473a76733d3f640117c9bf3e957a22c&userid=4239&emr=true\",\n",
      "        \"gender\": null,\n",
      "        \"specialty\": \"RHEUMATIC CONDITIONS\",\n",
      "        \"red_flag\": \"false\",\n",
      "        \"common_diagnosis\": \"true\",\n",
      "        \"snomed_diagnosis_id\": \"123949001\",\n",
      "        \"icd9_diagnosis_id\": \"139.8\",\n",
      "        \"icd10_diagnosis_id\": \"M02.9\"\n",
      "      },\n",
      "      {\n",
      "        \"diagnosis_id\": \"3253\",\n",
      "        \"diagnosis_name\": \"Viral Meningoencephalitis\",\n",
      "        \"knowledge_window_url\": \"https://scst.isabelhealthcare.com/search_knowledge_advanced/knowledge_window?category_id=3253&category_type=spc&diagnoses_name=Viral Meningoencephalitis&diagnoses_sub=3253&age_id=5&sex=female&pregnancy=seen&region=1&text=fever&specialty_id=28&sessionId=8473a76733d3f640117c9bf3e957a22c&userid=4239&emr=true\",\n",
      "        \"gender\": null,\n",
      "        \"specialty\": \"INFECTIOUS CONDITIONS\",\n",
      "        \"red_flag\": \"true\",\n",
      "        \"common_diagnosis\": \"false\",\n",
      "        \"snomed_diagnosis_id\": \"34476008\",\n",
      "        \"icd9_diagnosis_id\": \"049.9\",\n",
      "        \"icd10_diagnosis_id\": \"A86\"\n",
      "      },\n",
      "      {\n",
      "        \"diagnosis_id\": \"3356\",\n",
      "        \"diagnosis_name\": \"Acute Disseminated Encephalomyelitis\",\n",
      "        \"knowledge_window_url\": \"https://scst.isabelhealthcare.com/search_knowledge_advanced/knowledge_window?category_id=3356&category_type=standalone&diagnoses_name=Acute Disseminated Encephalomyelitis&diagnoses_sub=3356&age_id=5&sex=female&pregnancy=seen&region=1&text=fever&specialty_id=28&sessionId=8473a76733d3f640117c9bf3e957a22c&userid=4239&emr=true\",\n",
      "        \"gender\": null,\n",
      "        \"specialty\": \"INFECTIOUS CONDITIONS\",\n",
      "        \"red_flag\": \"true\",\n",
      "        \"common_diagnosis\": \"false\",\n",
      "        \"snomed_diagnosis_id\": \"83942000\",\n",
      "        \"icd9_diagnosis_id\": \"136.9\",\n",
      "        \"icd10_diagnosis_id\": \"G04.00\"\n",
      "      },\n",
      "      {\n",
      "        \"diagnosis_id\": \"2145\",\n",
      "        \"diagnosis_name\": \"Meningococcal Meningitis\",\n",
      "        \"knowledge_window_url\": \"https://scst.isabelhealthcare.com/search_knowledge_advanced/knowledge_window?category_id=2145&category_type=standalone&diagnoses_name=Meningococcal Meningitis&diagnoses_sub=2145&age_id=5&sex=female&pregnancy=seen&region=1&text=fever&specialty_id=28&sessionId=8473a76733d3f640117c9bf3e957a22c&userid=4239&emr=true\",\n",
      "        \"gender\": null,\n",
      "        \"specialty\": \"INFECTIOUS CONDITIONS\",\n",
      "        \"red_flag\": \"true\",\n",
      "        \"common_diagnosis\": \"false\",\n",
      "        \"snomed_diagnosis_id\": \"23511006\",\n",
      "        \"icd9_diagnosis_id\": \"036.9\",\n",
      "        \"icd10_diagnosis_id\": \"A39.9\"\n",
      "      },\n",
      "      {\n",
      "        \"diagnosis_id\": \"2554\",\n",
      "        \"diagnosis_name\": \"Steven-Johnson Syndrome\",\n",
      "        \"knowledge_window_url\": \"https://scst.isabelhealthcare.com/search_knowledge_advanced/knowledge_window?category_id=2554&category_type=standalone&diagnoses_name=Steven-Johnson Syndrome&diagnoses_sub=2554&age_id=5&sex=female&pregnancy=seen&region=1&text=fever&specialty_id=28&sessionId=8473a76733d3f640117c9bf3e957a22c&userid=4239&emr=true\",\n",
      "        \"gender\": null,\n",
      "        \"specialty\": \"SKIN CONDITIONS\",\n",
      "        \"red_flag\": \"true\",\n",
      "        \"common_diagnosis\": \"false\",\n",
      "        \"snomed_diagnosis_id\": \"73442001\",\n",
      "        \"icd9_diagnosis_id\": \"695.13\",\n",
      "        \"icd10_diagnosis_id\": \"L51.1\"\n",
      "      },\n",
      "      {\n",
      "        \"diagnosis_id\": \"4056\",\n",
      "        \"diagnosis_name\": \"West Nile Encephalitis\",\n",
      "        \"knowledge_window_url\": \"https://scst.isabelhealthcare.com/search_knowledge_advanced/knowledge_window?category_id=4056&category_type=standalone&diagnoses_name=West Nile Encephalitis&diagnoses_sub=4056&age_id=5&sex=female&pregnancy=seen&region=1&text=fever&specialty_id=28&sessionId=8473a76733d3f640117c9bf3e957a22c&userid=4239&emr=true\",\n",
      "        \"gender\": null,\n",
      "        \"specialty\": \"INFECTIOUS CONDITIONS\",\n",
      "        \"red_flag\": \"true\",\n",
      "        \"common_diagnosis\": \"false\",\n",
      "        \"snomed_diagnosis_id\": \"392662004\",\n",
      "        \"icd9_diagnosis_id\": \"066.41\",\n",
      "        \"icd10_diagnosis_id\": \"A92.31\"\n",
      "      },\n",
      "      {\n",
      "        \"diagnosis_id\": \"169\",\n",
      "        \"diagnosis_name\": \"Familial Mediterranean Fever\",\n",
      "        \"knowledge_window_url\": \"https://scst.isabelhealthcare.com/search_knowledge_advanced/knowledge_window?category_id=169&category_type=standalone&diagnoses_name=Familial Mediterranean Fever&diagnoses_sub=169&age_id=5&sex=female&pregnancy=seen&region=1&text=fever&specialty_id=28&sessionId=8473a76733d3f640117c9bf3e957a22c&userid=4239&emr=true\",\n",
      "        \"gender\": null,\n",
      "        \"specialty\": \"RHEUMATIC CONDITIONS\",\n",
      "        \"red_flag\": \"false\",\n",
      "        \"common_diagnosis\": \"false\",\n",
      "        \"snomed_diagnosis_id\": \"12579009\",\n",
      "        \"icd9_diagnosis_id\": \"277.31\",\n",
      "        \"icd10_diagnosis_id\": \"E85.0\"\n",
      "      },\n",
      "      {\n",
      "        \"diagnosis_id\": \"2315\",\n",
      "        \"diagnosis_name\": \"Human Granulocytic Anaplasmosis\",\n",
      "        \"knowledge_window_url\": \"https://scst.isabelhealthcare.com/search_knowledge_advanced/knowledge_window?category_id=2315&category_type=standalone&diagnoses_name=Human Granulocytic Anaplasmosis&diagnoses_sub=2315&age_id=5&sex=female&pregnancy=seen&region=1&text=fever&specialty_id=28&sessionId=8473a76733d3f640117c9bf3e957a22c&userid=4239&emr=true\",\n",
      "        \"gender\": null,\n",
      "        \"specialty\": \"INFECTIOUS CONDITIONS\",\n",
      "        \"red_flag\": \"false\",\n",
      "        \"common_diagnosis\": \"false\",\n",
      "        \"snomed_diagnosis_id\": \"77361002\",\n",
      "        \"icd9_diagnosis_id\": \"082.49\",\n",
      "        \"icd10_diagnosis_id\": \"A77.49\"\n",
      "      },\n",
      "      {\n",
      "        \"diagnosis_id\": \"2218\",\n",
      "        \"diagnosis_name\": \"Salmonella Infections\",\n",
      "        \"knowledge_window_url\": \"https://scst.isabelhealthcare.com/search_knowledge_advanced/knowledge_window?category_id=2218&category_type=spc&diagnoses_name=Salmonella Infections&diagnoses_sub=2218&age_id=5&sex=female&pregnancy=seen&region=1&text=fever&specialty_id=28&sessionId=8473a76733d3f640117c9bf3e957a22c&userid=4239&emr=true\",\n",
      "        \"gender\": null,\n",
      "        \"specialty\": \"INFECTIOUS CONDITIONS\",\n",
      "        \"red_flag\": \"false\",\n",
      "        \"common_diagnosis\": \"false\",\n",
      "        \"snomed_diagnosis_id\": \"302231008\",\n",
      "        \"icd9_diagnosis_id\": \"003.9\",\n",
      "        \"icd10_diagnosis_id\": \"A02.9\"\n",
      "      },\n",
      "      {\n",
      "        \"diagnosis_id\": \"2348\",\n",
      "        \"diagnosis_name\": \"Cytomegalovirus\",\n",
      "        \"knowledge_window_url\": \"https://scst.isabelhealthcare.com/search_knowledge_advanced/knowledge_window?category_id=2348&category_type=spc&diagnoses_name=Cytomegalovirus&diagnoses_sub=2348&age_id=5&sex=female&pregnancy=seen&region=1&text=fever&specialty_id=28&sessionId=8473a76733d3f640117c9bf3e957a22c&userid=4239&emr=true\",\n",
      "        \"gender\": null,\n",
      "        \"specialty\": \"INFECTIOUS CONDITIONS\",\n",
      "        \"red_flag\": \"false\",\n",
      "        \"common_diagnosis\": \"false\",\n",
      "        \"snomed_diagnosis_id\": \"28944009\",\n",
      "        \"icd9_diagnosis_id\": \"078.5\",\n",
      "        \"icd10_diagnosis_id\": \"B25.9\"\n",
      "      }\n",
      "    ]\n",
      "  }\n",
      "}\n"
     ]
    }
   ],
   "source": [
    "print(api_resp)"
   ]
  },
  {
   "cell_type": "markdown",
   "id": "3dd0bc1a-2200-49f5-b3d1-af2bb341ae6e",
   "metadata": {
    "heading_collapsed": "true",
    "tags": [],
    "toc-hr-collapsed": true
   },
   "source": [
    "#### Printing API output into file"
   ]
  },
  {
   "cell_type": "code",
   "execution_count": null,
   "id": "f9ee71c0-c26f-46f1-9d3b-9dba54778d2f",
   "metadata": {},
   "outputs": [],
   "source": [
    "path = out_loc + inout_files[method][\"output\"]\n",
    "path"
   ]
  },
  {
   "cell_type": "code",
   "execution_count": null,
   "id": "1cc6779b-75ec-4332-98ef-7149b6cf35a5",
   "metadata": {},
   "outputs": [],
   "source": [
    "write_json(path, req.text)"
   ]
  },
  {
   "cell_type": "markdown",
   "id": "0ecca7b8-cac2-4598-9f22-8162a2695a41",
   "metadata": {
    "tags": [],
    "toc-hr-collapsed": true
   },
   "source": [
    "### Triage score"
   ]
  },
  {
   "cell_type": "markdown",
   "id": "28985321-b147-452f-8748-ba4c5c2da3a2",
   "metadata": {
    "heading_collapsed": "true",
    "tags": []
   },
   "source": [
    "#### Building API request"
   ]
  },
  {
   "cell_type": "code",
   "execution_count": null,
   "id": "b44776e5-2066-4637-a1ce-3c559660cd7d",
   "metadata": {},
   "outputs": [],
   "source": [
    "method = \"triage_score\""
   ]
  },
  {
   "cell_type": "code",
   "execution_count": null,
   "id": "219faeb6-2e74-4ce8-b7e6-8ee53003a7d5",
   "metadata": {},
   "outputs": [],
   "source": [
    "api_call_url = url_api_request(method)"
   ]
  },
  {
   "cell_type": "code",
   "execution_count": null,
   "id": "06c531f5-120c-45aa-b2e9-fd7964a3bcff",
   "metadata": {},
   "outputs": [],
   "source": [
    "api_call_url"
   ]
  },
  {
   "cell_type": "markdown",
   "id": "012f67a8-da02-472d-8cbe-80d291901f50",
   "metadata": {
    "heading_collapsed": "true",
    "tags": []
   },
   "source": [
    "#### Getting API request"
   ]
  },
  {
   "cell_type": "code",
   "execution_count": null,
   "id": "a52e8102-9418-4018-b205-7244aaa9d176",
   "metadata": {},
   "outputs": [],
   "source": [
    "req = requests.get(api_call_url)\n",
    "req"
   ]
  },
  {
   "cell_type": "code",
   "execution_count": null,
   "id": "f38e5a5f-e879-4c7d-9770-c407e21a8c55",
   "metadata": {},
   "outputs": [],
   "source": [
    "req.text"
   ]
  },
  {
   "cell_type": "code",
   "execution_count": null,
   "id": "f9ec12f6-5eb5-4f1d-b388-f8bee12518a5",
   "metadata": {},
   "outputs": [],
   "source": [
    "x1 = clean_api_request(req.text)\n",
    "x1"
   ]
  },
  {
   "cell_type": "code",
   "execution_count": null,
   "id": "13431ed9-55ed-46c3-97ed-d5c4433ff6f4",
   "metadata": {},
   "outputs": [],
   "source": [
    "x2 = json.loads(x1)\n",
    "x2"
   ]
  },
  {
   "cell_type": "code",
   "execution_count": null,
   "id": "a3c07ece-80de-4adf-8e8c-5255086d69c2",
   "metadata": {},
   "outputs": [],
   "source": [
    "x2[\"where_to_now\"]"
   ]
  },
  {
   "cell_type": "code",
   "execution_count": null,
   "id": "049f10b7-be3c-4a73-b2df-c745389f59e4",
   "metadata": {},
   "outputs": [],
   "source": [
    "x2[\"salchica\"] = True"
   ]
  },
  {
   "cell_type": "code",
   "execution_count": null,
   "id": "7ca04e4a-fc1c-4895-a295-2a8f1fbf4998",
   "metadata": {},
   "outputs": [],
   "source": [
    "x2"
   ]
  },
  {
   "cell_type": "code",
   "execution_count": null,
   "id": "3eae5d3b-c616-4ee1-8dfe-8c394c1bd442",
   "metadata": {},
   "outputs": [],
   "source": []
  },
  {
   "cell_type": "code",
   "execution_count": null,
   "id": "d6deea7d-2144-484a-bc14-68ac4bd37511",
   "metadata": {
    "scrolled": true,
    "tags": []
   },
   "outputs": [],
   "source": [
    "api_resp = api_clean_response(req.text)"
   ]
  },
  {
   "cell_type": "code",
   "execution_count": null,
   "id": "54f3398f-03aa-4a74-8d8d-68f850b08fb0",
   "metadata": {
    "scrolled": true,
    "tags": []
   },
   "outputs": [],
   "source": [
    "print(api_resp)"
   ]
  },
  {
   "cell_type": "code",
   "execution_count": null,
   "id": "b5062235-0f27-4488-afcd-87f78617aa68",
   "metadata": {},
   "outputs": [],
   "source": [
    "api_resp"
   ]
  },
  {
   "cell_type": "markdown",
   "id": "6f593596-345b-4ca2-806f-6076540d65a9",
   "metadata": {
    "heading_collapsed": "true",
    "tags": []
   },
   "source": [
    "#### Printing API output into file"
   ]
  },
  {
   "cell_type": "code",
   "execution_count": null,
   "id": "328af57a-185b-4bb5-9470-9a40a5a765cf",
   "metadata": {},
   "outputs": [],
   "source": [
    "path = out_loc + inout_files[method][\"output\"]\n",
    "path"
   ]
  },
  {
   "cell_type": "code",
   "execution_count": null,
   "id": "854004fc-6bdd-4764-8c4e-88b88e5866f3",
   "metadata": {},
   "outputs": [],
   "source": [
    "write_json(path, req.text)"
   ]
  },
  {
   "cell_type": "markdown",
   "id": "4b8c7857-fc66-44f5-afd9-bfbb367d088f",
   "metadata": {},
   "source": [
    "---"
   ]
  },
  {
   "cell_type": "markdown",
   "id": "924a3d09-25df-4bfe-b3dc-fbdd1b24c731",
   "metadata": {
    "tags": []
   },
   "source": [
    "## *Notes*"
   ]
  },
  {
   "cell_type": "markdown",
   "id": "93907d09-f8fe-4b18-bbf6-e766f4182051",
   "metadata": {
    "tags": [],
    "toc-hr-collapsed": true
   },
   "source": [
    "### API Examples "
   ]
  },
  {
   "cell_type": "markdown",
   "id": "e73a76ad-81e6-44cb-83dc-870a911b0ea8",
   "metadata": {
    "tags": []
   },
   "source": [
    "#### Chicago data"
   ]
  },
  {
   "cell_type": "code",
   "execution_count": null,
   "id": "0037cb58-4fb0-4448-8962-5914399ecaf7",
   "metadata": {},
   "outputs": [],
   "source": [
    "ex_url = \"https://data.cityofchicago.org/resource/f7f2-ggz5.json\""
   ]
  },
  {
   "cell_type": "code",
   "execution_count": null,
   "id": "3fb6a69d-9352-465f-b988-50bdc61a6be3",
   "metadata": {},
   "outputs": [],
   "source": [
    "client = Socrata(ex_url)"
   ]
  },
  {
   "cell_type": "markdown",
   "id": "165988a0-fa87-42b9-99db-41930f98743d",
   "metadata": {
    "tags": []
   },
   "source": [
    "#### Open Notify"
   ]
  },
  {
   "cell_type": "code",
   "execution_count": null,
   "id": "cc97c18d-6677-4e7e-9bfb-48a9cf93f3b1",
   "metadata": {
    "scrolled": true,
    "tags": []
   },
   "outputs": [],
   "source": [
    "req = requests.get('http://api.open-notify.org')\n",
    "print(request.text)"
   ]
  },
  {
   "cell_type": "markdown",
   "id": "96e6c798-18e3-4680-9991-7b91961147cb",
   "metadata": {
    "tags": [],
    "toc-hr-collapsed": true
   },
   "source": [
    "### Pasting Keys to URL"
   ]
  },
  {
   "cell_type": "code",
   "execution_count": null,
   "id": "779a3e1e-bb9b-43a5-ba57-50489eae28ec",
   "metadata": {},
   "outputs": [],
   "source": [
    "ag_url_auth = \"https://apiscsandbox.isabelhealthcare.com/v2/age_groups?callback=age_groups&authorization=QDDb180BilBk7209QqFikW1iqjOx2yjt&language=english&web_service=json\"\n",
    "ag_url_auth"
   ]
  },
  {
   "cell_type": "code",
   "execution_count": null,
   "id": "8d42da33-cb3e-41a9-8f17-80ea1ccecb79",
   "metadata": {},
   "outputs": [],
   "source": [
    "mthd = \"age_groups\""
   ]
  },
  {
   "cell_type": "code",
   "execution_count": null,
   "id": "90a7c0cf-aee2-4a97-842f-74edd1ca33d1",
   "metadata": {},
   "outputs": [],
   "source": [
    "x = url_api_request(mthd)\n",
    "x"
   ]
  },
  {
   "cell_type": "markdown",
   "id": "11c81f48-16b1-4c4e-addb-1990fd299cb0",
   "metadata": {
    "tags": [],
    "toc-hr-collapsed": true
   },
   "source": [
    "### Reading a JSON file"
   ]
  },
  {
   "cell_type": "code",
   "execution_count": null,
   "id": "4f9a6462-3629-4d61-94af-c589ebcfc131",
   "metadata": {},
   "outputs": [],
   "source": [
    "pth = \"../feed/\""
   ]
  },
  {
   "cell_type": "code",
   "execution_count": null,
   "id": "a8677100-9ab9-423f-9261-af365010c9cb",
   "metadata": {},
   "outputs": [],
   "source": [
    "feed_name = \"age_request.json\""
   ]
  },
  {
   "cell_type": "code",
   "execution_count": null,
   "id": "30e6747b-c088-4268-b4ee-1b310c002f4f",
   "metadata": {},
   "outputs": [],
   "source": [
    "pth + feed_name"
   ]
  },
  {
   "cell_type": "code",
   "execution_count": null,
   "id": "4e949370-d0ef-44c5-97b1-312c884014da",
   "metadata": {},
   "outputs": [],
   "source": [
    "f = open(pth + feed_name, )"
   ]
  },
  {
   "cell_type": "code",
   "execution_count": null,
   "id": "8721ade2-f7e4-4933-9a62-952e32f614a2",
   "metadata": {},
   "outputs": [],
   "source": [
    "f2 = json.load(f)"
   ]
  },
  {
   "cell_type": "code",
   "execution_count": null,
   "id": "da19691c-de4a-4e90-8c3d-de6907fd7fa5",
   "metadata": {},
   "outputs": [],
   "source": [
    "f2"
   ]
  },
  {
   "cell_type": "code",
   "execution_count": null,
   "id": "3e347016-ea02-4bbf-8b1f-f12bb6be6ce8",
   "metadata": {},
   "outputs": [],
   "source": [
    "type(f2)"
   ]
  },
  {
   "cell_type": "code",
   "execution_count": null,
   "id": "b3c2de33-55e5-420e-ba13-65af806e8b8f",
   "metadata": {},
   "outputs": [],
   "source": [
    "f2[\"language\"]"
   ]
  },
  {
   "cell_type": "markdown",
   "id": "84dee052-2b7a-4b96-a9e3-dc862796756e",
   "metadata": {
    "tags": [],
    "toc-hr-collapsed": true
   },
   "source": [
    "### Writing a JSON file"
   ]
  },
  {
   "cell_type": "code",
   "execution_count": null,
   "id": "b754bdb2-0016-4d6b-84e0-53dfa12c55f1",
   "metadata": {},
   "outputs": [],
   "source": [
    "pth = \"../output/\""
   ]
  },
  {
   "cell_type": "code",
   "execution_count": null,
   "id": "1963d018-a25c-4543-b679-8d29d8fafcd6",
   "metadata": {},
   "outputs": [],
   "source": [
    "out_file = \"output_test.json\""
   ]
  },
  {
   "cell_type": "code",
   "execution_count": null,
   "id": "1b4c6e01-ad17-4c49-832e-14eb2009621c",
   "metadata": {
    "scrolled": true,
    "tags": []
   },
   "outputs": [],
   "source": [
    "req.text"
   ]
  },
  {
   "cell_type": "code",
   "execution_count": null,
   "id": "0d39e1b0-f202-4ee8-9da3-52a757c7f135",
   "metadata": {},
   "outputs": [],
   "source": [
    "jsonFile = open(pth + out_file, \"w\")"
   ]
  },
  {
   "cell_type": "code",
   "execution_count": null,
   "id": "c9eedb32-2713-4f15-bda9-0bba0403156a",
   "metadata": {},
   "outputs": [],
   "source": [
    "jsonFile.write(api_clean_response(req.text))\n",
    "\n",
    "jsonFile.close()"
   ]
  },
  {
   "cell_type": "markdown",
   "id": "9900eda3-6938-4d57-9fb8-b7a1739263fc",
   "metadata": {},
   "source": [
    "---\n",
    "---"
   ]
  }
 ],
 "metadata": {
  "kernelspec": {
   "display_name": "Python 3 (ipykernel)",
   "language": "python",
   "name": "python3"
  },
  "language_info": {
   "codemirror_mode": {
    "name": "ipython",
    "version": 3
   },
   "file_extension": ".py",
   "mimetype": "text/x-python",
   "name": "python",
   "nbconvert_exporter": "python",
   "pygments_lexer": "ipython3",
   "version": "3.9.1"
  },
  "toc-autonumbering": false,
  "toc-showcode": false,
  "toc-showmarkdowntxt": false
 },
 "nbformat": 4,
 "nbformat_minor": 5
}
