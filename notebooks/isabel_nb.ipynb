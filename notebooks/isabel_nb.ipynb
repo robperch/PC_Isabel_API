{
 "cells": [
  {
   "cell_type": "markdown",
   "id": "85f318e3-3dd3-491e-9ebb-2bd116caf0cc",
   "metadata": {},
   "source": [
    "# Isabel API Usage"
   ]
  },
  {
   "cell_type": "markdown",
   "id": "155324fb-5111-4e6a-a50e-743b5c7e888f",
   "metadata": {},
   "source": [
    "## Imports"
   ]
  },
  {
   "cell_type": "markdown",
   "id": "338858db-16c6-47ae-806f-663b1e37ec29",
   "metadata": {},
   "source": [
    "#### Standard library imports"
   ]
  },
  {
   "cell_type": "code",
   "execution_count": 1,
   "id": "37f88368-3a2b-4b3e-9798-fe6ae223ff85",
   "metadata": {
    "tags": []
   },
   "outputs": [],
   "source": [
    "import sys\n",
    "\n",
    "import requests\n",
    "\n",
    "import json\n",
    "\n",
    "import re"
   ]
  },
  {
   "cell_type": "markdown",
   "id": "08c5071d-7f97-4446-89de-80edb8f3d75d",
   "metadata": {
    "tags": []
   },
   "source": [
    "#### Third party imports"
   ]
  },
  {
   "cell_type": "raw",
   "id": "841c4d7e-b71f-4bcd-9d8a-209d7b05c9b9",
   "metadata": {},
   "source": []
  },
  {
   "cell_type": "markdown",
   "id": "9c5b6538-e89e-435c-90b6-d3978dd1dc1d",
   "metadata": {
    "heading_collapsed": "true",
    "tags": []
   },
   "source": [
    "#### Local application imports"
   ]
  },
  {
   "cell_type": "code",
   "execution_count": 2,
   "id": "a91e20db-e19a-4e2f-a87b-2fe7d1f0469e",
   "metadata": {},
   "outputs": [],
   "source": [
    "sys.path.append(\"../\")"
   ]
  },
  {
   "cell_type": "code",
   "execution_count": 58,
   "id": "725bc80a-3771-436f-86eb-f231c118115a",
   "metadata": {},
   "outputs": [
    {
     "name": "stdout",
     "output_type": "stream",
     "text": [
      "The autoreload extension is already loaded. To reload it, use:\n",
      "  %reload_ext autoreload\n"
     ]
    }
   ],
   "source": [
    "%load_ext autoreload\n",
    "%autoreload 2\n",
    "\n",
    "from src.utils.isabel_funcs import *\n",
    "\n",
    "from src.utils.isabel_params import *"
   ]
  },
  {
   "cell_type": "markdown",
   "id": "324f4533-cf3d-40ac-8d3f-7183ca4a7ef9",
   "metadata": {},
   "source": [
    "---"
   ]
  },
  {
   "cell_type": "markdown",
   "id": "f0632e6f-fd34-477f-83ad-1fc20a3c5678",
   "metadata": {
    "tags": []
   },
   "source": [
    "## Isabel API tests"
   ]
  },
  {
   "cell_type": "markdown",
   "id": "1395d3e9-f724-4ae6-b198-3b2e0020896f",
   "metadata": {
    "tags": [],
    "toc-hr-collapsed": true
   },
   "source": [
    "### Age request test"
   ]
  },
  {
   "cell_type": "markdown",
   "id": "7b5a83b2-0fa5-4f72-971a-3d3050e1653f",
   "metadata": {
    "heading_collapsed": "true",
    "tags": []
   },
   "source": [
    "#### Building API request"
   ]
  },
  {
   "cell_type": "code",
   "execution_count": 4,
   "id": "d248843c-c84f-4f96-aa4f-8147794f7ab5",
   "metadata": {},
   "outputs": [],
   "source": [
    "method = \"age_groups\""
   ]
  },
  {
   "cell_type": "code",
   "execution_count": 5,
   "id": "1ef0c424-7062-40c5-a17a-6ce9eed8b05f",
   "metadata": {},
   "outputs": [],
   "source": [
    "api_call_url = url_api_request(\"age_groups\")"
   ]
  },
  {
   "cell_type": "code",
   "execution_count": 6,
   "id": "c0a4edbb-737a-4224-a21c-110202fb1c59",
   "metadata": {},
   "outputs": [
    {
     "data": {
      "text/plain": [
       "'https://esscstsandbox.isabelhealthcare.com/v2/age_groups?callback=age_groups&authorization=QDDb180BilBk7209QqFikW1iqjOx2yjt&language=english&web_service=json'"
      ]
     },
     "execution_count": 6,
     "metadata": {},
     "output_type": "execute_result"
    }
   ],
   "source": [
    "api_call_url"
   ]
  },
  {
   "cell_type": "markdown",
   "id": "ba32b096-af59-4b06-8436-9a6399816af5",
   "metadata": {
    "heading_collapsed": "true",
    "tags": []
   },
   "source": [
    "#### Getting API request"
   ]
  },
  {
   "cell_type": "code",
   "execution_count": 7,
   "id": "0e163634-8d39-4da1-9328-578d3364c3f7",
   "metadata": {},
   "outputs": [
    {
     "data": {
      "text/plain": [
       "<Response [200]>"
      ]
     },
     "execution_count": 7,
     "metadata": {},
     "output_type": "execute_result"
    }
   ],
   "source": [
    "req = requests.get(api_call_url)\n",
    "req"
   ]
  },
  {
   "cell_type": "code",
   "execution_count": 9,
   "id": "785aad9d-4cdd-446d-a64e-202cfb924d18",
   "metadata": {
    "scrolled": true,
    "tags": []
   },
   "outputs": [],
   "source": [
    "api_resp = enhance_api_response(req.text)"
   ]
  },
  {
   "cell_type": "code",
   "execution_count": 10,
   "id": "607c9d7c-f2e9-4bb5-b2c4-ef96f7b4bb88",
   "metadata": {
    "scrolled": true,
    "tags": []
   },
   "outputs": [
    {
     "name": "stdout",
     "output_type": "stream",
     "text": [
      "{\n",
      "  \"age_groups\": {\n",
      "    \"age_group\": [\n",
      "      {\n",
      "        \"agegroup_id\": \"1\",\n",
      "        \"ordinal\": \"0\",\n",
      "        \"name\": \"neonato\",\n",
      "        \"yr_from\": \"0\",\n",
      "        \"yr_to\": \"28d\",\n",
      "        \"branch\": \"paediatric\",\n",
      "        \"can_conceive\": \"false\"\n",
      "      },\n",
      "      {\n",
      "        \"agegroup_id\": \"2\",\n",
      "        \"ordinal\": \"2\",\n",
      "        \"name\": \"infantil\",\n",
      "        \"yr_from\": \"29d\",\n",
      "        \"yr_to\": \"1 a\\u00f1o\",\n",
      "        \"branch\": \"paediatric\",\n",
      "        \"can_conceive\": \"false\"\n",
      "      },\n",
      "      {\n",
      "        \"agegroup_id\": \"3\",\n",
      "        \"ordinal\": \"4\",\n",
      "        \"name\": \"ni\\u00f1o peque\\u00f1o\",\n",
      "        \"yr_from\": \"1\",\n",
      "        \"yr_to\": \"5 a\\u00f1os\",\n",
      "        \"branch\": \"paediatric\",\n",
      "        \"can_conceive\": \"false\"\n",
      "      },\n",
      "      {\n",
      "        \"agegroup_id\": \"10\",\n",
      "        \"ordinal\": \"5\",\n",
      "        \"name\": \"ni\\u00f1o grande\",\n",
      "        \"yr_from\": \"6\",\n",
      "        \"yr_to\": \"12 a\\u00f1os\",\n",
      "        \"branch\": \"paediatric\",\n",
      "        \"can_conceive\": \"false\"\n",
      "      },\n",
      "      {\n",
      "        \"agegroup_id\": \"4\",\n",
      "        \"ordinal\": \"6\",\n",
      "        \"name\": \"adolescente\",\n",
      "        \"yr_from\": \"13\",\n",
      "        \"yr_to\": \"16 a\\u00f1os\",\n",
      "        \"branch\": \"paediatric\",\n",
      "        \"can_conceive\": \"true\"\n",
      "      },\n",
      "      {\n",
      "        \"agegroup_id\": \"7\",\n",
      "        \"ordinal\": \"8\",\n",
      "        \"name\": \"joven-adulto\",\n",
      "        \"yr_from\": \"17\",\n",
      "        \"yr_to\": \"29 a\\u00f1os\",\n",
      "        \"branch\": \"adult\",\n",
      "        \"can_conceive\": \"true\"\n",
      "      },\n",
      "      {\n",
      "        \"agegroup_id\": \"5\",\n",
      "        \"ordinal\": \"10\",\n",
      "        \"name\": \"adulto\",\n",
      "        \"yr_from\": \"30\",\n",
      "        \"yr_to\": \"39 a\\u00f1os\",\n",
      "        \"branch\": \"adult\",\n",
      "        \"can_conceive\": \"true\"\n",
      "      },\n",
      "      {\n",
      "        \"agegroup_id\": \"8\",\n",
      "        \"ordinal\": \"12\",\n",
      "        \"name\": \"adulto\",\n",
      "        \"yr_from\": \"40\",\n",
      "        \"yr_to\": \"49 a\\u00f1os\",\n",
      "        \"branch\": \"adult\",\n",
      "        \"can_conceive\": \"true\"\n",
      "      },\n",
      "      {\n",
      "        \"agegroup_id\": \"9\",\n",
      "        \"ordinal\": \"14\",\n",
      "        \"name\": \"adulto\",\n",
      "        \"yr_from\": \"50\",\n",
      "        \"yr_to\": \"64 a\\u00f1os\",\n",
      "        \"branch\": \"adult\",\n",
      "        \"can_conceive\": \"true\"\n",
      "      },\n",
      "      {\n",
      "        \"agegroup_id\": \"6\",\n",
      "        \"ordinal\": \"16\",\n",
      "        \"name\": \"geri\\u00e1trica\",\n",
      "        \"yr_from\": \"m\\u00e1s de\",\n",
      "        \"yr_to\": \"65 a\\u00f1os\",\n",
      "        \"branch\": \"adult\",\n",
      "        \"can_conceive\": \"false\"\n",
      "      }\n",
      "    ]\n",
      "  }\n",
      "}\n"
     ]
    }
   ],
   "source": [
    "print(api_resp)"
   ]
  },
  {
   "cell_type": "markdown",
   "id": "6909890d-0a38-4543-ac85-1c7803911e2a",
   "metadata": {
    "heading_collapsed": "true",
    "tags": [],
    "toc-hr-collapsed": true
   },
   "source": [
    "#### Printing API output into file"
   ]
  },
  {
   "cell_type": "code",
   "execution_count": 11,
   "id": "25ce6f44-73ea-4692-b6a5-fe92fc74f463",
   "metadata": {},
   "outputs": [
    {
     "data": {
      "text/plain": [
       "'../output/age_groups_output.json'"
      ]
     },
     "execution_count": 11,
     "metadata": {},
     "output_type": "execute_result"
    }
   ],
   "source": [
    "path = out_loc + inout_files[method][\"output\"]\n",
    "path"
   ]
  },
  {
   "cell_type": "code",
   "execution_count": 12,
   "id": "0edd027f-76b8-4eab-bf7b-f942787d9dca",
   "metadata": {},
   "outputs": [],
   "source": [
    "write_json(path, req.text)"
   ]
  },
  {
   "cell_type": "markdown",
   "id": "041f30bc-1da6-4e8c-990b-64931a51636a",
   "metadata": {
    "tags": [],
    "toc-hr-collapsed": true
   },
   "source": [
    "### Regions request test"
   ]
  },
  {
   "cell_type": "markdown",
   "id": "a231c1cb-cda3-4dfb-814a-37a451b655fc",
   "metadata": {
    "heading_collapsed": "true",
    "tags": []
   },
   "source": [
    "#### Building API request"
   ]
  },
  {
   "cell_type": "code",
   "execution_count": 13,
   "id": "7f0601c3-a5a6-433b-b117-705410edb365",
   "metadata": {},
   "outputs": [],
   "source": [
    "method = \"regions\""
   ]
  },
  {
   "cell_type": "code",
   "execution_count": 14,
   "id": "ab659329-2508-4b90-af27-94001bd78d52",
   "metadata": {},
   "outputs": [],
   "source": [
    "api_call_url = url_api_request(method)"
   ]
  },
  {
   "cell_type": "code",
   "execution_count": 15,
   "id": "a8207bdf-a219-4088-9608-b88cf678b429",
   "metadata": {},
   "outputs": [
    {
     "data": {
      "text/plain": [
       "'https://esscstsandbox.isabelhealthcare.com/v2/regions?callback=regions&authorization=QDDb180BilBk7209QqFikW1iqjOx2yjt&language=english&web_service=json'"
      ]
     },
     "execution_count": 15,
     "metadata": {},
     "output_type": "execute_result"
    }
   ],
   "source": [
    "api_call_url"
   ]
  },
  {
   "cell_type": "markdown",
   "id": "3dacca9f-a9ff-42cd-987a-f604d66e2888",
   "metadata": {
    "heading_collapsed": "true",
    "tags": []
   },
   "source": [
    "#### Getting API request"
   ]
  },
  {
   "cell_type": "code",
   "execution_count": 16,
   "id": "755d1814-e34d-4f57-b9e9-3de50dbf545d",
   "metadata": {},
   "outputs": [
    {
     "data": {
      "text/plain": [
       "<Response [200]>"
      ]
     },
     "execution_count": 16,
     "metadata": {},
     "output_type": "execute_result"
    }
   ],
   "source": [
    "req = requests.get(api_call_url)\n",
    "req"
   ]
  },
  {
   "cell_type": "code",
   "execution_count": 17,
   "id": "4841e49d-0252-4f63-8bff-3556bdae2b8e",
   "metadata": {
    "scrolled": true,
    "tags": []
   },
   "outputs": [],
   "source": [
    "api_resp = enhance_api_response(req.text)"
   ]
  },
  {
   "cell_type": "code",
   "execution_count": 18,
   "id": "b61083da-0295-4071-9dd0-1b9101714439",
   "metadata": {
    "scrolled": true,
    "tags": []
   },
   "outputs": [
    {
     "name": "stdout",
     "output_type": "stream",
     "text": [
      "{\n",
      "  \"travel_history\": {\n",
      "    \"region\": [\n",
      "      {\n",
      "        \"region_id\": \"1\",\n",
      "        \"region_name\": \"Europa Occidental\"\n",
      "      },\n",
      "      {\n",
      "        \"region_id\": \"2\",\n",
      "        \"region_name\": \"Europa Oriental\"\n",
      "      },\n",
      "      {\n",
      "        \"region_id\": \"3\",\n",
      "        \"region_name\": \"\\u00c1frica central\"\n",
      "      },\n",
      "      {\n",
      "        \"region_id\": \"4\",\n",
      "        \"region_name\": \"\\u00c1frica del Norte\"\n",
      "      },\n",
      "      {\n",
      "        \"region_id\": \"5\",\n",
      "        \"region_name\": \"\\u00c1frica del Este\"\n",
      "      },\n",
      "      {\n",
      "        \"region_id\": \"6\",\n",
      "        \"region_name\": \"\\u00c1frica del Sur\"\n",
      "      },\n",
      "      {\n",
      "        \"region_id\": \"7\",\n",
      "        \"region_name\": \"\\u00c1frica Occidental\"\n",
      "      },\n",
      "      {\n",
      "        \"region_id\": \"8\",\n",
      "        \"region_name\": \"El sudeste de Asia\"\n",
      "      },\n",
      "      {\n",
      "        \"region_id\": \"9\",\n",
      "        \"region_name\": \"Asia del Este\"\n",
      "      },\n",
      "      {\n",
      "        \"region_id\": \"10\",\n",
      "        \"region_name\": \"Asia del Sur\"\n",
      "      },\n",
      "      {\n",
      "        \"region_id\": \"11\",\n",
      "        \"region_name\": \"Caribe\"\n",
      "      },\n",
      "      {\n",
      "        \"region_id\": \"12\",\n",
      "        \"region_name\": \"Am\\u00e9rica del Norte\"\n",
      "      },\n",
      "      {\n",
      "        \"region_id\": \"13\",\n",
      "        \"region_name\": \"Am\\u00e9rica Central\"\n",
      "      },\n",
      "      {\n",
      "        \"region_id\": \"14\",\n",
      "        \"region_name\": \"Am\\u00e9rica del Sur (tropical)\"\n",
      "      },\n",
      "      {\n",
      "        \"region_id\": \"15\",\n",
      "        \"region_name\": \"Am\\u00e9rica del Sur (Ecuatorial)\"\n",
      "      },\n",
      "      {\n",
      "        \"region_id\": \"16\",\n",
      "        \"region_name\": \"Australasia\"\n",
      "      },\n",
      "      {\n",
      "        \"region_id\": \"17\",\n",
      "        \"region_name\": \"Oriente Medio\"\n",
      "      }\n",
      "    ]\n",
      "  }\n",
      "}\n"
     ]
    }
   ],
   "source": [
    "print(api_resp)"
   ]
  },
  {
   "cell_type": "markdown",
   "id": "50e1028a-00a1-4284-a27b-d708bcff67f8",
   "metadata": {
    "heading_collapsed": "true",
    "tags": [],
    "toc-hr-collapsed": true
   },
   "source": [
    "#### Printing API output into file"
   ]
  },
  {
   "cell_type": "code",
   "execution_count": 19,
   "id": "4b3e6dc6-e3d8-4c0a-b8d2-0eee5b209d93",
   "metadata": {},
   "outputs": [
    {
     "data": {
      "text/plain": [
       "'../output/regions_output.json'"
      ]
     },
     "execution_count": 19,
     "metadata": {},
     "output_type": "execute_result"
    }
   ],
   "source": [
    "path = out_loc + inout_files[method][\"output\"]\n",
    "path"
   ]
  },
  {
   "cell_type": "code",
   "execution_count": 20,
   "id": "284fa6eb-782f-4b5d-ae00-7b905b331a17",
   "metadata": {},
   "outputs": [],
   "source": [
    "write_json(path, req.text)"
   ]
  },
  {
   "cell_type": "markdown",
   "id": "0e53ef00-48bd-4178-8632-9b397c3b813d",
   "metadata": {
    "tags": [],
    "toc-hr-collapsed": true
   },
   "source": [
    "### Countries request test"
   ]
  },
  {
   "cell_type": "markdown",
   "id": "9b4c2746-d4d4-409f-842a-7765f19cc5c6",
   "metadata": {
    "heading_collapsed": "true",
    "tags": []
   },
   "source": [
    "#### Building API request"
   ]
  },
  {
   "cell_type": "code",
   "execution_count": 21,
   "id": "0ddb490d-e865-4f2b-9955-9d2cf07567fa",
   "metadata": {},
   "outputs": [],
   "source": [
    "method = \"countries\""
   ]
  },
  {
   "cell_type": "code",
   "execution_count": 22,
   "id": "e74615d8-abb7-4eef-baec-8a84c0f1f152",
   "metadata": {},
   "outputs": [],
   "source": [
    "api_call_url = url_api_request(method)"
   ]
  },
  {
   "cell_type": "code",
   "execution_count": 23,
   "id": "a1b2e67b-1668-4daf-adfc-3cda469153da",
   "metadata": {},
   "outputs": [
    {
     "data": {
      "text/plain": [
       "'https://esscstsandbox.isabelhealthcare.com/v2/countries?callback=countries&authorization=QDDb180BilBk7209QqFikW1iqjOx2yjt&language=english&web_service=json'"
      ]
     },
     "execution_count": 23,
     "metadata": {},
     "output_type": "execute_result"
    }
   ],
   "source": [
    "api_call_url"
   ]
  },
  {
   "cell_type": "markdown",
   "id": "f443198f-5ab4-4f23-8fa6-ce7469220746",
   "metadata": {
    "heading_collapsed": "true",
    "tags": []
   },
   "source": [
    "#### Getting API request"
   ]
  },
  {
   "cell_type": "code",
   "execution_count": 24,
   "id": "bb2effd6-b809-4d88-a57b-4da1a4d0ba53",
   "metadata": {},
   "outputs": [
    {
     "data": {
      "text/plain": [
       "<Response [200]>"
      ]
     },
     "execution_count": 24,
     "metadata": {},
     "output_type": "execute_result"
    }
   ],
   "source": [
    "req = requests.get(api_call_url)\n",
    "req"
   ]
  },
  {
   "cell_type": "code",
   "execution_count": 25,
   "id": "f708a078-0a39-439a-930d-7cab62b308c3",
   "metadata": {
    "scrolled": true,
    "tags": []
   },
   "outputs": [],
   "source": [
    "api_resp = enhance_api_response(req.text)"
   ]
  },
  {
   "cell_type": "code",
   "execution_count": 26,
   "id": "837b56e8-088e-4b60-b03a-ce59c6b95a24",
   "metadata": {
    "scrolled": true,
    "tags": []
   },
   "outputs": [
    {
     "name": "stdout",
     "output_type": "stream",
     "text": [
      "{\n",
      "  \"countries\": {\n",
      "    \"country\": [\n",
      "      {\n",
      "        \"country_id\": \"1\",\n",
      "        \"country_name\": \"Afganist\\u00e1n\",\n",
      "        \"abbreviation\": \"AF\",\n",
      "        \"region_id\": \"17\"\n",
      "      },\n",
      "      {\n",
      "        \"country_id\": \"2\",\n",
      "        \"country_name\": \"Albania\",\n",
      "        \"abbreviation\": \"AL\",\n",
      "        \"region_id\": \"2\"\n",
      "      },\n",
      "      {\n",
      "        \"country_id\": \"3\",\n",
      "        \"country_name\": \"Argelia\",\n",
      "        \"abbreviation\": \"DZ\",\n",
      "        \"region_id\": \"4\"\n",
      "      },\n",
      "      {\n",
      "        \"country_id\": \"4\",\n",
      "        \"country_name\": \"Islas V\\u00edrgenes Americanas\",\n",
      "        \"abbreviation\": \"VI\",\n",
      "        \"region_id\": \"14\"\n",
      "      },\n",
      "      {\n",
      "        \"country_id\": \"5\",\n",
      "        \"country_name\": \"Andorra\",\n",
      "        \"abbreviation\": \"AD\",\n",
      "        \"region_id\": \"1\"\n",
      "      },\n",
      "      {\n",
      "        \"country_id\": \"6\",\n",
      "        \"country_name\": \"Angola\",\n",
      "        \"abbreviation\": \"AO\",\n",
      "        \"region_id\": \"3\"\n",
      "      },\n",
      "      {\n",
      "        \"country_id\": \"7\",\n",
      "        \"country_name\": \"Anguila\",\n",
      "        \"abbreviation\": \"AI\",\n",
      "        \"region_id\": \"11\"\n",
      "      },\n",
      "      {\n",
      "        \"country_id\": \"8\",\n",
      "        \"country_name\": \"Ant\\u00e1rtida\",\n",
      "        \"abbreviation\": \"AQ\",\n",
      "        \"region_id\": \"1\"\n",
      "      },\n",
      "      {\n",
      "        \"country_id\": \"9\",\n",
      "        \"country_name\": \"Antigua / Barbads\",\n",
      "        \"abbreviation\": \"AG\",\n",
      "        \"region_id\": \"11\"\n",
      "      },\n",
      "      {\n",
      "        \"country_id\": \"10\",\n",
      "        \"country_name\": \"Argentina\",\n",
      "        \"abbreviation\": \"AR\",\n",
      "        \"region_id\": \"15\"\n",
      "      },\n",
      "      {\n",
      "        \"country_id\": \"11\",\n",
      "        \"country_name\": \"Armenia\",\n",
      "        \"abbreviation\": \"AM\",\n",
      "        \"region_id\": \"17\"\n",
      "      },\n",
      "      {\n",
      "        \"country_id\": \"12\",\n",
      "        \"country_name\": \"Aruba\",\n",
      "        \"abbreviation\": \"AW\",\n",
      "        \"region_id\": \"11\"\n",
      "      },\n",
      "      {\n",
      "        \"country_id\": \"13\",\n",
      "        \"country_name\": \"Australia\",\n",
      "        \"abbreviation\": \"AU\",\n",
      "        \"region_id\": \"16\"\n",
      "      },\n",
      "      {\n",
      "        \"country_id\": \"14\",\n",
      "        \"country_name\": \"Austria\",\n",
      "        \"abbreviation\": \"AT\",\n",
      "        \"region_id\": \"1\"\n",
      "      },\n",
      "      {\n",
      "        \"country_id\": \"15\",\n",
      "        \"country_name\": \"Azerbaiy\\u00e1n\",\n",
      "        \"abbreviation\": \"AZ\",\n",
      "        \"region_id\": \"17\"\n",
      "      },\n",
      "      {\n",
      "        \"country_id\": \"16\",\n",
      "        \"country_name\": \"Bahamas\",\n",
      "        \"abbreviation\": \"BS\",\n",
      "        \"region_id\": \"11\"\n",
      "      },\n",
      "      {\n",
      "        \"country_id\": \"17\",\n",
      "        \"country_name\": \"Bahrein\",\n",
      "        \"abbreviation\": \"BH\",\n",
      "        \"region_id\": \"17\"\n",
      "      },\n",
      "      {\n",
      "        \"country_id\": \"18\",\n",
      "        \"country_name\": \"Bangladesh\",\n",
      "        \"abbreviation\": \"BD\",\n",
      "        \"region_id\": \"10\"\n",
      "      },\n",
      "      {\n",
      "        \"country_id\": \"19\",\n",
      "        \"country_name\": \"Barbados\",\n",
      "        \"abbreviation\": \"BB\",\n",
      "        \"region_id\": \"11\"\n",
      "      },\n",
      "      {\n",
      "        \"country_id\": \"20\",\n",
      "        \"country_name\": \"Bielorrusia\",\n",
      "        \"abbreviation\": \"BY\",\n",
      "        \"region_id\": \"2\"\n",
      "      },\n",
      "      {\n",
      "        \"country_id\": \"21\",\n",
      "        \"country_name\": \"B\\u00e9lgica\",\n",
      "        \"abbreviation\": \"BE\",\n",
      "        \"region_id\": \"1\"\n",
      "      },\n",
      "      {\n",
      "        \"country_id\": \"22\",\n",
      "        \"country_name\": \"Belice\",\n",
      "        \"abbreviation\": \"BZ\",\n",
      "        \"region_id\": \"13\"\n",
      "      },\n",
      "      {\n",
      "        \"country_id\": \"23\",\n",
      "        \"country_name\": \"Benin\",\n",
      "        \"abbreviation\": \"BJ\",\n",
      "        \"region_id\": \"7\"\n",
      "      },\n",
      "      {\n",
      "        \"country_id\": \"24\",\n",
      "        \"country_name\": \"Bermudas\",\n",
      "        \"abbreviation\": \"BM\",\n",
      "        \"region_id\": \"11\"\n",
      "      },\n",
      "      {\n",
      "        \"country_id\": \"25\",\n",
      "        \"country_name\": \"But\\u00e1n\",\n",
      "        \"abbreviation\": \"BT\",\n",
      "        \"region_id\": \"10\"\n",
      "      },\n",
      "      {\n",
      "        \"country_id\": \"26\",\n",
      "        \"country_name\": \"Bolivia\",\n",
      "        \"abbreviation\": \"BO\",\n",
      "        \"region_id\": \"14\"\n",
      "      },\n",
      "      {\n",
      "        \"country_id\": \"27\",\n",
      "        \"country_name\": \"Bosnia-Herz\",\n",
      "        \"abbreviation\": \"BA\",\n",
      "        \"region_id\": \"2\"\n",
      "      },\n",
      "      {\n",
      "        \"country_id\": \"28\",\n",
      "        \"country_name\": \"Botswana\",\n",
      "        \"abbreviation\": \"BW\",\n",
      "        \"region_id\": \"6\"\n",
      "      },\n",
      "      {\n",
      "        \"country_id\": \"29\",\n",
      "        \"country_name\": \"Isla Bouvet\",\n",
      "        \"abbreviation\": \"BV\",\n",
      "        \"region_id\": \"1\"\n",
      "      },\n",
      "      {\n",
      "        \"country_id\": \"30\",\n",
      "        \"country_name\": \"Brasil\",\n",
      "        \"abbreviation\": \"BR\",\n",
      "        \"region_id\": \"14\"\n",
      "      },\n",
      "      {\n",
      "        \"country_id\": \"31\",\n",
      "        \"country_name\": \"Brit.Ind.Oc.Ter\",\n",
      "        \"abbreviation\": \"IO\",\n",
      "        \"region_id\": \"5\"\n",
      "      },\n",
      "      {\n",
      "        \"country_id\": \"32\",\n",
      "        \"country_name\": \"Brit.Virgin Is\",\n",
      "        \"abbreviation\": \"VG\",\n",
      "        \"region_id\": \"11\"\n",
      "      },\n",
      "      {\n",
      "        \"country_id\": \"33\",\n",
      "        \"country_name\": \"Brunei Dar-es-S\",\n",
      "        \"abbreviation\": \"BN\",\n",
      "        \"region_id\": \"8\"\n",
      "      },\n",
      "      {\n",
      "        \"country_id\": \"34\",\n",
      "        \"country_name\": \"Bulgaria\",\n",
      "        \"abbreviation\": \"BG\",\n",
      "        \"region_id\": \"2\"\n",
      "      },\n",
      "      {\n",
      "        \"country_id\": \"35\",\n",
      "        \"country_name\": \"Burkina-Faso\",\n",
      "        \"abbreviation\": \"BF\",\n",
      "        \"region_id\": \"7\"\n",
      "      },\n",
      "      {\n",
      "        \"country_id\": \"240\",\n",
      "        \"country_name\": \"Birmania\",\n",
      "        \"abbreviation\": \"BU\",\n",
      "        \"region_id\": \"8\"\n",
      "      },\n",
      "      {\n",
      "        \"country_id\": \"36\",\n",
      "        \"country_name\": \"Burundi\",\n",
      "        \"abbreviation\": \"BI\",\n",
      "        \"region_id\": \"5\"\n",
      "      },\n",
      "      {\n",
      "        \"country_id\": \"37\",\n",
      "        \"country_name\": \"Camboya\",\n",
      "        \"abbreviation\": \"KH\",\n",
      "        \"region_id\": \"8\"\n",
      "      },\n",
      "      {\n",
      "        \"country_id\": \"38\",\n",
      "        \"country_name\": \"Camer\\u00fan\",\n",
      "        \"abbreviation\": \"CM\",\n",
      "        \"region_id\": \"3\"\n",
      "      },\n",
      "      {\n",
      "        \"country_id\": \"39\",\n",
      "        \"country_name\": \"Canad\\u00e1\",\n",
      "        \"abbreviation\": \"CA\",\n",
      "        \"region_id\": \"12\"\n",
      "      },\n",
      "      {\n",
      "        \"country_id\": \"40\",\n",
      "        \"country_name\": \"Cabo Verde\",\n",
      "        \"abbreviation\": \"CV\",\n",
      "        \"region_id\": \"7\"\n",
      "      },\n",
      "      {\n",
      "        \"country_id\": \"41\",\n",
      "        \"country_name\": \"Islas Caim\\u00e1n\",\n",
      "        \"abbreviation\": \"KY\",\n",
      "        \"region_id\": \"11\"\n",
      "      },\n",
      "      {\n",
      "        \"country_id\": \"42\",\n",
      "        \"country_name\": \"Central Afr.Rep\",\n",
      "        \"abbreviation\": \"CF\",\n",
      "        \"region_id\": \"3\"\n",
      "      },\n",
      "      {\n",
      "        \"country_id\": \"43\",\n",
      "        \"country_name\": \"Chad\",\n",
      "        \"abbreviation\": \"TD\",\n",
      "        \"region_id\": \"3\"\n",
      "      },\n",
      "      {\n",
      "        \"country_id\": \"44\",\n",
      "        \"country_name\": \"Channel Islands\",\n",
      "        \"abbreviation\": \"CI\",\n",
      "        \"region_id\": \"1\"\n",
      "      },\n",
      "      {\n",
      "        \"country_id\": \"45\",\n",
      "        \"country_name\": \"Chile\",\n",
      "        \"abbreviation\": \"CL\",\n",
      "        \"region_id\": \"15\"\n",
      "      },\n",
      "      {\n",
      "        \"country_id\": \"46\",\n",
      "        \"country_name\": \"China\",\n",
      "        \"abbreviation\": \"CN\",\n",
      "        \"region_id\": \"9\"\n",
      "      },\n",
      "      {\n",
      "        \"country_id\": \"47\",\n",
      "        \"country_name\": \"Christmas Islnd\",\n",
      "        \"abbreviation\": \"CX\",\n",
      "        \"region_id\": \"16\"\n",
      "      },\n",
      "      {\n",
      "        \"country_id\": \"48\",\n",
      "        \"country_name\": \"Coconut Islands\",\n",
      "        \"abbreviation\": \"CC\",\n",
      "        \"region_id\": \"16\"\n",
      "      },\n",
      "      {\n",
      "        \"country_id\": \"49\",\n",
      "        \"country_name\": \"Colombia\",\n",
      "        \"abbreviation\": \"CO\",\n",
      "        \"region_id\": \"15\"\n",
      "      },\n",
      "      {\n",
      "        \"country_id\": \"50\",\n",
      "        \"country_name\": \"Comoro\",\n",
      "        \"abbreviation\": \"KM\",\n",
      "        \"region_id\": \"5\"\n",
      "      },\n",
      "      {\n",
      "        \"country_id\": \"51\",\n",
      "        \"country_name\": \"Congo\",\n",
      "        \"abbreviation\": \"CG\",\n",
      "        \"region_id\": \"3\"\n",
      "      },\n",
      "      {\n",
      "        \"country_id\": \"52\",\n",
      "        \"country_name\": \"Cook Islands\",\n",
      "        \"abbreviation\": \"CK\",\n",
      "        \"region_id\": \"16\"\n",
      "      },\n",
      "      {\n",
      "        \"country_id\": \"53\",\n",
      "        \"country_name\": \"Costa Rica\",\n",
      "        \"abbreviation\": \"CR\",\n",
      "        \"region_id\": \"13\"\n",
      "      },\n",
      "      {\n",
      "        \"country_id\": \"54\",\n",
      "        \"country_name\": \"Croacia\",\n",
      "        \"abbreviation\": \"HR\",\n",
      "        \"region_id\": \"2\"\n",
      "      },\n",
      "      {\n",
      "        \"country_id\": \"55\",\n",
      "        \"country_name\": \"Cuba\",\n",
      "        \"abbreviation\": \"CU\",\n",
      "        \"region_id\": \"11\"\n",
      "      },\n",
      "      {\n",
      "        \"country_id\": \"56\",\n",
      "        \"country_name\": \"Chipre\",\n",
      "        \"abbreviation\": \"CY\",\n",
      "        \"region_id\": \"17\"\n",
      "      },\n",
      "      {\n",
      "        \"country_id\": \"57\",\n",
      "        \"country_name\": \"Rep\\u00fablica Checa\",\n",
      "        \"abbreviation\": \"CZ\",\n",
      "        \"region_id\": \"2\"\n",
      "      },\n",
      "      {\n",
      "        \"country_id\": \"58\",\n",
      "        \"country_name\": \"Dinamarca\",\n",
      "        \"abbreviation\": \"DK\",\n",
      "        \"region_id\": \"1\"\n",
      "      },\n",
      "      {\n",
      "        \"country_id\": \"59\",\n",
      "        \"country_name\": \"Djibouti\",\n",
      "        \"abbreviation\": \"DJ\",\n",
      "        \"region_id\": \"5\"\n",
      "      },\n",
      "      {\n",
      "        \"country_id\": \"60\",\n",
      "        \"country_name\": \"Dominica\",\n",
      "        \"abbreviation\": \"DM\",\n",
      "        \"region_id\": \"11\"\n",
      "      },\n",
      "      {\n",
      "        \"country_id\": \"61\",\n",
      "        \"country_name\": \"Rep\\u00fablica Dominicana\",\n",
      "        \"abbreviation\": \"DO\",\n",
      "        \"region_id\": \"11\"\n",
      "      },\n",
      "      {\n",
      "        \"country_id\": \"241\",\n",
      "        \"country_name\": \"Timor Oriental\",\n",
      "        \"abbreviation\": \"TI\",\n",
      "        \"region_id\": \"8\"\n",
      "      },\n",
      "      {\n",
      "        \"country_id\": \"62\",\n",
      "        \"country_name\": \"Ecuador\",\n",
      "        \"abbreviation\": \"EC\",\n",
      "        \"region_id\": \"15\"\n",
      "      },\n",
      "      {\n",
      "        \"country_id\": \"63\",\n",
      "        \"country_name\": \"Egipto\",\n",
      "        \"abbreviation\": \"EG\",\n",
      "        \"region_id\": \"4\"\n",
      "      },\n",
      "      {\n",
      "        \"country_id\": \"64\",\n",
      "        \"country_name\": \"El Salvador\",\n",
      "        \"abbreviation\": \"SV\",\n",
      "        \"region_id\": \"13\"\n",
      "      },\n",
      "      {\n",
      "        \"country_id\": \"65\",\n",
      "        \"country_name\": \"Ecuatorial Guin\",\n",
      "        \"abbreviation\": \"GQ\",\n",
      "        \"region_id\": \"3\"\n",
      "      },\n",
      "      {\n",
      "        \"country_id\": \"66\",\n",
      "        \"country_name\": \"Eritrea\",\n",
      "        \"abbreviation\": \"ER\",\n",
      "        \"region_id\": \"5\"\n",
      "      },\n",
      "      {\n",
      "        \"country_id\": \"67\",\n",
      "        \"country_name\": \"Estonia\",\n",
      "        \"abbreviation\": \"EE\",\n",
      "        \"region_id\": \"1\"\n",
      "      },\n",
      "      {\n",
      "        \"country_id\": \"68\",\n",
      "        \"country_name\": \"Etiop\\u00eda\",\n",
      "        \"abbreviation\": \"ET\",\n",
      "        \"region_id\": \"5\"\n",
      "      },\n",
      "      {\n",
      "        \"country_id\": \"69\",\n",
      "        \"country_name\": \"Islas Feroe\",\n",
      "        \"abbreviation\": \"FO\",\n",
      "        \"region_id\": \"1\"\n",
      "      },\n",
      "      {\n",
      "        \"country_id\": \"70\",\n",
      "        \"country_name\": \"Islas Malvinas\",\n",
      "        \"abbreviation\": \"FK\",\n",
      "        \"region_id\": \"15\"\n",
      "      },\n",
      "      {\n",
      "        \"country_id\": \"71\",\n",
      "        \"country_name\": \"Fiji\",\n",
      "        \"abbreviation\": \"FJ\",\n",
      "        \"region_id\": \"16\"\n",
      "      },\n",
      "      {\n",
      "        \"country_id\": \"72\",\n",
      "        \"country_name\": \"Finlandia\",\n",
      "        \"abbreviation\": \"FI\",\n",
      "        \"region_id\": \"1\"\n",
      "      },\n",
      "      {\n",
      "        \"country_id\": \"73\",\n",
      "        \"country_name\": \"Francia\",\n",
      "        \"abbreviation\": \"FR\",\n",
      "        \"region_id\": \"1\"\n",
      "      },\n",
      "      {\n",
      "        \"country_id\": \"75\",\n",
      "        \"country_name\": \"Guinea Francesa\",\n",
      "        \"abbreviation\": \"GF\",\n",
      "        \"region_id\": \"15\"\n",
      "      },\n",
      "      {\n",
      "        \"country_id\": \"74\",\n",
      "        \"country_name\": \"Frenc.Polinesia\",\n",
      "        \"abbreviation\": \"PF\",\n",
      "        \"region_id\": \"16\"\n",
      "      },\n",
      "      {\n",
      "        \"country_id\": \"76\",\n",
      "        \"country_name\": \"Gab\\u00f3n\",\n",
      "        \"abbreviation\": \"GA\",\n",
      "        \"region_id\": \"3\"\n",
      "      },\n",
      "      {\n",
      "        \"country_id\": \"77\",\n",
      "        \"country_name\": \"Gambi a\",\n",
      "        \"abbreviation\": \"GM\",\n",
      "        \"region_id\": \"7\"\n",
      "      },\n",
      "      {\n",
      "        \"country_id\": \"78\",\n",
      "        \"country_name\": \"Georgia\",\n",
      "        \"abbreviation\": \"GE\",\n",
      "        \"region_id\": \"17\"\n",
      "      },\n",
      "      {\n",
      "        \"country_id\": \"79\",\n",
      "        \"country_name\": \"Alemania\",\n",
      "        \"abbreviation\": \"DE\",\n",
      "        \"region_id\": \"1\"\n",
      "      },\n",
      "      {\n",
      "        \"country_id\": \"80\",\n",
      "        \"country_name\": \"Ghana\",\n",
      "        \"abbreviation\": \"GH\",\n",
      "        \"region_id\": \"7\"\n",
      "      },\n",
      "      {\n",
      "        \"country_id\": \"81\",\n",
      "        \"country_name\": \"Gibraltar\",\n",
      "        \"abbreviation\": \"GI\",\n",
      "        \"region_id\": \"11\"\n",
      "      },\n",
      "      {\n",
      "        \"country_id\": \"82\",\n",
      "        \"country_name\": \"Grecia\",\n",
      "        \"abbreviation\": \"GR\",\n",
      "        \"region_id\": \"1\"\n",
      "      },\n",
      "      {\n",
      "        \"country_id\": \"83\",\n",
      "        \"country_name\": \"Groenlandia\",\n",
      "        \"abbreviation\": \"GL\",\n",
      "        \"region_id\": \"1\"\n",
      "      },\n",
      "      {\n",
      "        \"country_id\": \"84\",\n",
      "        \"country_name\": \"Granada\",\n",
      "        \"abbreviation\": \"GD\",\n",
      "        \"region_id\": \"11\"\n",
      "      },\n",
      "      {\n",
      "        \"country_id\": \"85\",\n",
      "        \"country_name\": \"Guadalupe\",\n",
      "        \"abbreviation\": \"GP\",\n",
      "        \"region_id\": \"11\"\n",
      "      },\n",
      "      {\n",
      "        \"country_id\": \"86\",\n",
      "        \"country_name\": \"Guam\",\n",
      "        \"abbreviation\": \"GU\",\n",
      "        \"region_id\": \"9\"\n",
      "      },\n",
      "      {\n",
      "        \"country_id\": \"87\",\n",
      "        \"country_name\": \"Guatemala\",\n",
      "        \"abbreviation\": \"GT\",\n",
      "        \"region_id\": \"13\"\n",
      "      },\n",
      "      {\n",
      "        \"country_id\": \"88\",\n",
      "        \"country_name\": \"Guinea\",\n",
      "        \"abbreviation\": \"GN\",\n",
      "        \"region_id\": \"7\"\n",
      "      },\n",
      "      {\n",
      "        \"country_id\": \"89\",\n",
      "        \"country_name\": \"Guinea- Bissau\",\n",
      "        \"abbreviation\": \"GW\",\n",
      "        \"region_id\": \"7\"\n",
      "      },\n",
      "      {\n",
      "        \"country_id\": \"90\",\n",
      "        \"country_name\": \"Guyana\",\n",
      "        \"abbreviation\": \"GY\",\n",
      "        \"region_id\": \"15\"\n",
      "      },\n",
      "      {\n",
      "        \"country_id\": \"91\",\n",
      "        \"country_name\": \"Hait\\u00ed\",\n",
      "        \"abbreviation\": \"HT\",\n",
      "        \"region_id\": \"11\"\n",
      "      },\n",
      "      {\n",
      "        \"country_id\": \"92\",\n",
      "        \"country_name\": \"Heard / McDon.Isl\",\n",
      "        \"abbreviation\": \"HM\",\n",
      "        \"region_id\": \"16\"\n",
      "      },\n",
      "      {\n",
      "        \"country_id\": \"93\",\n",
      "        \"country_name\": \"Honduras\",\n",
      "        \"abbreviation\": \"HN\",\n",
      "        \"region_id\": \"13\"\n",
      "      },\n",
      "      {\n",
      "        \"country_id\": \"94\",\n",
      "        \"country_name\": \"Hong Kong\",\n",
      "        \"abbreviation\": \"HK\",\n",
      "        \"region_id\": \"9\"\n",
      "      },\n",
      "      {\n",
      "        \"country_id\": \"95\",\n",
      "        \"country_name\": \"Hungr\\u00eda\",\n",
      "        \"abbreviation\": \"HU\",\n",
      "        \"region_id\": \"2\"\n",
      "      },\n",
      "      {\n",
      "        \"country_id\": \"96\",\n",
      "        \"country_name\": \"Islandia\",\n",
      "        \"abbreviation\": \"IS\",\n",
      "        \"region_id\": \"1\"\n",
      "      },\n",
      "      {\n",
      "        \"country_id\": \"97\",\n",
      "        \"country_name\": \"India\",\n",
      "        \"abbreviation\": \"IN\",\n",
      "        \"region_id\": \"10\"\n",
      "      },\n",
      "      {\n",
      "        \"country_id\": \"98\",\n",
      "        \"country_name\": \"Indonesia\",\n",
      "        \"abbreviation\": \"ID\",\n",
      "        \"region_id\": \"8\"\n",
      "      },\n",
      "      {\n",
      "        \"country_id\": \"99\",\n",
      "        \"country_name\": \"Ir\\u00e1n\",\n",
      "        \"abbreviation\": \"IR\",\n",
      "        \"region_id\": \"17\"\n",
      "      },\n",
      "      {\n",
      "        \"country_id\": \"100\",\n",
      "        \"country_name\": \"Iraq\",\n",
      "        \"abbreviation\": \"IQ\",\n",
      "        \"region_id\": \"17\"\n",
      "      },\n",
      "      {\n",
      "        \"country_id\": \"101\",\n",
      "        \"country_name\": \"Irlanda\",\n",
      "        \"abbreviation\": \"IE\",\n",
      "        \"region_id\": \"1\"\n",
      "      },\n",
      "      {\n",
      "        \"country_id\": \"102\",\n",
      "        \"country_name\": \"Israel\",\n",
      "        \"abbreviation\": \"IL\",\n",
      "        \"region_id\": \"17\"\n",
      "      },\n",
      "      {\n",
      "        \"country_id\": \"103\",\n",
      "        \"country_name\": \"Italia\",\n",
      "        \"abbreviation\": \"IT\",\n",
      "        \"region_id\": \"1\"\n",
      "      },\n",
      "      {\n",
      "        \"country_id\": \"104\",\n",
      "        \"country_name\": \"Costa de Marfil\",\n",
      "        \"abbreviation\": \"IV\",\n",
      "        \"region_id\": \"7\"\n",
      "      },\n",
      "      {\n",
      "        \"country_id\": \"105\",\n",
      "        \"country_name\": \"Jamaica\",\n",
      "        \"abbreviation\": \"JM\",\n",
      "        \"region_id\": \"11\"\n",
      "      },\n",
      "      {\n",
      "        \"country_id\": \"106\",\n",
      "        \"country_name\": \"Jap\\u00f3n\",\n",
      "        \"abbreviation\": \"JP\",\n",
      "        \"region_id\": \"9\"\n",
      "      },\n",
      "      {\n",
      "        \"country_id\": \"107\",\n",
      "        \"country_name\": \"Jordania\",\n",
      "        \"abbreviation\": \"JO\",\n",
      "        \"region_id\": \"17\"\n",
      "      },\n",
      "      {\n",
      "        \"country_id\": \"108\",\n",
      "        \"country_name\": \"Kazajst\\u00e1n\",\n",
      "        \"abbreviation\": \"KZ\",\n",
      "        \"region_id\": \"17\"\n",
      "      },\n",
      "      {\n",
      "        \"country_id\": \"109\",\n",
      "        \"country_name\": \"Kenia\",\n",
      "        \"abbreviation\": \"KE\",\n",
      "        \"region_id\": \"5\"\n",
      "      },\n",
      "      {\n",
      "        \"country_id\": \"110\",\n",
      "        \"country_name\": \"Kirguist\\u00e1n\",\n",
      "        \"abbreviation\": \"KG\",\n",
      "        \"region_id\": \"17\"\n",
      "      },\n",
      "      {\n",
      "        \"country_id\": \"111\",\n",
      "        \"country_name\": \"Kiribati\",\n",
      "        \"abbreviation\": \"KI\",\n",
      "        \"region_id\": \"16\"\n",
      "      },\n",
      "      {\n",
      "        \"country_id\": \"112\",\n",
      "        \"country_name\": \"Kuwait\",\n",
      "        \"abbreviation\": \"KW\",\n",
      "        \"region_id\": \"17\"\n",
      "      },\n",
      "      {\n",
      "        \"country_id\": \"113\",\n",
      "        \"country_name\": \"Laos\",\n",
      "        \"abbreviation\": \"LA\",\n",
      "        \"region_id\": \"8\"\n",
      "      },\n",
      "      {\n",
      "        \"country_id\": \"114\",\n",
      "        \"country_name\": \"Letonia\",\n",
      "        \"abbreviation\": \"LV\",\n",
      "        \"region_id\": \"2\"\n",
      "      },\n",
      "      {\n",
      "        \"country_id\": \"115\",\n",
      "        \"country_name\": \"L\\u00edbano\",\n",
      "        \"abbreviation\": \"LB\",\n",
      "        \"region_id\": \"17\"\n",
      "      },\n",
      "      {\n",
      "        \"country_id\": \"116\",\n",
      "        \"country_name\": \"Lesotho\",\n",
      "        \"abbreviation\": \"LS\",\n",
      "        \"region_id\": \"6\"\n",
      "      },\n",
      "      {\n",
      "        \"country_id\": \"117\",\n",
      "        \"country_name\": \"Liberia\",\n",
      "        \"abbreviation\": \"LR\",\n",
      "        \"region_id\": \"7\"\n",
      "      },\n",
      "      {\n",
      "        \"country_id\": \"118\",\n",
      "        \"country_name\": \"Libia\",\n",
      "        \"abbreviation\": \"LY\",\n",
      "        \"region_id\": \"4\"\n",
      "      },\n",
      "      {\n",
      "        \"country_id\": \"119\",\n",
      "        \"country_name\": \"Liechtenstein\",\n",
      "        \"abbreviation\": \"LI\",\n",
      "        \"region_id\": \"1\"\n",
      "      },\n",
      "      {\n",
      "        \"country_id\": \"120\",\n",
      "        \"country_name\": \"Lituania\",\n",
      "        \"abbreviation\": \"LT\",\n",
      "        \"region_id\": \"2\"\n",
      "      },\n",
      "      {\n",
      "        \"country_id\": \"121\",\n",
      "        \"country_name\": \"Luxemburgo\",\n",
      "        \"abbreviation\": \"LU\",\n",
      "        \"region_id\": \"1\"\n",
      "      },\n",
      "      {\n",
      "        \"country_id\": \"122\",\n",
      "        \"country_name\": \"Macao\",\n",
      "        \"abbreviation\": \"MO\",\n",
      "        \"region_id\": \"9\"\n",
      "      },\n",
      "      {\n",
      "        \"country_id\": \"123\",\n",
      "        \"country_name\": \"Macedonia\",\n",
      "        \"abbreviation\": \"MK\",\n",
      "        \"region_id\": \"2\"\n",
      "      },\n",
      "      {\n",
      "        \"country_id\": \"124\",\n",
      "        \"country_name\": \"Madagascar\",\n",
      "        \"abbreviation\": \"MG\",\n",
      "        \"region_id\": \"5\"\n",
      "      },\n",
      "      {\n",
      "        \"country_id\": \"125\",\n",
      "        \"country_name\": \"Malawi\",\n",
      "        \"abbreviation\": \"MW\",\n",
      "        \"region_id\": \"5\"\n",
      "      },\n",
      "      {\n",
      "        \"country_id\": \"126\",\n",
      "        \"country_name\": \"Malasia\",\n",
      "        \"abbreviation\": \"MY\",\n",
      "        \"region_id\": \"8\"\n",
      "      },\n",
      "      {\n",
      "        \"country_id\": \"127\",\n",
      "        \"country_name\": \"Maldivas\",\n",
      "        \"abbreviation\": \"MV\",\n",
      "        \"region_id\": \"10\"\n",
      "      },\n",
      "      {\n",
      "        \"country_id\": \"128\",\n",
      "        \"country_name\": \"Mali\",\n",
      "        \"abbreviation\": \"ML\",\n",
      "        \"region_id\": \"7\"\n",
      "      },\n",
      "      {\n",
      "        \"country_id\": \"129\",\n",
      "        \"country_name\": \"Malta\",\n",
      "        \"abbreviation\": \"MT\",\n",
      "        \"region_id\": \"1\"\n",
      "      },\n",
      "      {\n",
      "        \"country_id\": \"130\",\n",
      "        \"country_name\": \"Islas Marshall\",\n",
      "        \"abbreviation\": \"MH\",\n",
      "        \"region_id\": \"9\"\n",
      "      },\n",
      "      {\n",
      "        \"country_id\": \"131\",\n",
      "        \"country_name\": \"Martinica\",\n",
      "        \"abbreviation\": \"MQ\",\n",
      "        \"region_id\": \"11\"\n",
      "      },\n",
      "      {\n",
      "        \"country_id\": \"132\",\n",
      "        \"country_name\": \"Mauritania\",\n",
      "        \"abbreviation\": \"MR\",\n",
      "        \"region_id\": \"7\"\n",
      "      },\n",
      "      {\n",
      "        \"country_id\": \"133\",\n",
      "        \"country_name\": \"Mauricio\",\n",
      "        \"abbreviation\": \"MU\",\n",
      "        \"region_id\": \"5\"\n",
      "      },\n",
      "      {\n",
      "        \"country_id\": \"134\",\n",
      "        \"country_name\": \"Mayotte\",\n",
      "        \"abbreviation\": \"YT\",\n",
      "        \"region_id\": \"1\"\n",
      "      },\n",
      "      {\n",
      "        \"country_id\": \"135\",\n",
      "        \"country_name\": \"M\\u00e9xico\",\n",
      "        \"abbreviation\": \"MX\",\n",
      "        \"region_id\": \"13\"\n",
      "      },\n",
      "      {\n",
      "        \"country_id\": \"136\",\n",
      "        \"country_name\": \"Micronesia\",\n",
      "        \"abbreviation\": \"FM\",\n",
      "        \"region_id\": \"9\"\n",
      "      },\n",
      "      {\n",
      "        \"country_id\": \"137\",\n",
      "        \"country_name\": \"Menor Outl.Isl.\",\n",
      "        \"abbreviation\": \"UM\",\n",
      "        \"region_id\": \"12\"\n",
      "      },\n",
      "      {\n",
      "        \"country_id\": \"138\",\n",
      "        \"country_name\": \"Moldavia\",\n",
      "        \"abbreviation\": \"MD\",\n",
      "        \"region_id\": \"2\"\n",
      "      },\n",
      "      {\n",
      "        \"country_id\": \"139\",\n",
      "        \"country_name\": \"M\\u00f3naco\",\n",
      "        \"abbreviation\": \"MC\",\n",
      "        \"region_id\": \"1\"\n",
      "      },\n",
      "      {\n",
      "        \"country_id\": \"140\",\n",
      "        \"country_name\": \"Mongolia\",\n",
      "        \"abbreviation\": \"MN\",\n",
      "        \"region_id\": \"9\"\n",
      "      },\n",
      "      {\n",
      "        \"country_id\": \"141\",\n",
      "        \"country_name\": \"Montserrat\",\n",
      "        \"abbreviation\": \"MS\",\n",
      "        \"region_id\": \"11\"\n",
      "      },\n",
      "      {\n",
      "        \"country_id\": \"142\",\n",
      "        \"country_name\": \"Marruecos\",\n",
      "        \"abbreviation\": \"MA\",\n",
      "        \"region_id\": \"4\"\n",
      "      },\n",
      "      {\n",
      "        \"country_id\": \"143\",\n",
      "        \"country_name\": \"Mozambique\",\n",
      "        \"abbreviation\": \"MZ\",\n",
      "        \"region_id\": \"5\"\n",
      "      },\n",
      "      {\n",
      "        \"country_id\": \"144\",\n",
      "        \"country_name\": \"Myanmar\",\n",
      "        \"abbreviation\": \"MM\",\n",
      "        \"region_id\": \"8\"\n",
      "      },\n",
      "      {\n",
      "        \"country_id\": \"146\",\n",
      "        \"country_name\": \"Namibia\",\n",
      "        \"abbreviation\": \"NA\",\n",
      "        \"region_id\": \"6\"\n",
      "      },\n",
      "      {\n",
      "        \"country_id\": \"147\",\n",
      "        \"country_name\": \"Nauru\",\n",
      "        \"abbreviation\": \"NR\",\n",
      "        \"region_id\": \"8\"\n",
      "      },\n",
      "      {\n",
      "        \"country_id\": \"148\",\n",
      "        \"country_name\": \"Nepal\",\n",
      "        \"abbreviation\": \"NP\",\n",
      "        \"region_id\": \"8\"\n",
      "      },\n",
      "      {\n",
      "        \"country_id\": \"149\",\n",
      "        \"country_name\": \"Neth. Antillas\",\n",
      "        \"abbreviation\": \"AN\",\n",
      "        \"region_id\": \"11\"\n",
      "      },\n",
      "      {\n",
      "        \"country_id\": \"150\",\n",
      "        \"country_name\": \"Pa\\u00edses Bajos\",\n",
      "        \"abbreviation\": \"NL\",\n",
      "        \"region_id\": \"1\"\n",
      "      },\n",
      "      {\n",
      "        \"country_id\": \"151\",\n",
      "        \"country_name\": \"Nueva Caledonia\",\n",
      "        \"abbreviation\": \"NC\",\n",
      "        \"region_id\": \"16\"\n",
      "      },\n",
      "      {\n",
      "        \"country_id\": \"152\",\n",
      "        \"country_name\": \"Nueva Zelanda\",\n",
      "        \"abbreviation\": \"NZ\",\n",
      "        \"region_id\": \"16\"\n",
      "      },\n",
      "      {\n",
      "        \"country_id\": \"153\",\n",
      "        \"country_name\": \"Nicaragua\",\n",
      "        \"abbreviation\": \"NI\",\n",
      "        \"region_id\": \"13\"\n",
      "      },\n",
      "      {\n",
      "        \"country_id\": \"154\",\n",
      "        \"country_name\": \"N\\u00edger\",\n",
      "        \"abbreviation\": \"NE\",\n",
      "        \"region_id\": \"7\"\n",
      "      },\n",
      "      {\n",
      "        \"country_id\": \"155\",\n",
      "        \"country_name\": \"Nigeria\",\n",
      "        \"abbreviation\": \"NG\",\n",
      "        \"region_id\": \"7\"\n",
      "      },\n",
      "      {\n",
      "        \"country_id\": \"156\",\n",
      "        \"country_name\": \"Islas Niue\",\n",
      "        \"abbreviation\": \"NU\",\n",
      "        \"region_id\": \"16\"\n",
      "      },\n",
      "      {\n",
      "        \"country_id\": \"145\",\n",
      "        \"country_name\": \"N. Mariana Islnd\",\n",
      "        \"abbreviation\": \"MP\",\n",
      "        \"region_id\": \"9\"\n",
      "      },\n",
      "      {\n",
      "        \"country_id\": \"157\",\n",
      "        \"country_name\": \"Isla Norfolk\",\n",
      "        \"abbreviation\": \"NF\",\n",
      "        \"region_id\": \"16\"\n",
      "      },\n",
      "      {\n",
      "        \"country_id\": \"158\",\n",
      "        \"country_name\": \"Corea del Norte\",\n",
      "        \"abbreviation\": \"KP\",\n",
      "        \"region_id\": \"9\"\n",
      "      },\n",
      "      {\n",
      "        \"country_id\": \"159\",\n",
      "        \"country_name\": \"Noruega\",\n",
      "        \"abbreviation\": \"NO\",\n",
      "        \"region_id\": \"1\"\n",
      "      },\n",
      "      {\n",
      "        \"country_id\": \"160\",\n",
      "        \"country_name\": \"Om\\u00e1n\",\n",
      "        \"abbreviation\": \"OM\",\n",
      "        \"region_id\": \"17\"\n",
      "      },\n",
      "      {\n",
      "        \"country_id\": \"239\",\n",
      "        \"country_name\": \"Islas del Pac\\u00edfico\",\n",
      "        \"abbreviation\": \"PI\",\n",
      "        \"region_id\": \"16\"\n",
      "      },\n",
      "      {\n",
      "        \"country_id\": \"161\",\n",
      "        \"country_name\": \"Pakist\\u00e1n\",\n",
      "        \"abbreviation\": \"PK\",\n",
      "        \"region_id\": \"10\"\n",
      "      },\n",
      "      {\n",
      "        \"country_id\": \"162\",\n",
      "        \"country_name\": \"Palau\",\n",
      "        \"abbreviation\": \"PW\",\n",
      "        \"region_id\": \"9\"\n",
      "      },\n",
      "      {\n",
      "        \"country_id\": \"163\",\n",
      "        \"country_name\": \"Panam\\u00e1\",\n",
      "        \"abbreviation\": \"PA\",\n",
      "        \"region_id\": \"13\"\n",
      "      },\n",
      "      {\n",
      "        \"country_id\": \"164\",\n",
      "        \"country_name\": \"Pap. Nueva Guinea\",\n",
      "        \"abbreviation\": \"PG\",\n",
      "        \"region_id\": \"8\"\n",
      "      },\n",
      "      {\n",
      "        \"country_id\": \"165\",\n",
      "        \"country_name\": \"Paraguay\",\n",
      "        \"abbreviation\": \"PY\",\n",
      "        \"region_id\": \"15\"\n",
      "      },\n",
      "      {\n",
      "        \"country_id\": \"166\",\n",
      "        \"country_name\": \"Per\\u00fa\",\n",
      "        \"abbreviation\": \"PE\",\n",
      "        \"region_id\": \"15\"\n",
      "      },\n",
      "      {\n",
      "        \"country_id\": \"167\",\n",
      "        \"country_name\": \"Filipinas\",\n",
      "        \"abbreviation\": \"PH\",\n",
      "        \"region_id\": \"8\"\n",
      "      },\n",
      "      {\n",
      "        \"country_id\": \"168\",\n",
      "        \"country_name\": \"Islas Pitcairn\",\n",
      "        \"abbreviation\": \"PN\",\n",
      "        \"region_id\": \"16\"\n",
      "      },\n",
      "      {\n",
      "        \"country_id\": \"169\",\n",
      "        \"country_name\": \"Polonia\",\n",
      "        \"abbreviation\": \"PL\",\n",
      "        \"region_id\": \"2\"\n",
      "      },\n",
      "      {\n",
      "        \"country_id\": \"170\",\n",
      "        \"country_name\": \"Portugal\",\n",
      "        \"abbreviation\": \"PT\",\n",
      "        \"region_id\": \"1\"\n",
      "      },\n",
      "      {\n",
      "        \"country_id\": \"171\",\n",
      "        \"country_name\": \"Puerto Rico\",\n",
      "        \"abbreviation\": \"PR\",\n",
      "        \"region_id\": \"11\"\n",
      "      },\n",
      "      {\n",
      "        \"country_id\": \"172\",\n",
      "        \"country_name\": \"Qatar\",\n",
      "        \"abbreviation\": \"QA\",\n",
      "        \"region_id\": \"17\"\n",
      "      },\n",
      "      {\n",
      "        \"country_id\": \"173\",\n",
      "        \"country_name\": \"Reuni\\u00f3n\",\n",
      "        \"abbreviation\": \"RE\",\n",
      "        \"region_id\": \"5\"\n",
      "      },\n",
      "      {\n",
      "        \"country_id\": \"174\",\n",
      "        \"country_name\": \"Rumania\",\n",
      "        \"abbreviation\": \"RO\",\n",
      "        \"region_id\": \"2\"\n",
      "      },\n",
      "      {\n",
      "        \"country_id\": \"175\",\n",
      "        \"country_name\": \"Fed de Rusia\",\n",
      "        \"abbreviation\": \"RU\",\n",
      "        \"region_id\": \"2\"\n",
      "      },\n",
      "      {\n",
      "        \"country_id\": \"176\",\n",
      "        \"country_name\": \"Rwanda\",\n",
      "        \"abbreviation\": \"RW\",\n",
      "        \"region_id\": \"5\"\n",
      "      },\n",
      "      {\n",
      "        \"country_id\": \"178\",\n",
      "        \"country_name\": \"Samoa - American\",\n",
      "        \"abbreviation\": \"AS\",\n",
      "        \"region_id\": \"16\"\n",
      "      },\n",
      "      {\n",
      "        \"country_id\": \"179\",\n",
      "        \"country_name\": \"San Marino\",\n",
      "        \"abbreviation\": \"SM\",\n",
      "        \"region_id\": \"1\"\n",
      "      },\n",
      "      {\n",
      "        \"country_id\": \"180\",\n",
      "        \"country_name\": \"Arabia Saudita\",\n",
      "        \"abbreviation\": \"SA\",\n",
      "        \"region_id\": \"17\"\n",
      "      },\n",
      "      {\n",
      "        \"country_id\": \"181\",\n",
      "        \"country_name\": \"Senegal\",\n",
      "        \"abbreviation\": \"SN\",\n",
      "        \"region_id\": \"7\"\n",
      "      },\n",
      "      {\n",
      "        \"country_id\": \"182\",\n",
      "        \"country_name\": \"Seychelles\",\n",
      "        \"abbreviation\": \"SC\",\n",
      "        \"region_id\": \"5\"\n",
      "      },\n",
      "      {\n",
      "        \"country_id\": \"183\",\n",
      "        \"country_name\": \"Sierra Leona\",\n",
      "        \"abbreviation\": \"SL\",\n",
      "        \"region_id\": \"7\"\n",
      "      },\n",
      "      {\n",
      "        \"country_id\": \"184\",\n",
      "        \"country_name\": \"Singapur\",\n",
      "        \"abbreviation\": \"SG\",\n",
      "        \"region_id\": \"8\"\n",
      "      },\n",
      "      {\n",
      "        \"country_id\": \"185\",\n",
      "        \"country_name\": \"Eslovaquia\",\n",
      "        \"abbreviation\": \"SK\",\n",
      "        \"region_id\": \"2\"\n",
      "      },\n",
      "      {\n",
      "        \"country_id\": \"186\",\n",
      "        \"country_name\": \"Eslovenia\",\n",
      "        \"abbreviation\": \"SI\",\n",
      "        \"region_id\": \"2\"\n",
      "      },\n",
      "      {\n",
      "        \"country_id\": \"187\",\n",
      "        \"country_name\": \"Islas Salom\\u00f3n\",\n",
      "        \"abbreviation\": \"SB\",\n",
      "        \"region_id\": \"8\"\n",
      "      },\n",
      "      {\n",
      "        \"country_id\": \"188\",\n",
      "        \"country_name\": \"Somalia\",\n",
      "        \"abbreviation\": \"SO\",\n",
      "        \"region_id\": \"5\"\n",
      "      },\n",
      "      {\n",
      "        \"country_id\": \"189\",\n",
      "        \"country_name\": \"Sud\\u00e1frica\",\n",
      "        \"abbreviation\": \"ZA\",\n",
      "        \"region_id\": \"6\"\n",
      "      },\n",
      "      {\n",
      "        \"country_id\": \"190\",\n",
      "        \"country_name\": \"Corea del Sur\",\n",
      "        \"abbreviation\": \"KR\",\n",
      "        \"region_id\": \"9\"\n",
      "      },\n",
      "      {\n",
      "        \"country_id\": \"191\",\n",
      "        \"country_name\": \"Espa\\u00f1a\",\n",
      "        \"abbreviation\": \"ES\",\n",
      "        \"region_id\": \"1\"\n",
      "      },\n",
      "      {\n",
      "        \"country_id\": \"192\",\n",
      "        \"country_name\": \"Sri Lanka\",\n",
      "        \"abbreviation\": \"LK\",\n",
      "        \"region_id\": \"10\"\n",
      "      },\n",
      "      {\n",
      "        \"country_id\": \"238\",\n",
      "        \"country_name\": \"ap\\u00e1tridas\",\n",
      "        \"abbreviation\": \"STL\",\n",
      "        \"region_id\": \"1\"\n",
      "      },\n",
      "      {\n",
      "        \"country_id\": \"193\",\n",
      "        \"country_name\": \"St. Helena\",\n",
      "        \"abbreviation\": \"SH\",\n",
      "        \"region_id\": \"7\"\n",
      "      },\n",
      "      {\n",
      "        \"country_id\": \"198\",\n",
      "        \"country_name\": \"Sth Sandwich Is\",\n",
      "        \"abbreviation\": \"GS\",\n",
      "        \"region_id\": \"15\"\n",
      "      },\n",
      "      {\n",
      "        \"country_id\": \"196\",\n",
      "        \"country_name\": \"St.Kitts - Nevis\",\n",
      "        \"abbreviation\": \"KN\",\n",
      "        \"region_id\": \"11\"\n",
      "      },\n",
      "      {\n",
      "        \"country_id\": \"194\",\n",
      "        \"country_name\": \"St. Lucia\",\n",
      "        \"abbreviation\": \"LC\",\n",
      "        \"region_id\": \"11\"\n",
      "      },\n",
      "      {\n",
      "        \"country_id\": \"177\",\n",
      "        \"country_name\": \"S.Tome - Principe\",\n",
      "        \"abbreviation\": \"ST\",\n",
      "        \"region_id\": \"3\"\n",
      "      },\n",
      "      {\n",
      "        \"country_id\": \"197\",\n",
      "        \"country_name\": \"St.Pier - Miquel\",\n",
      "        \"abbreviation\": \"PM\",\n",
      "        \"region_id\": \"12\"\n",
      "      },\n",
      "      {\n",
      "        \"country_id\": \"195\",\n",
      "        \"country_name\": \"St. Vincent\",\n",
      "        \"abbreviation\": \"VC\",\n",
      "        \"region_id\": \"11\"\n",
      "      },\n",
      "      {\n",
      "        \"country_id\": \"199\",\n",
      "        \"country_name\": \"Sud\\u00e1n\",\n",
      "        \"abbreviation\": \"SD\",\n",
      "        \"region_id\": \"4\"\n",
      "      },\n",
      "      {\n",
      "        \"country_id\": \"200\",\n",
      "        \"country_name\": \"Surinam\",\n",
      "        \"abbreviation\": \"SR\",\n",
      "        \"region_id\": \"15\"\n",
      "      },\n",
      "      {\n",
      "        \"country_id\": \"201\",\n",
      "        \"country_name\": \"Svalbard\",\n",
      "        \"abbreviation\": \"SJ\",\n",
      "        \"region_id\": \"1\"\n",
      "      },\n",
      "      {\n",
      "        \"country_id\": \"202\",\n",
      "        \"country_name\": \"Suazilandia\",\n",
      "        \"abbreviation\": \"SZ\",\n",
      "        \"region_id\": \"6\"\n",
      "      },\n",
      "      {\n",
      "        \"country_id\": \"203\",\n",
      "        \"country_name\": \"Suecia\",\n",
      "        \"abbreviation\": \"SE\",\n",
      "        \"region_id\": \"1\"\n",
      "      },\n",
      "      {\n",
      "        \"country_id\": \"204\",\n",
      "        \"country_name\": \"Suiza\",\n",
      "        \"abbreviation\": \"CH\",\n",
      "        \"region_id\": \"1\"\n",
      "      },\n",
      "      {\n",
      "        \"country_id\": \"205\",\n",
      "        \"country_name\": \"Siria\",\n",
      "        \"abbreviation\": \"SY\",\n",
      "        \"region_id\": \"17\"\n",
      "      },\n",
      "      {\n",
      "        \"country_id\": \"206\",\n",
      "        \"country_name\": \"Tayikist\\u00e1n\",\n",
      "        \"abbreviation\": \"TJ\",\n",
      "        \"region_id\": \"17\"\n",
      "      },\n",
      "      {\n",
      "        \"country_id\": \"207\",\n",
      "        \"country_name\": \"Taiw\\u00e1n\",\n",
      "        \"abbreviation\": \"TW\",\n",
      "        \"region_id\": \"8\"\n",
      "      },\n",
      "      {\n",
      "        \"country_id\": \"208\",\n",
      "        \"country_name\": \"Tanzania\",\n",
      "        \"abbreviation\": \"TZ\",\n",
      "        \"region_id\": \"5\"\n",
      "      },\n",
      "      {\n",
      "        \"country_id\": \"209\",\n",
      "        \"country_name\": \"Tailandia\",\n",
      "        \"abbreviation\": \"TH\",\n",
      "        \"region_id\": \"8\"\n",
      "      },\n",
      "      {\n",
      "        \"country_id\": \"210\",\n",
      "        \"country_name\": \"Togo\",\n",
      "        \"abbreviation\": \"TG\",\n",
      "        \"region_id\": \"7\"\n",
      "      },\n",
      "      {\n",
      "        \"country_id\": \"211\",\n",
      "        \"country_name\": \"Islas Tokelau\",\n",
      "        \"abbreviation\": \"TK\",\n",
      "        \"region_id\": \"16\"\n",
      "      },\n",
      "      {\n",
      "        \"country_id\": \"212\",\n",
      "        \"country_name\": \"Tonga\",\n",
      "        \"abbreviation\": \"TO\",\n",
      "        \"region_id\": \"16\"\n",
      "      },\n",
      "      {\n",
      "        \"country_id\": \"213\",\n",
      "        \"country_name\": \"Trinidad - Tobago\",\n",
      "        \"abbreviation\": \"TT\",\n",
      "        \"region_id\": \"11\"\n",
      "      },\n",
      "      {\n",
      "        \"country_id\": \"214\",\n",
      "        \"country_name\": \"T\\u00fanez\",\n",
      "        \"abbreviation\": \"TN\",\n",
      "        \"region_id\": \"4\"\n",
      "      },\n",
      "      {\n",
      "        \"country_id\": \"215\",\n",
      "        \"country_name\": \"Turqu\\u00eda\",\n",
      "        \"abbreviation\": \"TR\",\n",
      "        \"region_id\": \"17\"\n",
      "      },\n",
      "      {\n",
      "        \"country_id\": \"216\",\n",
      "        \"country_name\": \"Turkmenist\\u00e1n\",\n",
      "        \"abbreviation\": \"TM\",\n",
      "        \"region_id\": \"17\"\n",
      "      },\n",
      "      {\n",
      "        \"country_id\": \"217\",\n",
      "        \"country_name\": \"Turcas y Caicos\",\n",
      "        \"abbreviation\": \"TC\",\n",
      "        \"region_id\": \"11\"\n",
      "      },\n",
      "      {\n",
      "        \"country_id\": \"218\",\n",
      "        \"country_name\": \"Tuvalu\",\n",
      "        \"abbreviation\": \"TV\",\n",
      "        \"region_id\": \"16\"\n",
      "      },\n",
      "      {\n",
      "        \"country_id\": \"219\",\n",
      "        \"country_name\": \"Uganda\",\n",
      "        \"abbreviation\": \"UG\",\n",
      "        \"region_id\": \"5\"\n",
      "      },\n",
      "      {\n",
      "        \"country_id\": \"220\",\n",
      "        \"country_name\": \"Ucrania\",\n",
      "        \"abbreviation\": \"UA\",\n",
      "        \"region_id\": \"2\"\n",
      "      },\n",
      "      {\n",
      "        \"country_id\": \"224\",\n",
      "        \"country_name\": \"Emiratos \\u00c1rabes Unidos\",\n",
      "        \"abbreviation\": \"AE\",\n",
      "        \"region_id\": \"17\"\n",
      "      },\n",
      "      {\n",
      "        \"country_id\": \"221\",\n",
      "        \"country_name\": \"Reino Unido\",\n",
      "        \"abbreviation\": \"GB\",\n",
      "        \"region_id\": \"1\"\n",
      "      },\n",
      "      {\n",
      "        \"country_id\": \"222\",\n",
      "        \"country_name\": \"Estados Unidos\",\n",
      "        \"abbreviation\": \"US\",\n",
      "        \"region_id\": \"12\"\n",
      "      },\n",
      "      {\n",
      "        \"country_id\": \"223\",\n",
      "        \"country_name\": \"Uruguay\",\n",
      "        \"abbreviation\": \"UY\",\n",
      "        \"region_id\": \"14\"\n",
      "      },\n",
      "      {\n",
      "        \"country_id\": \"225\",\n",
      "        \"country_name\": \"Uzbekist\\u00e1n\",\n",
      "        \"abbreviation\": \"UZ\",\n",
      "        \"region_id\": \"17\"\n",
      "      },\n",
      "      {\n",
      "        \"country_id\": \"226\",\n",
      "        \"country_name\": \"Vanuatu\",\n",
      "        \"abbreviation\": \"VU\",\n",
      "        \"region_id\": \"16\"\n",
      "      },\n",
      "      {\n",
      "        \"country_id\": \"227\",\n",
      "        \"country_name\": \"Ciudad del Vaticano\",\n",
      "        \"abbreviation\": \"VA\",\n",
      "        \"region_id\": \"1\"\n",
      "      },\n",
      "      {\n",
      "        \"country_id\": \"228\",\n",
      "        \"country_name\": \"Venezuela\",\n",
      "        \"abbreviation\": \"VE\",\n",
      "        \"region_id\": \"15\"\n",
      "      },\n",
      "      {\n",
      "        \"country_id\": \"229\",\n",
      "        \"country_name\": \"Vietnam\",\n",
      "        \"abbreviation\": \"VN\",\n",
      "        \"region_id\": \"8\"\n",
      "      },\n",
      "      {\n",
      "        \"country_id\": \"230\",\n",
      "        \"country_name\": \"Wallis - Futuna\",\n",
      "        \"abbreviation\": \"WF\",\n",
      "        \"region_id\": \"16\"\n",
      "      },\n",
      "      {\n",
      "        \"country_id\": \"232\",\n",
      "        \"country_name\": \"Samoa Occidental\",\n",
      "        \"abbreviation\": \"WS\",\n",
      "        \"region_id\": \"16\"\n",
      "      },\n",
      "      {\n",
      "        \"country_id\": \"231\",\n",
      "        \"country_name\": \"S\\u00e1hara Occidental\",\n",
      "        \"abbreviation\": \"EH\",\n",
      "        \"region_id\": \"4\"\n",
      "      },\n",
      "      {\n",
      "        \"country_id\": \"233\",\n",
      "        \"country_name\": \"Yemen\",\n",
      "        \"abbreviation\": \"YE\",\n",
      "        \"region_id\": \"17\"\n",
      "      },\n",
      "      {\n",
      "        \"country_id\": \"234\",\n",
      "        \"country_name\": \"Yugoslavia\",\n",
      "        \"abbreviation\": \"YU\",\n",
      "        \"region_id\": \"2\"\n",
      "      },\n",
      "      {\n",
      "        \"country_id\": \"235\",\n",
      "        \"country_name\": \"Zaire\",\n",
      "        \"abbreviation\": \"ZR\",\n",
      "        \"region_id\": \"3\"\n",
      "      },\n",
      "      {\n",
      "        \"country_id\": \"236\",\n",
      "        \"country_name\": \"Zambia\",\n",
      "        \"abbreviation\": \"ZM\",\n",
      "        \"region_id\": \"5\"\n",
      "      },\n",
      "      {\n",
      "        \"country_id\": \"237\",\n",
      "        \"country_name\": \"Zimbabwe\",\n",
      "        \"abbreviation\": \"ZW\",\n",
      "        \"region_id\": \"5\"\n",
      "      }\n",
      "    ]\n",
      "  }\n",
      "}\n"
     ]
    }
   ],
   "source": [
    "print(api_resp)"
   ]
  },
  {
   "cell_type": "markdown",
   "id": "118f0e49-88ad-4f9f-8ac7-1939046b988a",
   "metadata": {
    "heading_collapsed": "true",
    "tags": [],
    "toc-hr-collapsed": true
   },
   "source": [
    "#### Printing API output into file"
   ]
  },
  {
   "cell_type": "code",
   "execution_count": 27,
   "id": "2bbaf3df-abb7-41ff-a71e-c074b0658cd3",
   "metadata": {},
   "outputs": [
    {
     "data": {
      "text/plain": [
       "'../output/countries_output.json'"
      ]
     },
     "execution_count": 27,
     "metadata": {},
     "output_type": "execute_result"
    }
   ],
   "source": [
    "path = out_loc + inout_files[method][\"output\"]\n",
    "path"
   ]
  },
  {
   "cell_type": "code",
   "execution_count": 28,
   "id": "3dabe8a9-c945-44ec-aec3-20be05e11da0",
   "metadata": {},
   "outputs": [],
   "source": [
    "write_json(path, req.text)"
   ]
  },
  {
   "cell_type": "markdown",
   "id": "546be504-a7bb-458d-892f-de762e761e36",
   "metadata": {
    "tags": []
   },
   "source": [
    "### Pregnancies request test"
   ]
  },
  {
   "cell_type": "markdown",
   "id": "3c49cf50-4160-419f-8794-1fcfe37c7c33",
   "metadata": {
    "heading_collapsed": "true",
    "tags": []
   },
   "source": [
    "#### Building API request"
   ]
  },
  {
   "cell_type": "code",
   "execution_count": 29,
   "id": "ceadb06c-451a-4168-9f58-cbe6df9f19ff",
   "metadata": {},
   "outputs": [],
   "source": [
    "method = \"pregnancies\""
   ]
  },
  {
   "cell_type": "code",
   "execution_count": 30,
   "id": "34f897a7-254c-4591-84f6-d77186193d82",
   "metadata": {},
   "outputs": [],
   "source": [
    "api_call_url = url_api_request(method)"
   ]
  },
  {
   "cell_type": "code",
   "execution_count": 31,
   "id": "1d6b02b9-d85a-480b-9583-9f413106d942",
   "metadata": {},
   "outputs": [
    {
     "data": {
      "text/plain": [
       "'https://esscstsandbox.isabelhealthcare.com/v2/pregnancies?callback=pregnancies&authorization=QDDb180BilBk7209QqFikW1iqjOx2yjt&language=english&web_service=json'"
      ]
     },
     "execution_count": 31,
     "metadata": {},
     "output_type": "execute_result"
    }
   ],
   "source": [
    "api_call_url"
   ]
  },
  {
   "cell_type": "markdown",
   "id": "a97b3829-fa8e-4237-bfcc-5d4ce0521dc7",
   "metadata": {
    "heading_collapsed": "true",
    "tags": []
   },
   "source": [
    "#### Getting API request"
   ]
  },
  {
   "cell_type": "code",
   "execution_count": 32,
   "id": "a935b6e7-f79d-4174-a0ba-33278f303b17",
   "metadata": {},
   "outputs": [
    {
     "data": {
      "text/plain": [
       "<Response [200]>"
      ]
     },
     "execution_count": 32,
     "metadata": {},
     "output_type": "execute_result"
    }
   ],
   "source": [
    "req = requests.get(api_call_url)\n",
    "req"
   ]
  },
  {
   "cell_type": "code",
   "execution_count": 34,
   "id": "5626fcae-744c-4df5-9192-56d792129ba2",
   "metadata": {
    "scrolled": true,
    "tags": []
   },
   "outputs": [],
   "source": [
    "api_resp = enhance_api_response(req.text)"
   ]
  },
  {
   "cell_type": "code",
   "execution_count": 35,
   "id": "a606035b-2d8e-4072-94d1-a9084f522c61",
   "metadata": {},
   "outputs": [
    {
     "name": "stdout",
     "output_type": "stream",
     "text": [
      "{\n",
      "  \"pregnancies\": {\n",
      "    \"pregnancy\": [\n",
      "      {\n",
      "        \"pregnancy_id\": \"0\",\n",
      "        \"pregnancy_name\": \"(- sin especificar -)\"\n",
      "      },\n",
      "      {\n",
      "        \"pregnancy_id\": \"1\",\n",
      "        \"pregnancy_name\": \"no-embarazada\"\n",
      "      },\n",
      "      {\n",
      "        \"pregnancy_id\": \"2\",\n",
      "        \"pregnancy_name\": \"embarazada\"\n",
      "      }\n",
      "    ]\n",
      "  }\n",
      "}\n"
     ]
    }
   ],
   "source": [
    "print(api_resp)"
   ]
  },
  {
   "cell_type": "markdown",
   "id": "d46f7e3b-e0c1-43a7-a346-7155da50fe40",
   "metadata": {
    "heading_collapsed": "true",
    "tags": []
   },
   "source": [
    "#### Printing API output into file"
   ]
  },
  {
   "cell_type": "code",
   "execution_count": 36,
   "id": "b65da5c1-7510-4f96-9469-934baf3a4103",
   "metadata": {},
   "outputs": [
    {
     "data": {
      "text/plain": [
       "'../output/pregnancies_output.json'"
      ]
     },
     "execution_count": 36,
     "metadata": {},
     "output_type": "execute_result"
    }
   ],
   "source": [
    "path = out_loc + inout_files[method][\"output\"]\n",
    "path"
   ]
  },
  {
   "cell_type": "code",
   "execution_count": 37,
   "id": "8018d383-b1fa-442d-8f4b-7eadb133812c",
   "metadata": {},
   "outputs": [],
   "source": [
    "write_json(path, req.text)"
   ]
  },
  {
   "cell_type": "markdown",
   "id": "6e723650-56cb-4bac-b196-2368e39fdd0d",
   "metadata": {
    "tags": []
   },
   "source": [
    "### Ranked differential diagnoses test"
   ]
  },
  {
   "cell_type": "markdown",
   "id": "a46f1878-5633-4e84-8c63-b98ac6aa0be6",
   "metadata": {
    "heading_collapsed": "true",
    "tags": []
   },
   "source": [
    "#### Building API request"
   ]
  },
  {
   "cell_type": "code",
   "execution_count": 94,
   "id": "f75f5244-c3bc-4cae-91ce-53fdd26ecbac",
   "metadata": {},
   "outputs": [],
   "source": [
    "method = \"ranked_differential_diagnoses\""
   ]
  },
  {
   "cell_type": "code",
   "execution_count": 95,
   "id": "71f64b7c-c0f6-4a7d-b155-b1ae15b8b7d8",
   "metadata": {},
   "outputs": [],
   "source": [
    "api_call_url = url_api_request(method)"
   ]
  },
  {
   "cell_type": "code",
   "execution_count": 96,
   "id": "aeae7b8e-c2a1-494a-9e69-c041f57f8c73",
   "metadata": {},
   "outputs": [
    {
     "data": {
      "text/plain": [
       "'https://esscstsandbox.isabelhealthcare.com/v2/ranked_differential_diagnoses?callback=ranked_differential_diagnoses&authorization=QDDb180BilBk7209QqFikW1iqjOx2yjt&specialties=28&dob=19850818&sex=f&pregnant=y&region=1&country_id=221&querytext=fiebre&flag=sortbyRW_advanced&suggest=Suggest+Differential+Diagnosis&searchType=0&web_service=json'"
      ]
     },
     "execution_count": 96,
     "metadata": {},
     "output_type": "execute_result"
    }
   ],
   "source": [
    "api_call_url"
   ]
  },
  {
   "cell_type": "markdown",
   "id": "cb588b79-2ce1-4df2-bc21-2d4df0abfa69",
   "metadata": {
    "heading_collapsed": "true",
    "tags": []
   },
   "source": [
    "#### Getting API request"
   ]
  },
  {
   "cell_type": "code",
   "execution_count": 97,
   "id": "9f43d627-fd0e-46df-8b2e-a777996016ba",
   "metadata": {},
   "outputs": [
    {
     "data": {
      "text/plain": [
       "<Response [500]>"
      ]
     },
     "execution_count": 97,
     "metadata": {},
     "output_type": "execute_result"
    }
   ],
   "source": [
    "req = requests.get(api_call_url)\n",
    "req"
   ]
  },
  {
   "cell_type": "code",
   "execution_count": 100,
   "id": "1085ee0b-a933-410d-8a0c-73b071522fa2",
   "metadata": {},
   "outputs": [
    {
     "data": {
      "text/plain": [
       "'<!DOCTYPE html>\\n<html>\\n<head>\\n  <title>We\\'re sorry, but something went wrong (500)</title>\\n  <meta name=\"viewport\" content=\"width=device-width,initial-scale=1\">\\n  <style>\\n  body {\\n    background-color: #EFEFEF;\\n    color: #2E2F30;\\n    text-align: center;\\n    font-family: arial, sans-serif;\\n    margin: 0;\\n  }\\n\\n  div.dialog {\\n    width: 95%;\\n    max-width: 33em;\\n    margin: 4em auto 0;\\n  }\\n\\n  div.dialog > div {\\n    border: 1px solid #CCC;\\n    border-right-color: #999;\\n    border-left-color: #999;\\n    border-bottom-color: #BBB;\\n    border-top: #B00100 solid 4px;\\n    border-top-left-radius: 9px;\\n    border-top-right-radius: 9px;\\n    background-color: white;\\n    padding: 7px 12% 0;\\n    box-shadow: 0 3px 8px rgba(50, 50, 50, 0.17);\\n  }\\n\\n  h1 {\\n    font-size: 100%;\\n    color: #730E15;\\n    line-height: 1.5em;\\n  }\\n\\n  div.dialog > p {\\n    margin: 0 0 1em;\\n    padding: 1em;\\n    background-color: #F7F7F7;\\n    border: 1px solid #CCC;\\n    border-right-color: #999;\\n    border-left-color: #999;\\n    border-bottom-color: #999;\\n    border-bottom-left-radius: 4px;\\n    border-bottom-right-radius: 4px;\\n    border-top-color: #DADADA;\\n    color: #666;\\n    box-shadow: 0 3px 8px rgba(50, 50, 50, 0.17);\\n  }\\n  </style>\\n</head>\\n\\n<body>\\n  <!-- This file lives in public/500.html -->\\n  <div class=\"dialog\">\\n    <div>\\n      <h1>We\\'re sorry, but something went wrong.</h1>\\n    </div>\\n    <p>If you are the application owner check the logs for more information.</p>\\n  </div>\\n</body>\\n</html>\\n'"
      ]
     },
     "execution_count": 100,
     "metadata": {},
     "output_type": "execute_result"
    }
   ],
   "source": [
    "req.text"
   ]
  },
  {
   "cell_type": "code",
   "execution_count": 98,
   "id": "75eecf9b-ff2a-48df-9bd8-cb022b0cc40f",
   "metadata": {
    "scrolled": true,
    "tags": []
   },
   "outputs": [
    {
     "ename": "JSONDecodeError",
     "evalue": "Expecting value: line 1 column 1 (char 0)",
     "output_type": "error",
     "traceback": [
      "\u001b[0;31m---------------------------------------------------------------------------\u001b[0m",
      "\u001b[0;31mJSONDecodeError\u001b[0m                           Traceback (most recent call last)",
      "\u001b[0;32m/var/folders/0q/3y5dk4390kqc86qh28v817lw0000gn/T/ipykernel_95293/2342547615.py\u001b[0m in \u001b[0;36m<module>\u001b[0;34m\u001b[0m\n\u001b[0;32m----> 1\u001b[0;31m \u001b[0mapi_resp\u001b[0m \u001b[0;34m=\u001b[0m \u001b[0menhance_api_response\u001b[0m\u001b[0;34m(\u001b[0m\u001b[0mreq\u001b[0m\u001b[0;34m.\u001b[0m\u001b[0mtext\u001b[0m\u001b[0;34m)\u001b[0m\u001b[0;34m\u001b[0m\u001b[0;34m\u001b[0m\u001b[0m\n\u001b[0m",
      "\u001b[0;32m~/Documents/ReposRob_RobPer/PuntoClinico/Venv_IsabelPC/repos/PC_Isabel/src/utils/isabel_funcs.py\u001b[0m in \u001b[0;36menhance_api_response\u001b[0;34m(api_resp)\u001b[0m\n\u001b[1;32m    116\u001b[0m \u001b[0;34m\u001b[0m\u001b[0m\n\u001b[1;32m    117\u001b[0m     \u001b[0;31m## Formatting response\u001b[0m\u001b[0;34m\u001b[0m\u001b[0;34m\u001b[0m\u001b[0;34m\u001b[0m\u001b[0m\n\u001b[0;32m--> 118\u001b[0;31m     \u001b[0mapi_resp\u001b[0m \u001b[0;34m=\u001b[0m \u001b[0mjson\u001b[0m\u001b[0;34m.\u001b[0m\u001b[0mdumps\u001b[0m\u001b[0;34m(\u001b[0m\u001b[0mjson\u001b[0m\u001b[0;34m.\u001b[0m\u001b[0mloads\u001b[0m\u001b[0;34m(\u001b[0m\u001b[0mapi_resp\u001b[0m\u001b[0;34m)\u001b[0m\u001b[0;34m,\u001b[0m \u001b[0mindent\u001b[0m\u001b[0;34m=\u001b[0m\u001b[0;36m2\u001b[0m\u001b[0;34m)\u001b[0m\u001b[0;34m\u001b[0m\u001b[0;34m\u001b[0m\u001b[0m\n\u001b[0m\u001b[1;32m    119\u001b[0m \u001b[0;34m\u001b[0m\u001b[0m\n\u001b[1;32m    120\u001b[0m     \u001b[0;32mreturn\u001b[0m \u001b[0mapi_resp\u001b[0m\u001b[0;34m\u001b[0m\u001b[0;34m\u001b[0m\u001b[0m\n",
      "\u001b[0;32m/usr/local/Cellar/python@3.9/3.9.1_1/Frameworks/Python.framework/Versions/3.9/lib/python3.9/json/__init__.py\u001b[0m in \u001b[0;36mloads\u001b[0;34m(s, cls, object_hook, parse_float, parse_int, parse_constant, object_pairs_hook, **kw)\u001b[0m\n\u001b[1;32m    344\u001b[0m             \u001b[0mparse_int\u001b[0m \u001b[0;32mis\u001b[0m \u001b[0;32mNone\u001b[0m \u001b[0;32mand\u001b[0m \u001b[0mparse_float\u001b[0m \u001b[0;32mis\u001b[0m \u001b[0;32mNone\u001b[0m \u001b[0;32mand\u001b[0m\u001b[0;34m\u001b[0m\u001b[0;34m\u001b[0m\u001b[0m\n\u001b[1;32m    345\u001b[0m             parse_constant is None and object_pairs_hook is None and not kw):\n\u001b[0;32m--> 346\u001b[0;31m         \u001b[0;32mreturn\u001b[0m \u001b[0m_default_decoder\u001b[0m\u001b[0;34m.\u001b[0m\u001b[0mdecode\u001b[0m\u001b[0;34m(\u001b[0m\u001b[0ms\u001b[0m\u001b[0;34m)\u001b[0m\u001b[0;34m\u001b[0m\u001b[0;34m\u001b[0m\u001b[0m\n\u001b[0m\u001b[1;32m    347\u001b[0m     \u001b[0;32mif\u001b[0m \u001b[0mcls\u001b[0m \u001b[0;32mis\u001b[0m \u001b[0;32mNone\u001b[0m\u001b[0;34m:\u001b[0m\u001b[0;34m\u001b[0m\u001b[0;34m\u001b[0m\u001b[0m\n\u001b[1;32m    348\u001b[0m         \u001b[0mcls\u001b[0m \u001b[0;34m=\u001b[0m \u001b[0mJSONDecoder\u001b[0m\u001b[0;34m\u001b[0m\u001b[0;34m\u001b[0m\u001b[0m\n",
      "\u001b[0;32m/usr/local/Cellar/python@3.9/3.9.1_1/Frameworks/Python.framework/Versions/3.9/lib/python3.9/json/decoder.py\u001b[0m in \u001b[0;36mdecode\u001b[0;34m(self, s, _w)\u001b[0m\n\u001b[1;32m    335\u001b[0m \u001b[0;34m\u001b[0m\u001b[0m\n\u001b[1;32m    336\u001b[0m         \"\"\"\n\u001b[0;32m--> 337\u001b[0;31m         \u001b[0mobj\u001b[0m\u001b[0;34m,\u001b[0m \u001b[0mend\u001b[0m \u001b[0;34m=\u001b[0m \u001b[0mself\u001b[0m\u001b[0;34m.\u001b[0m\u001b[0mraw_decode\u001b[0m\u001b[0;34m(\u001b[0m\u001b[0ms\u001b[0m\u001b[0;34m,\u001b[0m \u001b[0midx\u001b[0m\u001b[0;34m=\u001b[0m\u001b[0m_w\u001b[0m\u001b[0;34m(\u001b[0m\u001b[0ms\u001b[0m\u001b[0;34m,\u001b[0m \u001b[0;36m0\u001b[0m\u001b[0;34m)\u001b[0m\u001b[0;34m.\u001b[0m\u001b[0mend\u001b[0m\u001b[0;34m(\u001b[0m\u001b[0;34m)\u001b[0m\u001b[0;34m)\u001b[0m\u001b[0;34m\u001b[0m\u001b[0;34m\u001b[0m\u001b[0m\n\u001b[0m\u001b[1;32m    338\u001b[0m         \u001b[0mend\u001b[0m \u001b[0;34m=\u001b[0m \u001b[0m_w\u001b[0m\u001b[0;34m(\u001b[0m\u001b[0ms\u001b[0m\u001b[0;34m,\u001b[0m \u001b[0mend\u001b[0m\u001b[0;34m)\u001b[0m\u001b[0;34m.\u001b[0m\u001b[0mend\u001b[0m\u001b[0;34m(\u001b[0m\u001b[0;34m)\u001b[0m\u001b[0;34m\u001b[0m\u001b[0;34m\u001b[0m\u001b[0m\n\u001b[1;32m    339\u001b[0m         \u001b[0;32mif\u001b[0m \u001b[0mend\u001b[0m \u001b[0;34m!=\u001b[0m \u001b[0mlen\u001b[0m\u001b[0;34m(\u001b[0m\u001b[0ms\u001b[0m\u001b[0;34m)\u001b[0m\u001b[0;34m:\u001b[0m\u001b[0;34m\u001b[0m\u001b[0;34m\u001b[0m\u001b[0m\n",
      "\u001b[0;32m/usr/local/Cellar/python@3.9/3.9.1_1/Frameworks/Python.framework/Versions/3.9/lib/python3.9/json/decoder.py\u001b[0m in \u001b[0;36mraw_decode\u001b[0;34m(self, s, idx)\u001b[0m\n\u001b[1;32m    353\u001b[0m             \u001b[0mobj\u001b[0m\u001b[0;34m,\u001b[0m \u001b[0mend\u001b[0m \u001b[0;34m=\u001b[0m \u001b[0mself\u001b[0m\u001b[0;34m.\u001b[0m\u001b[0mscan_once\u001b[0m\u001b[0;34m(\u001b[0m\u001b[0ms\u001b[0m\u001b[0;34m,\u001b[0m \u001b[0midx\u001b[0m\u001b[0;34m)\u001b[0m\u001b[0;34m\u001b[0m\u001b[0;34m\u001b[0m\u001b[0m\n\u001b[1;32m    354\u001b[0m         \u001b[0;32mexcept\u001b[0m \u001b[0mStopIteration\u001b[0m \u001b[0;32mas\u001b[0m \u001b[0merr\u001b[0m\u001b[0;34m:\u001b[0m\u001b[0;34m\u001b[0m\u001b[0;34m\u001b[0m\u001b[0m\n\u001b[0;32m--> 355\u001b[0;31m             \u001b[0;32mraise\u001b[0m \u001b[0mJSONDecodeError\u001b[0m\u001b[0;34m(\u001b[0m\u001b[0;34m\"Expecting value\"\u001b[0m\u001b[0;34m,\u001b[0m \u001b[0ms\u001b[0m\u001b[0;34m,\u001b[0m \u001b[0merr\u001b[0m\u001b[0;34m.\u001b[0m\u001b[0mvalue\u001b[0m\u001b[0;34m)\u001b[0m \u001b[0;32mfrom\u001b[0m \u001b[0;32mNone\u001b[0m\u001b[0;34m\u001b[0m\u001b[0;34m\u001b[0m\u001b[0m\n\u001b[0m\u001b[1;32m    356\u001b[0m         \u001b[0;32mreturn\u001b[0m \u001b[0mobj\u001b[0m\u001b[0;34m,\u001b[0m \u001b[0mend\u001b[0m\u001b[0;34m\u001b[0m\u001b[0;34m\u001b[0m\u001b[0m\n",
      "\u001b[0;31mJSONDecodeError\u001b[0m: Expecting value: line 1 column 1 (char 0)"
     ]
    }
   ],
   "source": [
    "api_resp = enhance_api_response(req.text)"
   ]
  },
  {
   "cell_type": "code",
   "execution_count": 99,
   "id": "71d3af47-96cb-48df-b978-4f2143abc38f",
   "metadata": {
    "scrolled": true,
    "tags": []
   },
   "outputs": [
    {
     "name": "stdout",
     "output_type": "stream",
     "text": [
      "{\n",
      "  \"diagnoses_checklist\": {\n",
      "    \"query_result_details\": {\n",
      "      \"age_group\": \"adult  (30-39 yrs)\",\n",
      "      \"gender\": \"Female\",\n",
      "      \"pregnancy\": \"2\",\n",
      "      \"region\": \"Western Europe\",\n",
      "      \"specialty_type\": \"diagnoses\",\n",
      "      \"query_entered\": \"headache\",\n",
      "      \"sorting\": \"Most Relevant\",\n",
      "      \"total_results_returned\": \"34\"\n",
      "    },\n",
      "    \"triage_api_url\": \"https://apiscsandbox.isabelhealthcare.com/v2/triage_score?dx=1,2,8&age=5&sex=1&region=1&text=headache&pregnancy=2&Q1=&Q2=&Q3=&Q4=&Q5=&Q6=&Q7=&web_service=json&callback=showTriageScore\",\n",
      "    \"diagnoses\": [\n",
      "      {\n",
      "        \"diagnosis_id\": \"1997\",\n",
      "        \"diagnosis_name\": \"Brain Tumors\",\n",
      "        \"knowledge_window_url\": \"https://scst.isabelhealthcare.com/search_knowledge_advanced/knowledge_window?category_id=1997&category_type=spc&diagnoses_name=Brain Tumors&diagnoses_sub=1997&age_id=5&sex=female&pregnancy=seen&region=1&text=headache&specialty_id=28&sessionId=9231809078fac8cac3e9d6a390475358&userid=4239&emr=true\",\n",
      "        \"gender\": null,\n",
      "        \"specialty\": \"NERVOUS SYSTEM CONDITIONS\",\n",
      "        \"red_flag\": \"true\",\n",
      "        \"common_diagnosis\": \"false\",\n",
      "        \"snomed_diagnosis_id\": \"126952004\",\n",
      "        \"icd9_diagnosis_id\": \"239.6\",\n",
      "        \"icd10_diagnosis_id\": \"D49.6\"\n",
      "      },\n",
      "      {\n",
      "        \"diagnosis_id\": \"1992\",\n",
      "        \"diagnosis_name\": \"Intracranial Hemorrhage\",\n",
      "        \"knowledge_window_url\": \"https://scst.isabelhealthcare.com/search_knowledge_advanced/knowledge_window?category_id=1992&category_type=spc&diagnoses_name=Intracranial Hemorrhage&diagnoses_sub=1992&age_id=5&sex=female&pregnancy=seen&region=1&text=headache&specialty_id=28&sessionId=9231809078fac8cac3e9d6a390475358&userid=4239&emr=true\",\n",
      "        \"gender\": null,\n",
      "        \"specialty\": \"NERVOUS SYSTEM CONDITIONS\",\n",
      "        \"red_flag\": \"true\",\n",
      "        \"common_diagnosis\": \"false\",\n",
      "        \"snomed_diagnosis_id\": \"1386000\",\n",
      "        \"icd9_diagnosis_id\": \"432.9\",\n",
      "        \"icd10_diagnosis_id\": \"I62.9\"\n",
      "      },\n",
      "      {\n",
      "        \"diagnosis_id\": \"5914\",\n",
      "        \"diagnosis_name\": \"Cluster Headache\",\n",
      "        \"knowledge_window_url\": \"https://scst.isabelhealthcare.com/search_knowledge_advanced/knowledge_window?category_id=5914&category_type=standalone&diagnoses_name=Cluster Headache&diagnoses_sub=5914&age_id=5&sex=female&pregnancy=seen&region=1&text=headache&specialty_id=28&sessionId=9231809078fac8cac3e9d6a390475358&userid=4239&emr=true\",\n",
      "        \"gender\": null,\n",
      "        \"specialty\": \"NERVOUS SYSTEM CONDITIONS\",\n",
      "        \"red_flag\": \"false\",\n",
      "        \"common_diagnosis\": \"false\",\n",
      "        \"snomed_diagnosis_id\": \"193031009\",\n",
      "        \"icd9_diagnosis_id\": \"339.00\",\n",
      "        \"icd10_diagnosis_id\": \"G44.009\"\n",
      "      },\n",
      "      {\n",
      "        \"diagnosis_id\": \"1903\",\n",
      "        \"diagnosis_name\": \"Migraine\",\n",
      "        \"knowledge_window_url\": \"https://scst.isabelhealthcare.com/search_knowledge_advanced/knowledge_window?category_id=1903&category_type=spc&diagnoses_name=Migraine&diagnoses_sub=1903&age_id=5&sex=female&pregnancy=seen&region=1&text=headache&specialty_id=28&sessionId=9231809078fac8cac3e9d6a390475358&userid=4239&emr=true\",\n",
      "        \"gender\": null,\n",
      "        \"specialty\": \"NERVOUS SYSTEM CONDITIONS\",\n",
      "        \"red_flag\": \"false\",\n",
      "        \"common_diagnosis\": \"true\",\n",
      "        \"snomed_diagnosis_id\": \"37796009\",\n",
      "        \"icd9_diagnosis_id\": \"346.90\",\n",
      "        \"icd10_diagnosis_id\": \"G43.909\"\n",
      "      },\n",
      "      {\n",
      "        \"diagnosis_id\": \"405\",\n",
      "        \"diagnosis_name\": \"Sinusitis\",\n",
      "        \"knowledge_window_url\": \"https://scst.isabelhealthcare.com/search_knowledge_advanced/knowledge_window?category_id=405&category_type=spc&diagnoses_name=Sinusitis&diagnoses_sub=405&age_id=5&sex=female&pregnancy=seen&region=1&text=headache&specialty_id=28&sessionId=9231809078fac8cac3e9d6a390475358&userid=4239&emr=true\",\n",
      "        \"gender\": null,\n",
      "        \"specialty\": \"LUNG CONDITIONS\",\n",
      "        \"red_flag\": \"false\",\n",
      "        \"common_diagnosis\": \"true\",\n",
      "        \"snomed_diagnosis_id\": \"36971009\",\n",
      "        \"icd9_diagnosis_id\": \"473.9\",\n",
      "        \"icd10_diagnosis_id\": \"J32.9\"\n",
      "      },\n",
      "      {\n",
      "        \"diagnosis_id\": \"1909\",\n",
      "        \"diagnosis_name\": \"Stress Headache\",\n",
      "        \"knowledge_window_url\": \"https://scst.isabelhealthcare.com/search_knowledge_advanced/knowledge_window?category_id=1909&category_type=standalone&diagnoses_name=Stress Headache&diagnoses_sub=1909&age_id=5&sex=female&pregnancy=seen&region=1&text=headache&specialty_id=28&sessionId=9231809078fac8cac3e9d6a390475358&userid=4239&emr=true\",\n",
      "        \"gender\": null,\n",
      "        \"specialty\": \"NERVOUS SYSTEM CONDITIONS\",\n",
      "        \"red_flag\": \"false\",\n",
      "        \"common_diagnosis\": \"true\",\n",
      "        \"snomed_diagnosis_id\": null,\n",
      "        \"icd9_diagnosis_id\": \"307.81\",\n",
      "        \"icd10_diagnosis_id\": \"R51\"\n",
      "      },\n",
      "      {\n",
      "        \"diagnosis_id\": \"10268\",\n",
      "        \"diagnosis_name\": \"Medication Overuse Headache\",\n",
      "        \"knowledge_window_url\": \"https://scst.isabelhealthcare.com/search_knowledge_advanced/knowledge_window?category_id=10268&category_type=standalone&diagnoses_name=Medication Overuse Headache&diagnoses_sub=10268&age_id=5&sex=female&pregnancy=seen&region=1&text=headache&specialty_id=28&sessionId=9231809078fac8cac3e9d6a390475358&userid=4239&emr=true\",\n",
      "        \"gender\": null,\n",
      "        \"specialty\": \"NERVOUS SYSTEM CONDITIONS\",\n",
      "        \"red_flag\": \"false\",\n",
      "        \"common_diagnosis\": \"false\",\n",
      "        \"snomed_diagnosis_id\": \"103012002\",\n",
      "        \"icd9_diagnosis_id\": \"339.3\",\n",
      "        \"icd10_diagnosis_id\": \"G44.41\"\n",
      "      },\n",
      "      {\n",
      "        \"diagnosis_id\": \"3621\",\n",
      "        \"diagnosis_name\": \"Pre-eclampsia\",\n",
      "        \"knowledge_window_url\": \"https://scst.isabelhealthcare.com/search_knowledge_advanced/knowledge_window?category_id=3621&category_type=standalone&diagnoses_name=Pre-eclampsia&diagnoses_sub=3621&age_id=5&sex=female&pregnancy=seen&region=1&text=headache&specialty_id=28&sessionId=9231809078fac8cac3e9d6a390475358&userid=4239&emr=true\",\n",
      "        \"gender\": \"female\",\n",
      "        \"specialty\": \"HEART / BLOOD VESSEL CONDITIONS\",\n",
      "        \"red_flag\": \"true\",\n",
      "        \"common_diagnosis\": \"true\",\n",
      "        \"snomed_diagnosis_id\": \"398254007\",\n",
      "        \"icd9_diagnosis_id\": \"624.40\",\n",
      "        \"icd10_diagnosis_id\": \"014.00\"\n",
      "      },\n",
      "      {\n",
      "        \"diagnosis_id\": \"6014\",\n",
      "        \"diagnosis_name\": \"Coital Headache\",\n",
      "        \"knowledge_window_url\": \"https://scst.isabelhealthcare.com/search_knowledge_advanced/knowledge_window?category_id=6014&category_type=standalone&diagnoses_name=Coital Headache&diagnoses_sub=6014&age_id=5&sex=female&pregnancy=seen&region=1&text=headache&specialty_id=28&sessionId=9231809078fac8cac3e9d6a390475358&userid=4239&emr=true\",\n",
      "        \"gender\": null,\n",
      "        \"specialty\": \"NERVOUS SYSTEM CONDITIONS\",\n",
      "        \"red_flag\": \"false\",\n",
      "        \"common_diagnosis\": \"false\",\n",
      "        \"snomed_diagnosis_id\": null,\n",
      "        \"icd9_diagnosis_id\": \"339.82\",\n",
      "        \"icd10_diagnosis_id\": \"G44.1\"\n",
      "      },\n",
      "      {\n",
      "        \"diagnosis_id\": \"6305\",\n",
      "        \"diagnosis_name\": \"Intracranial Headache\",\n",
      "        \"knowledge_window_url\": \"https://scst.isabelhealthcare.com/search_knowledge_advanced/knowledge_window?category_id=6305&category_type=standalone&diagnoses_name=Intracranial Headache&diagnoses_sub=6305&age_id=5&sex=female&pregnancy=seen&region=1&text=headache&specialty_id=28&sessionId=9231809078fac8cac3e9d6a390475358&userid=4239&emr=true\",\n",
      "        \"gender\": null,\n",
      "        \"specialty\": \"NERVOUS SYSTEM CONDITIONS\",\n",
      "        \"red_flag\": \"false\",\n",
      "        \"common_diagnosis\": \"false\",\n",
      "        \"snomed_diagnosis_id\": null,\n",
      "        \"icd9_diagnosis_id\": null,\n",
      "        \"icd10_diagnosis_id\": \"G44.1\"\n",
      "      },\n",
      "      {\n",
      "        \"diagnosis_id\": \"4912\",\n",
      "        \"diagnosis_name\": \"Pituitary Cancer\",\n",
      "        \"knowledge_window_url\": \"https://scst.isabelhealthcare.com/search_knowledge_advanced/knowledge_window?category_id=4912&category_type=spc&diagnoses_name=Pituitary Cancer&diagnoses_sub=4912&age_id=5&sex=female&pregnancy=seen&region=1&text=headache&specialty_id=28&sessionId=9231809078fac8cac3e9d6a390475358&userid=4239&emr=true\",\n",
      "        \"gender\": null,\n",
      "        \"specialty\": \"ENDOCRINE CONDITIONS\",\n",
      "        \"red_flag\": \"false\",\n",
      "        \"common_diagnosis\": \"false\",\n",
      "        \"snomed_diagnosis_id\": \"127024001\",\n",
      "        \"icd9_diagnosis_id\": \"239.7\",\n",
      "        \"icd10_diagnosis_id\": \"C75.1\"\n",
      "      },\n",
      "      {\n",
      "        \"diagnosis_id\": \"7362\",\n",
      "        \"diagnosis_name\": \"Postural Orthostatic Tachycardia Syndrome\",\n",
      "        \"knowledge_window_url\": \"https://scst.isabelhealthcare.com/search_knowledge_advanced/knowledge_window?category_id=7362&category_type=standalone&diagnoses_name=Postural Orthostatic Tachycardia Syndrome&diagnoses_sub=7362&age_id=5&sex=female&pregnancy=seen&region=1&text=headache&specialty_id=28&sessionId=9231809078fac8cac3e9d6a390475358&userid=4239&emr=true\",\n",
      "        \"gender\": null,\n",
      "        \"specialty\": \"NERVOUS SYSTEM CONDITIONS\",\n",
      "        \"red_flag\": \"false\",\n",
      "        \"common_diagnosis\": \"false\",\n",
      "        \"snomed_diagnosis_id\": \"371073003\",\n",
      "        \"icd9_diagnosis_id\": \"785.0\",\n",
      "        \"icd10_diagnosis_id\": \"I49.8\"\n",
      "      },\n",
      "      {\n",
      "        \"diagnosis_id\": \"3693\",\n",
      "        \"diagnosis_name\": \"Bacterial Meningitis\",\n",
      "        \"knowledge_window_url\": \"https://scst.isabelhealthcare.com/search_knowledge_advanced/knowledge_window?category_id=3693&category_type=spc&diagnoses_name=Bacterial Meningitis&diagnoses_sub=3693&age_id=5&sex=female&pregnancy=seen&region=1&text=headache&specialty_id=28&sessionId=9231809078fac8cac3e9d6a390475358&userid=4239&emr=true\",\n",
      "        \"gender\": null,\n",
      "        \"specialty\": \"INFECTIOUS CONDITIONS\",\n",
      "        \"red_flag\": \"true\",\n",
      "        \"common_diagnosis\": \"false\",\n",
      "        \"snomed_diagnosis_id\": \"95883001\",\n",
      "        \"icd9_diagnosis_id\": \"320.9\",\n",
      "        \"icd10_diagnosis_id\": \"G00.9\"\n",
      "      },\n",
      "      {\n",
      "        \"diagnosis_id\": \"6010\",\n",
      "        \"diagnosis_name\": \"Idiopathic Stabbing Headache\",\n",
      "        \"knowledge_window_url\": \"https://scst.isabelhealthcare.com/search_knowledge_advanced/knowledge_window?category_id=6010&category_type=standalone&diagnoses_name=Idiopathic Stabbing Headache&diagnoses_sub=6010&age_id=5&sex=female&pregnancy=seen&region=1&text=headache&specialty_id=28&sessionId=9231809078fac8cac3e9d6a390475358&userid=4239&emr=true\",\n",
      "        \"gender\": null,\n",
      "        \"specialty\": \"NERVOUS SYSTEM CONDITIONS\",\n",
      "        \"red_flag\": \"false\",\n",
      "        \"common_diagnosis\": \"false\",\n",
      "        \"snomed_diagnosis_id\": \"230481005\\u00c2\\u00a0\",\n",
      "        \"icd9_diagnosis_id\": \"339.85\",\n",
      "        \"icd10_diagnosis_id\": \"G44.85\"\n",
      "      },\n",
      "      {\n",
      "        \"diagnosis_id\": \"3253\",\n",
      "        \"diagnosis_name\": \"Viral Meningoencephalitis\",\n",
      "        \"knowledge_window_url\": \"https://scst.isabelhealthcare.com/search_knowledge_advanced/knowledge_window?category_id=3253&category_type=spc&diagnoses_name=Viral Meningoencephalitis&diagnoses_sub=3253&age_id=5&sex=female&pregnancy=seen&region=1&text=headache&specialty_id=28&sessionId=9231809078fac8cac3e9d6a390475358&userid=4239&emr=true\",\n",
      "        \"gender\": null,\n",
      "        \"specialty\": \"INFECTIOUS CONDITIONS\",\n",
      "        \"red_flag\": \"true\",\n",
      "        \"common_diagnosis\": \"false\",\n",
      "        \"snomed_diagnosis_id\": \"34476008\",\n",
      "        \"icd9_diagnosis_id\": \"049.9\",\n",
      "        \"icd10_diagnosis_id\": \"A86\"\n",
      "      },\n",
      "      {\n",
      "        \"diagnosis_id\": \"4297\",\n",
      "        \"diagnosis_name\": \"Traumatic Brain Injury\",\n",
      "        \"knowledge_window_url\": \"https://scst.isabelhealthcare.com/search_knowledge_advanced/knowledge_window?category_id=4297&category_type=spc&diagnoses_name=Traumatic Brain Injury&diagnoses_sub=4297&age_id=5&sex=female&pregnancy=seen&region=1&text=headache&specialty_id=28&sessionId=9231809078fac8cac3e9d6a390475358&userid=4239&emr=true\",\n",
      "        \"gender\": null,\n",
      "        \"specialty\": \"NERVOUS SYSTEM CONDITIONS\",\n",
      "        \"red_flag\": \"true\",\n",
      "        \"common_diagnosis\": \"true\",\n",
      "        \"snomed_diagnosis_id\": \"82271004\",\n",
      "        \"icd9_diagnosis_id\": \"959.01\",\n",
      "        \"icd10_diagnosis_id\": \"S09.90XA\"\n",
      "      },\n",
      "      {\n",
      "        \"diagnosis_id\": \"1934\",\n",
      "        \"diagnosis_name\": \"Chiari Malformation\",\n",
      "        \"knowledge_window_url\": \"https://scst.isabelhealthcare.com/search_knowledge_advanced/knowledge_window?category_id=1934&category_type=standalone&diagnoses_name=Chiari Malformation&diagnoses_sub=1934&age_id=5&sex=female&pregnancy=seen&region=1&text=headache&specialty_id=28&sessionId=9231809078fac8cac3e9d6a390475358&userid=4239&emr=true\",\n",
      "        \"gender\": null,\n",
      "        \"specialty\": \"NERVOUS SYSTEM CONDITIONS\",\n",
      "        \"red_flag\": \"false\",\n",
      "        \"common_diagnosis\": \"false\",\n",
      "        \"snomed_diagnosis_id\": \"253184003\",\n",
      "        \"icd9_diagnosis_id\": \"741.00\",\n",
      "        \"icd10_diagnosis_id\": \"Q07.0\"\n",
      "      },\n",
      "      {\n",
      "        \"diagnosis_id\": \"14854\",\n",
      "        \"diagnosis_name\": \"Alcohol Hangover\",\n",
      "        \"knowledge_window_url\": \"https://scst.isabelhealthcare.com/search_knowledge_advanced/knowledge_window?category_id=14854&category_type=standalone&diagnoses_name=Alcohol Hangover&diagnoses_sub=14854&age_id=5&sex=female&pregnancy=seen&region=1&text=headache&specialty_id=28&sessionId=9231809078fac8cac3e9d6a390475358&userid=4239&emr=true\",\n",
      "        \"gender\": null,\n",
      "        \"specialty\": \"TOXIC CONDITIONS\",\n",
      "        \"red_flag\": \"false\",\n",
      "        \"common_diagnosis\": \"true\",\n",
      "        \"snomed_diagnosis_id\": null,\n",
      "        \"icd9_diagnosis_id\": null,\n",
      "        \"icd10_diagnosis_id\": \"F10.129\"\n",
      "      },\n",
      "      {\n",
      "        \"diagnosis_id\": \"1996\",\n",
      "        \"diagnosis_name\": \"Brain Abscess\",\n",
      "        \"knowledge_window_url\": \"https://scst.isabelhealthcare.com/search_knowledge_advanced/knowledge_window?category_id=1996&category_type=spc&diagnoses_name=Brain Abscess&diagnoses_sub=1996&age_id=5&sex=female&pregnancy=seen&region=1&text=headache&specialty_id=28&sessionId=9231809078fac8cac3e9d6a390475358&userid=4239&emr=true\",\n",
      "        \"gender\": null,\n",
      "        \"specialty\": \"INFECTIOUS CONDITIONS\",\n",
      "        \"red_flag\": \"true\",\n",
      "        \"common_diagnosis\": \"false\",\n",
      "        \"snomed_diagnosis_id\": \"27614006\",\n",
      "        \"icd9_diagnosis_id\": \"324.0\",\n",
      "        \"icd10_diagnosis_id\": \"G06.0\"\n",
      "      },\n",
      "      {\n",
      "        \"diagnosis_id\": \"14967\",\n",
      "        \"diagnosis_name\": \"Caffeine Withdrawal\",\n",
      "        \"knowledge_window_url\": \"https://scst.isabelhealthcare.com/search_knowledge_advanced/knowledge_window?category_id=14967&category_type=standalone&diagnoses_name=Caffeine Withdrawal&diagnoses_sub=14967&age_id=5&sex=female&pregnancy=seen&region=1&text=headache&specialty_id=28&sessionId=9231809078fac8cac3e9d6a390475358&userid=4239&emr=true\",\n",
      "        \"gender\": null,\n",
      "        \"specialty\": \"TOXIC CONDITIONS\",\n",
      "        \"red_flag\": \"false\",\n",
      "        \"common_diagnosis\": \"false\",\n",
      "        \"snomed_diagnosis_id\": null,\n",
      "        \"icd9_diagnosis_id\": null,\n",
      "        \"icd10_diagnosis_id\": \"F15.2\"\n",
      "      },\n",
      "      {\n",
      "        \"diagnosis_id\": \"7037\",\n",
      "        \"diagnosis_name\": \"Fibromyalgia\",\n",
      "        \"knowledge_window_url\": \"https://scst.isabelhealthcare.com/search_knowledge_advanced/knowledge_window?category_id=7037&category_type=standalone&diagnoses_name=Fibromyalgia&diagnoses_sub=7037&age_id=5&sex=female&pregnancy=seen&region=1&text=headache&specialty_id=28&sessionId=9231809078fac8cac3e9d6a390475358&userid=4239&emr=true\",\n",
      "        \"gender\": null,\n",
      "        \"specialty\": \"RHEUMATIC CONDITIONS\",\n",
      "        \"red_flag\": \"false\",\n",
      "        \"common_diagnosis\": \"true\",\n",
      "        \"snomed_diagnosis_id\": \"24693007\",\n",
      "        \"icd9_diagnosis_id\": \"729.1\",\n",
      "        \"icd10_diagnosis_id\": \"M79.7\"\n",
      "      },\n",
      "      {\n",
      "        \"diagnosis_id\": \"14618\",\n",
      "        \"diagnosis_name\": \"Reversible Cerebral Vasoconstriction Syndrome\",\n",
      "        \"knowledge_window_url\": \"https://scst.isabelhealthcare.com/search_knowledge_advanced/knowledge_window?category_id=14618&category_type=standalone&diagnoses_name=Reversible Cerebral Vasoconstriction Syndrome&diagnoses_sub=14618&age_id=5&sex=female&pregnancy=seen&region=1&text=headache&specialty_id=28&sessionId=9231809078fac8cac3e9d6a390475358&userid=4239&emr=true\",\n",
      "        \"gender\": null,\n",
      "        \"specialty\": \"NERVOUS SYSTEM CONDITIONS\",\n",
      "        \"red_flag\": \"false\",\n",
      "        \"common_diagnosis\": \"false\",\n",
      "        \"snomed_diagnosis_id\": null,\n",
      "        \"icd9_diagnosis_id\": null,\n",
      "        \"icd10_diagnosis_id\": \"I67.841\"\n",
      "      },\n",
      "      {\n",
      "        \"diagnosis_id\": \"2293\",\n",
      "        \"diagnosis_name\": \"Lyme Disease\",\n",
      "        \"knowledge_window_url\": \"https://scst.isabelhealthcare.com/search_knowledge_advanced/knowledge_window?category_id=2293&category_type=standalone&diagnoses_name=Lyme Disease&diagnoses_sub=2293&age_id=5&sex=female&pregnancy=seen&region=1&text=headache&specialty_id=28&sessionId=9231809078fac8cac3e9d6a390475358&userid=4239&emr=true\",\n",
      "        \"gender\": null,\n",
      "        \"specialty\": \"INFECTIOUS CONDITIONS\",\n",
      "        \"red_flag\": \"false\",\n",
      "        \"common_diagnosis\": \"false\",\n",
      "        \"snomed_diagnosis_id\": \"23502006\",\n",
      "        \"icd9_diagnosis_id\": \"088.81\",\n",
      "        \"icd10_diagnosis_id\": \"A69.2\"\n",
      "      },\n",
      "      {\n",
      "        \"diagnosis_id\": \"3375\",\n",
      "        \"diagnosis_name\": \"Cerebral Sinus Venous Thrombosis\",\n",
      "        \"knowledge_window_url\": \"https://scst.isabelhealthcare.com/search_knowledge_advanced/knowledge_window?category_id=3375&category_type=spc&diagnoses_name=Cerebral Sinus Venous Thrombosis&diagnoses_sub=3375&age_id=5&sex=female&pregnancy=seen&region=1&text=headache&specialty_id=28&sessionId=9231809078fac8cac3e9d6a390475358&userid=4239&emr=true\",\n",
      "        \"gender\": null,\n",
      "        \"specialty\": \"NERVOUS SYSTEM CONDITIONS\",\n",
      "        \"red_flag\": \"true\",\n",
      "        \"common_diagnosis\": \"false\",\n",
      "        \"snomed_diagnosis_id\": \"192759008\",\n",
      "        \"icd9_diagnosis_id\": \"325\",\n",
      "        \"icd10_diagnosis_id\": \"I63.6\"\n",
      "      },\n",
      "      {\n",
      "        \"diagnosis_id\": \"1984\",\n",
      "        \"diagnosis_name\": \"Stroke\",\n",
      "        \"knowledge_window_url\": \"https://scst.isabelhealthcare.com/search_knowledge_advanced/knowledge_window?category_id=1984&category_type=spc&diagnoses_name=Stroke&diagnoses_sub=1984&age_id=5&sex=female&pregnancy=seen&region=1&text=headache&specialty_id=28&sessionId=9231809078fac8cac3e9d6a390475358&userid=4239&emr=true\",\n",
      "        \"gender\": null,\n",
      "        \"specialty\": \"NERVOUS SYSTEM CONDITIONS\",\n",
      "        \"red_flag\": \"true\",\n",
      "        \"common_diagnosis\": \"true\",\n",
      "        \"snomed_diagnosis_id\": \"230690007\",\n",
      "        \"icd9_diagnosis_id\": \"434.91\",\n",
      "        \"icd10_diagnosis_id\": \"I63.9\"\n",
      "      },\n",
      "      {\n",
      "        \"diagnosis_id\": \"5965\",\n",
      "        \"diagnosis_name\": \"Colloid Cyst\",\n",
      "        \"knowledge_window_url\": \"https://scst.isabelhealthcare.com/search_knowledge_advanced/knowledge_window?category_id=5965&category_type=standalone&diagnoses_name=Colloid Cyst&diagnoses_sub=5965&age_id=5&sex=female&pregnancy=seen&region=1&text=headache&specialty_id=28&sessionId=9231809078fac8cac3e9d6a390475358&userid=4239&emr=true\",\n",
      "        \"gender\": null,\n",
      "        \"specialty\": \"NERVOUS SYSTEM CONDITIONS\",\n",
      "        \"red_flag\": \"false\",\n",
      "        \"common_diagnosis\": \"false\",\n",
      "        \"snomed_diagnosis_id\": \"21350002\",\n",
      "        \"icd9_diagnosis_id\": \"742.4\",\n",
      "        \"icd10_diagnosis_id\": \"L72.11\"\n",
      "      },\n",
      "      {\n",
      "        \"diagnosis_id\": \"415\",\n",
      "        \"diagnosis_name\": \"Sleep Apnea\",\n",
      "        \"knowledge_window_url\": \"https://scst.isabelhealthcare.com/search_knowledge_advanced/knowledge_window?category_id=415&category_type=spc&diagnoses_name=Sleep Apnea&diagnoses_sub=415&age_id=5&sex=female&pregnancy=seen&region=1&text=headache&specialty_id=28&sessionId=9231809078fac8cac3e9d6a390475358&userid=4239&emr=true\",\n",
      "        \"gender\": null,\n",
      "        \"specialty\": \"LUNG CONDITIONS\",\n",
      "        \"red_flag\": \"false\",\n",
      "        \"common_diagnosis\": \"true\",\n",
      "        \"snomed_diagnosis_id\": \"73430006\",\n",
      "        \"icd9_diagnosis_id\": \"780.57\",\n",
      "        \"icd10_diagnosis_id\": \"G47.39\"\n",
      "      },\n",
      "      {\n",
      "        \"diagnosis_id\": \"7488\",\n",
      "        \"diagnosis_name\": \"Intracranial Hypotension\",\n",
      "        \"knowledge_window_url\": \"https://scst.isabelhealthcare.com/search_knowledge_advanced/knowledge_window?category_id=7488&category_type=spc&diagnoses_name=Intracranial Hypotension&diagnoses_sub=7488&age_id=5&sex=female&pregnancy=seen&region=1&text=headache&specialty_id=28&sessionId=9231809078fac8cac3e9d6a390475358&userid=4239&emr=true\",\n",
      "        \"gender\": null,\n",
      "        \"specialty\": \"NERVOUS SYSTEM CONDITIONS\",\n",
      "        \"red_flag\": \"false\",\n",
      "        \"common_diagnosis\": \"false\",\n",
      "        \"snomed_diagnosis_id\": null,\n",
      "        \"icd9_diagnosis_id\": \"348.89\",\n",
      "        \"icd10_diagnosis_id\": \"G98.8\"\n",
      "      },\n",
      "      {\n",
      "        \"diagnosis_id\": \"2145\",\n",
      "        \"diagnosis_name\": \"Meningococcal Meningitis\",\n",
      "        \"knowledge_window_url\": \"https://scst.isabelhealthcare.com/search_knowledge_advanced/knowledge_window?category_id=2145&category_type=standalone&diagnoses_name=Meningococcal Meningitis&diagnoses_sub=2145&age_id=5&sex=female&pregnancy=seen&region=1&text=headache&specialty_id=28&sessionId=9231809078fac8cac3e9d6a390475358&userid=4239&emr=true\",\n",
      "        \"gender\": null,\n",
      "        \"specialty\": \"INFECTIOUS CONDITIONS\",\n",
      "        \"red_flag\": \"true\",\n",
      "        \"common_diagnosis\": \"false\",\n",
      "        \"snomed_diagnosis_id\": \"23511006\",\n",
      "        \"icd9_diagnosis_id\": \"036.9\",\n",
      "        \"icd10_diagnosis_id\": \"A39.9\"\n",
      "      },\n",
      "      {\n",
      "        \"diagnosis_id\": \"1941\",\n",
      "        \"diagnosis_name\": \"Mitochondrial Encephalomyopathies\",\n",
      "        \"knowledge_window_url\": \"https://scst.isabelhealthcare.com/search_knowledge_advanced/knowledge_window?category_id=1941&category_type=spc&diagnoses_name=Mitochondrial Encephalomyopathies&diagnoses_sub=1941&age_id=5&sex=female&pregnancy=seen&region=1&text=headache&specialty_id=28&sessionId=9231809078fac8cac3e9d6a390475358&userid=4239&emr=true\",\n",
      "        \"gender\": null,\n",
      "        \"specialty\": \"NERVOUS SYSTEM CONDITIONS\",\n",
      "        \"red_flag\": \"false\",\n",
      "        \"common_diagnosis\": \"false\",\n",
      "        \"snomed_diagnosis_id\": \"237986005\",\n",
      "        \"icd9_diagnosis_id\": \"277.87\",\n",
      "        \"icd10_diagnosis_id\": \"G71.3\"\n",
      "      },\n",
      "      {\n",
      "        \"diagnosis_id\": \"1099\",\n",
      "        \"diagnosis_name\": \"Carbon Monoxide Toxicity\",\n",
      "        \"knowledge_window_url\": \"https://scst.isabelhealthcare.com/search_knowledge_advanced/knowledge_window?category_id=1099&category_type=standalone&diagnoses_name=Carbon Monoxide Toxicity&diagnoses_sub=1099&age_id=5&sex=female&pregnancy=seen&region=1&text=headache&specialty_id=28&sessionId=9231809078fac8cac3e9d6a390475358&userid=4239&emr=true\",\n",
      "        \"gender\": null,\n",
      "        \"specialty\": \"TOXIC CONDITIONS\",\n",
      "        \"red_flag\": \"true\",\n",
      "        \"common_diagnosis\": \"false\",\n",
      "        \"snomed_diagnosis_id\": \"17383000\",\n",
      "        \"icd9_diagnosis_id\": \"986\",\n",
      "        \"icd10_diagnosis_id\": \"T58.2X1\"\n",
      "      },\n",
      "      {\n",
      "        \"diagnosis_id\": \"6011\",\n",
      "        \"diagnosis_name\": \"Exertional Headache\",\n",
      "        \"knowledge_window_url\": \"https://scst.isabelhealthcare.com/search_knowledge_advanced/knowledge_window?category_id=6011&category_type=standalone&diagnoses_name=Exertional Headache&diagnoses_sub=6011&age_id=5&sex=female&pregnancy=seen&region=1&text=headache&specialty_id=28&sessionId=9231809078fac8cac3e9d6a390475358&userid=4239&emr=true\",\n",
      "        \"gender\": null,\n",
      "        \"specialty\": \"NERVOUS SYSTEM CONDITIONS\",\n",
      "        \"red_flag\": \"false\",\n",
      "        \"common_diagnosis\": \"false\",\n",
      "        \"snomed_diagnosis_id\": \"103011009\",\n",
      "        \"icd9_diagnosis_id\": \"784.0\",\n",
      "        \"icd10_diagnosis_id\": \"G44.84\"\n",
      "      },\n",
      "      {\n",
      "        \"diagnosis_id\": \"3587\",\n",
      "        \"diagnosis_name\": \"Adrenal Cancer\",\n",
      "        \"knowledge_window_url\": \"https://scst.isabelhealthcare.com/search_knowledge_advanced/knowledge_window?category_id=3587&category_type=spc&diagnoses_name=Adrenal Cancer&diagnoses_sub=3587&age_id=5&sex=female&pregnancy=seen&region=1&text=headache&specialty_id=28&sessionId=9231809078fac8cac3e9d6a390475358&userid=4239&emr=true\",\n",
      "        \"gender\": null,\n",
      "        \"specialty\": \"ENDOCRINE CONDITIONS\",\n",
      "        \"red_flag\": \"false\",\n",
      "        \"common_diagnosis\": \"false\",\n",
      "        \"snomed_diagnosis_id\": \"127021009\",\n",
      "        \"icd9_diagnosis_id\": \"239.7\",\n",
      "        \"icd10_diagnosis_id\": \"C74.90\"\n",
      "      },\n",
      "      {\n",
      "        \"diagnosis_id\": \"5913\",\n",
      "        \"diagnosis_name\": \"Cough Headache Syndrome\",\n",
      "        \"knowledge_window_url\": \"https://scst.isabelhealthcare.com/search_knowledge_advanced/knowledge_window?category_id=5913&category_type=standalone&diagnoses_name=Cough Headache Syndrome&diagnoses_sub=5913&age_id=5&sex=female&pregnancy=seen&region=1&text=headache&specialty_id=28&sessionId=9231809078fac8cac3e9d6a390475358&userid=4239&emr=true\",\n",
      "        \"gender\": null,\n",
      "        \"specialty\": \"NERVOUS SYSTEM CONDITIONS\",\n",
      "        \"red_flag\": \"false\",\n",
      "        \"common_diagnosis\": \"false\",\n",
      "        \"snomed_diagnosis_id\": \"95658004\",\n",
      "        \"icd9_diagnosis_id\": \"339.83\",\n",
      "        \"icd10_diagnosis_id\": \"G44.83\"\n",
      "      }\n",
      "    ]\n",
      "  }\n",
      "}\n"
     ]
    }
   ],
   "source": [
    "print(api_resp)"
   ]
  },
  {
   "cell_type": "markdown",
   "id": "3dd0bc1a-2200-49f5-b3d1-af2bb341ae6e",
   "metadata": {
    "heading_collapsed": "true",
    "tags": [],
    "toc-hr-collapsed": true
   },
   "source": [
    "#### Printing API output into file"
   ]
  },
  {
   "cell_type": "code",
   "execution_count": null,
   "id": "f9ee71c0-c26f-46f1-9d3b-9dba54778d2f",
   "metadata": {},
   "outputs": [],
   "source": [
    "path = out_loc + inout_files[method][\"output\"]\n",
    "path"
   ]
  },
  {
   "cell_type": "code",
   "execution_count": null,
   "id": "1cc6779b-75ec-4332-98ef-7149b6cf35a5",
   "metadata": {},
   "outputs": [],
   "source": [
    "write_json(path, req.text)"
   ]
  },
  {
   "cell_type": "markdown",
   "id": "0ecca7b8-cac2-4598-9f22-8162a2695a41",
   "metadata": {
    "tags": [],
    "toc-hr-collapsed": true
   },
   "source": [
    "### Triage score"
   ]
  },
  {
   "cell_type": "markdown",
   "id": "28985321-b147-452f-8748-ba4c5c2da3a2",
   "metadata": {
    "heading_collapsed": "true",
    "tags": []
   },
   "source": [
    "#### Building API request"
   ]
  },
  {
   "cell_type": "code",
   "execution_count": null,
   "id": "b44776e5-2066-4637-a1ce-3c559660cd7d",
   "metadata": {},
   "outputs": [],
   "source": [
    "method = \"triage_score\""
   ]
  },
  {
   "cell_type": "code",
   "execution_count": null,
   "id": "219faeb6-2e74-4ce8-b7e6-8ee53003a7d5",
   "metadata": {},
   "outputs": [],
   "source": [
    "api_call_url = url_api_request(method)"
   ]
  },
  {
   "cell_type": "code",
   "execution_count": null,
   "id": "06c531f5-120c-45aa-b2e9-fd7964a3bcff",
   "metadata": {},
   "outputs": [],
   "source": [
    "api_call_url"
   ]
  },
  {
   "cell_type": "markdown",
   "id": "012f67a8-da02-472d-8cbe-80d291901f50",
   "metadata": {
    "heading_collapsed": "true",
    "tags": []
   },
   "source": [
    "#### Getting API request"
   ]
  },
  {
   "cell_type": "code",
   "execution_count": null,
   "id": "a52e8102-9418-4018-b205-7244aaa9d176",
   "metadata": {},
   "outputs": [],
   "source": [
    "req = requests.get(api_call_url)\n",
    "req"
   ]
  },
  {
   "cell_type": "code",
   "execution_count": null,
   "id": "f38e5a5f-e879-4c7d-9770-c407e21a8c55",
   "metadata": {},
   "outputs": [],
   "source": [
    "req.text"
   ]
  },
  {
   "cell_type": "code",
   "execution_count": null,
   "id": "f9ec12f6-5eb5-4f1d-b388-f8bee12518a5",
   "metadata": {},
   "outputs": [],
   "source": [
    "x1 = clean_api_request(req.text)\n",
    "x1"
   ]
  },
  {
   "cell_type": "code",
   "execution_count": null,
   "id": "13431ed9-55ed-46c3-97ed-d5c4433ff6f4",
   "metadata": {},
   "outputs": [],
   "source": [
    "x2 = json.loads(x1)\n",
    "x2"
   ]
  },
  {
   "cell_type": "code",
   "execution_count": null,
   "id": "a3c07ece-80de-4adf-8e8c-5255086d69c2",
   "metadata": {},
   "outputs": [],
   "source": [
    "x2[\"where_to_now\"]"
   ]
  },
  {
   "cell_type": "code",
   "execution_count": null,
   "id": "049f10b7-be3c-4a73-b2df-c745389f59e4",
   "metadata": {},
   "outputs": [],
   "source": [
    "x2[\"salchica\"] = True"
   ]
  },
  {
   "cell_type": "code",
   "execution_count": null,
   "id": "7ca04e4a-fc1c-4895-a295-2a8f1fbf4998",
   "metadata": {},
   "outputs": [],
   "source": [
    "x2"
   ]
  },
  {
   "cell_type": "code",
   "execution_count": null,
   "id": "3eae5d3b-c616-4ee1-8dfe-8c394c1bd442",
   "metadata": {},
   "outputs": [],
   "source": []
  },
  {
   "cell_type": "code",
   "execution_count": null,
   "id": "d6deea7d-2144-484a-bc14-68ac4bd37511",
   "metadata": {
    "scrolled": true,
    "tags": []
   },
   "outputs": [],
   "source": [
    "api_resp = api_clean_response(req.text)"
   ]
  },
  {
   "cell_type": "code",
   "execution_count": null,
   "id": "54f3398f-03aa-4a74-8d8d-68f850b08fb0",
   "metadata": {
    "scrolled": true,
    "tags": []
   },
   "outputs": [],
   "source": [
    "print(api_resp)"
   ]
  },
  {
   "cell_type": "code",
   "execution_count": null,
   "id": "b5062235-0f27-4488-afcd-87f78617aa68",
   "metadata": {},
   "outputs": [],
   "source": [
    "api_resp"
   ]
  },
  {
   "cell_type": "markdown",
   "id": "6f593596-345b-4ca2-806f-6076540d65a9",
   "metadata": {
    "heading_collapsed": "true",
    "tags": []
   },
   "source": [
    "#### Printing API output into file"
   ]
  },
  {
   "cell_type": "code",
   "execution_count": null,
   "id": "328af57a-185b-4bb5-9470-9a40a5a765cf",
   "metadata": {},
   "outputs": [],
   "source": [
    "path = out_loc + inout_files[method][\"output\"]\n",
    "path"
   ]
  },
  {
   "cell_type": "code",
   "execution_count": null,
   "id": "854004fc-6bdd-4764-8c4e-88b88e5866f3",
   "metadata": {},
   "outputs": [],
   "source": [
    "write_json(path, req.text)"
   ]
  },
  {
   "cell_type": "markdown",
   "id": "4b8c7857-fc66-44f5-afd9-bfbb367d088f",
   "metadata": {},
   "source": [
    "---"
   ]
  },
  {
   "cell_type": "markdown",
   "id": "924a3d09-25df-4bfe-b3dc-fbdd1b24c731",
   "metadata": {
    "tags": []
   },
   "source": [
    "## *Notes*"
   ]
  },
  {
   "cell_type": "markdown",
   "id": "93907d09-f8fe-4b18-bbf6-e766f4182051",
   "metadata": {
    "tags": [],
    "toc-hr-collapsed": true
   },
   "source": [
    "### API Examples "
   ]
  },
  {
   "cell_type": "markdown",
   "id": "e73a76ad-81e6-44cb-83dc-870a911b0ea8",
   "metadata": {
    "tags": []
   },
   "source": [
    "#### Chicago data"
   ]
  },
  {
   "cell_type": "code",
   "execution_count": null,
   "id": "0037cb58-4fb0-4448-8962-5914399ecaf7",
   "metadata": {},
   "outputs": [],
   "source": [
    "ex_url = \"https://data.cityofchicago.org/resource/f7f2-ggz5.json\""
   ]
  },
  {
   "cell_type": "code",
   "execution_count": null,
   "id": "3fb6a69d-9352-465f-b988-50bdc61a6be3",
   "metadata": {},
   "outputs": [],
   "source": [
    "client = Socrata(ex_url)"
   ]
  },
  {
   "cell_type": "markdown",
   "id": "165988a0-fa87-42b9-99db-41930f98743d",
   "metadata": {
    "tags": []
   },
   "source": [
    "#### Open Notify"
   ]
  },
  {
   "cell_type": "code",
   "execution_count": null,
   "id": "cc97c18d-6677-4e7e-9bfb-48a9cf93f3b1",
   "metadata": {
    "scrolled": true,
    "tags": []
   },
   "outputs": [],
   "source": [
    "req = requests.get('http://api.open-notify.org')\n",
    "print(request.text)"
   ]
  },
  {
   "cell_type": "markdown",
   "id": "96e6c798-18e3-4680-9991-7b91961147cb",
   "metadata": {
    "tags": [],
    "toc-hr-collapsed": true
   },
   "source": [
    "### Pasting Keys to URL"
   ]
  },
  {
   "cell_type": "code",
   "execution_count": null,
   "id": "779a3e1e-bb9b-43a5-ba57-50489eae28ec",
   "metadata": {},
   "outputs": [],
   "source": [
    "ag_url_auth = \"https://apiscsandbox.isabelhealthcare.com/v2/age_groups?callback=age_groups&authorization=QDDb180BilBk7209QqFikW1iqjOx2yjt&language=english&web_service=json\"\n",
    "ag_url_auth"
   ]
  },
  {
   "cell_type": "code",
   "execution_count": null,
   "id": "8d42da33-cb3e-41a9-8f17-80ea1ccecb79",
   "metadata": {},
   "outputs": [],
   "source": [
    "mthd = \"age_groups\""
   ]
  },
  {
   "cell_type": "code",
   "execution_count": null,
   "id": "90a7c0cf-aee2-4a97-842f-74edd1ca33d1",
   "metadata": {},
   "outputs": [],
   "source": [
    "x = url_api_request(mthd)\n",
    "x"
   ]
  },
  {
   "cell_type": "markdown",
   "id": "11c81f48-16b1-4c4e-addb-1990fd299cb0",
   "metadata": {
    "tags": [],
    "toc-hr-collapsed": true
   },
   "source": [
    "### Reading a JSON file"
   ]
  },
  {
   "cell_type": "code",
   "execution_count": null,
   "id": "4f9a6462-3629-4d61-94af-c589ebcfc131",
   "metadata": {},
   "outputs": [],
   "source": [
    "pth = \"../feed/\""
   ]
  },
  {
   "cell_type": "code",
   "execution_count": null,
   "id": "a8677100-9ab9-423f-9261-af365010c9cb",
   "metadata": {},
   "outputs": [],
   "source": [
    "feed_name = \"age_request.json\""
   ]
  },
  {
   "cell_type": "code",
   "execution_count": null,
   "id": "30e6747b-c088-4268-b4ee-1b310c002f4f",
   "metadata": {},
   "outputs": [],
   "source": [
    "pth + feed_name"
   ]
  },
  {
   "cell_type": "code",
   "execution_count": null,
   "id": "4e949370-d0ef-44c5-97b1-312c884014da",
   "metadata": {},
   "outputs": [],
   "source": [
    "f = open(pth + feed_name, )"
   ]
  },
  {
   "cell_type": "code",
   "execution_count": null,
   "id": "8721ade2-f7e4-4933-9a62-952e32f614a2",
   "metadata": {},
   "outputs": [],
   "source": [
    "f2 = json.load(f)"
   ]
  },
  {
   "cell_type": "code",
   "execution_count": null,
   "id": "da19691c-de4a-4e90-8c3d-de6907fd7fa5",
   "metadata": {},
   "outputs": [],
   "source": [
    "f2"
   ]
  },
  {
   "cell_type": "code",
   "execution_count": null,
   "id": "3e347016-ea02-4bbf-8b1f-f12bb6be6ce8",
   "metadata": {},
   "outputs": [],
   "source": [
    "type(f2)"
   ]
  },
  {
   "cell_type": "code",
   "execution_count": null,
   "id": "b3c2de33-55e5-420e-ba13-65af806e8b8f",
   "metadata": {},
   "outputs": [],
   "source": [
    "f2[\"language\"]"
   ]
  },
  {
   "cell_type": "markdown",
   "id": "84dee052-2b7a-4b96-a9e3-dc862796756e",
   "metadata": {
    "tags": [],
    "toc-hr-collapsed": true
   },
   "source": [
    "### Writing a JSON file"
   ]
  },
  {
   "cell_type": "code",
   "execution_count": null,
   "id": "b754bdb2-0016-4d6b-84e0-53dfa12c55f1",
   "metadata": {},
   "outputs": [],
   "source": [
    "pth = \"../output/\""
   ]
  },
  {
   "cell_type": "code",
   "execution_count": null,
   "id": "1963d018-a25c-4543-b679-8d29d8fafcd6",
   "metadata": {},
   "outputs": [],
   "source": [
    "out_file = \"output_test.json\""
   ]
  },
  {
   "cell_type": "code",
   "execution_count": null,
   "id": "1b4c6e01-ad17-4c49-832e-14eb2009621c",
   "metadata": {
    "scrolled": true,
    "tags": []
   },
   "outputs": [],
   "source": [
    "req.text"
   ]
  },
  {
   "cell_type": "code",
   "execution_count": null,
   "id": "0d39e1b0-f202-4ee8-9da3-52a757c7f135",
   "metadata": {},
   "outputs": [],
   "source": [
    "jsonFile = open(pth + out_file, \"w\")"
   ]
  },
  {
   "cell_type": "code",
   "execution_count": null,
   "id": "c9eedb32-2713-4f15-bda9-0bba0403156a",
   "metadata": {},
   "outputs": [],
   "source": [
    "jsonFile.write(api_clean_response(req.text))\n",
    "\n",
    "jsonFile.close()"
   ]
  },
  {
   "cell_type": "markdown",
   "id": "9900eda3-6938-4d57-9fb8-b7a1739263fc",
   "metadata": {},
   "source": [
    "---\n",
    "---"
   ]
  }
 ],
 "metadata": {
  "kernelspec": {
   "display_name": "Python 3 (ipykernel)",
   "language": "python",
   "name": "python3"
  },
  "language_info": {
   "codemirror_mode": {
    "name": "ipython",
    "version": 3
   },
   "file_extension": ".py",
   "mimetype": "text/x-python",
   "name": "python",
   "nbconvert_exporter": "python",
   "pygments_lexer": "ipython3",
   "version": "3.9.1"
  },
  "toc-autonumbering": false,
  "toc-showcode": false,
  "toc-showmarkdowntxt": false
 },
 "nbformat": 4,
 "nbformat_minor": 5
}
